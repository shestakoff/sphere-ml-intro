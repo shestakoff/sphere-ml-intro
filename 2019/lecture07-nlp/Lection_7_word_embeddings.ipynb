{
 "cells": [
  {
   "cell_type": "markdown",
   "metadata": {},
   "source": [
    "### Загрузим датасет новостей и обучим word2vec."
   ]
  },
  {
   "cell_type": "code",
   "execution_count": 2,
   "metadata": {},
   "outputs": [],
   "source": [
    "from sklearn.datasets import fetch_20newsgroups\n",
    "from string import punctuation\n",
    "from gensim.models import Word2Vec"
   ]
  },
  {
   "cell_type": "code",
   "execution_count": 3,
   "metadata": {},
   "outputs": [
    {
     "name": "stderr",
     "output_type": "stream",
     "text": [
      "Downloading 20news dataset. This may take a few minutes.\n",
      "Downloading dataset from https://ndownloader.figshare.com/files/5975967 (14 MB)\n"
     ]
    }
   ],
   "source": [
    "data = fetch_20newsgroups()"
   ]
  },
  {
   "cell_type": "markdown",
   "metadata": {},
   "source": [
    "Пример текста"
   ]
  },
  {
   "cell_type": "code",
   "execution_count": 8,
   "metadata": {},
   "outputs": [
    {
     "data": {
      "text/plain": [
       "\"From: lerxst@wam.umd.edu (where's my thing)\\nSubject: WHAT car is this!?\\nNntp-Posting-Host: rac3.wam.umd.edu\\nOrganization: University of Maryland, College Park\\nLines: 15\\n\\n I was wondering if anyone out there could enlighten me on this car I saw\\nthe other day. It was a 2-door sports car, looked to be from the late 60s/\\nearly 70s. It was called a Bricklin. The doors were really small. In addition,\\nthe front bumper was separate from the rest of the body. This is \\nall I know. If anyone can tellme a model name, engine specs, years\\nof production, where this car is made, history, or whatever info you\\nhave on this funky looking car, please e-mail.\\n\\nThanks,\\n- IL\\n   ---- brought to you by your neighborhood Lerxst ----\\n\\n\\n\\n\\n\""
      ]
     },
     "execution_count": 8,
     "metadata": {},
     "output_type": "execute_result"
    }
   ],
   "source": [
    "data['data'][0]"
   ]
  },
  {
   "cell_type": "markdown",
   "metadata": {},
   "source": [
    "Делаем предобработку"
   ]
  },
  {
   "cell_type": "code",
   "execution_count": 11,
   "metadata": {
    "scrolled": true
   },
   "outputs": [
    {
     "data": {
      "text/plain": [
       "['weitek',\n",
       " 'harris',\n",
       " 'computer',\n",
       " 'systems',\n",
       " 'tin',\n",
       " 'kyanko',\n",
       " 'writes',\n",
       " 'in',\n",
       " 'article',\n",
       " 'anyone',\n",
       " 'know',\n",
       " 'about',\n",
       " 'the',\n",
       " 'weitek',\n",
       " 'graphics',\n",
       " 'as',\n",
       " 'far',\n",
       " 'as',\n",
       " 'the',\n",
       " 'stuff',\n",
       " 'it',\n",
       " 'looks',\n",
       " 'pretty',\n",
       " 'got',\n",
       " 'quadrilateral',\n",
       " 'fill',\n",
       " 'command',\n",
       " 'that',\n",
       " 'requires',\n",
       " 'just',\n",
       " 'the',\n",
       " 'four',\n",
       " 'you',\n",
       " 'have',\n",
       " 'like',\n",
       " 'to',\n",
       " 'get',\n",
       " 'some',\n",
       " 'this',\n",
       " 'systems',\n",
       " 'only',\n",
       " 'thing',\n",
       " 'that',\n",
       " 'really',\n",
       " 'scares',\n",
       " 'me',\n",
       " 'is',\n",
       " 'a',\n",
       " 'person',\n",
       " 'with',\n",
       " 'no',\n",
       " 'sense',\n",
       " 'of',\n",
       " 'jonathan']"
      ]
     },
     "execution_count": 11,
     "metadata": {},
     "output_type": "execute_result"
    }
   ],
   "source": [
    "discard_punctuation_and_lowercased_sents = [[word.lower() for word in sent.split(\" \") if word not in punctuation and word.isalpha()] \n",
    "                                            for sent in data['data']]\n",
    "discard_punctuation_and_lowercased_sents[3]"
   ]
  },
  {
   "cell_type": "markdown",
   "metadata": {},
   "source": [
    "Обучаем word2vec"
   ]
  },
  {
   "cell_type": "code",
   "execution_count": 39,
   "metadata": {},
   "outputs": [
    {
     "data": {
      "text/plain": [
       "16118"
      ]
     },
     "execution_count": 39,
     "metadata": {},
     "output_type": "execute_result"
    }
   ],
   "source": [
    "w2v = Word2Vec(discard_punctuation_and_lowercased_sents, min_count=5, size=200, iter=10)\n",
    "word_vectors = w2v.wv\n",
    "len(word_vectors.vocab)"
   ]
  },
  {
   "cell_type": "markdown",
   "metadata": {},
   "source": [
    "Посмотрим на результаты"
   ]
  },
  {
   "cell_type": "code",
   "execution_count": 40,
   "metadata": {},
   "outputs": [
    {
     "data": {
      "text/plain": [
       "[('utilities', 0.8044376373291016),\n",
       " ('shareware', 0.7791010737419128),\n",
       " ('animation', 0.7710715532302856),\n",
       " ('macintosh', 0.7688246965408325),\n",
       " ('software', 0.7597725987434387),\n",
       " ('mpeg', 0.7584173083305359),\n",
       " ('motif', 0.749665379524231),\n",
       " ('svga', 0.7495263814926147),\n",
       " ('utility', 0.7469354867935181),\n",
       " ('library', 0.7464491724967957)]"
      ]
     },
     "execution_count": 40,
     "metadata": {},
     "output_type": "execute_result"
    }
   ],
   "source": [
    "word_vectors.most_similar(['graphics'])"
   ]
  },
  {
   "cell_type": "code",
   "execution_count": 41,
   "metadata": {},
   "outputs": [
    {
     "data": {
      "text/plain": [
       "[('bike', 0.7724814414978027),\n",
       " ('tires', 0.6324222087860107),\n",
       " ('buying', 0.6149200201034546),\n",
       " ('selling', 0.6112270355224609),\n",
       " ('bought', 0.5958221554756165),\n",
       " ('rear', 0.5931984186172485),\n",
       " ('dealer', 0.5883143544197083),\n",
       " ('honda', 0.5827866196632385),\n",
       " ('cars', 0.5813438892364502),\n",
       " ('helmet', 0.5733745694160461)]"
      ]
     },
     "execution_count": 41,
     "metadata": {},
     "output_type": "execute_result"
    }
   ],
   "source": [
    "word_vectors.most_similar(['car'])"
   ]
  },
  {
   "cell_type": "code",
   "execution_count": null,
   "metadata": {},
   "outputs": [],
   "source": []
  }
 ],
 "metadata": {
  "kernelspec": {
   "display_name": "Python 3",
   "language": "python",
   "name": "python3"
  },
  "language_info": {
   "codemirror_mode": {
    "name": "ipython",
    "version": 3
   },
   "file_extension": ".py",
   "mimetype": "text/x-python",
   "name": "python",
   "nbconvert_exporter": "python",
   "pygments_lexer": "ipython3",
   "version": "3.7.3"
  }
 },
 "nbformat": 4,
 "nbformat_minor": 2
}
