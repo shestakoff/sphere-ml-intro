{
 "cells": [
  {
   "cell_type": "code",
   "execution_count": 1,
   "metadata": {},
   "outputs": [
    {
     "name": "stderr",
     "output_type": "stream",
     "text": [
      "/Users/artemzraev/anaconda3/lib/python3.7/site-packages/nltk/decorators.py:68: DeprecationWarning: `formatargspec` is deprecated since Python 3.5. Use `signature` and the `Signature` object directly\n",
      "  regargs, varargs, varkwargs, defaults, formatvalue=lambda value: \"\"\n",
      "/Users/artemzraev/anaconda3/lib/python3.7/site-packages/nltk/lm/counter.py:15: DeprecationWarning: Using or importing the ABCs from 'collections' instead of from 'collections.abc' is deprecated, and in 3.8 it will stop working\n",
      "  from collections import Sequence, defaultdict\n",
      "/Users/artemzraev/anaconda3/lib/python3.7/site-packages/nltk/lm/vocabulary.py:13: DeprecationWarning: Using or importing the ABCs from 'collections' instead of from 'collections.abc' is deprecated, and in 3.8 it will stop working\n",
      "  from collections import Counter, Iterable\n"
     ]
    },
    {
     "name": "stdout",
     "output_type": "stream",
     "text": [
      "2019-11-04\n"
     ]
    }
   ],
   "source": [
    "import os\n",
    "import sys\n",
    "import re\n",
    "import time\n",
    "import datetime as dt\n",
    "import string\n",
    "import warnings\n",
    "import subprocess\n",
    "import logging\n",
    "import numpy as np\n",
    "import pandas as pd\n",
    "import artm\n",
    "from datetime import timedelta\n",
    "from collections import Counter\n",
    "import matplotlib.pyplot as plt\n",
    "logger = logging.getLogger(__name__)\n",
    "\n",
    "from nltk.corpus import stopwords\n",
    "stopWords = set(stopwords.words('english'))\n",
    "\n",
    "%matplotlib inline\n",
    "\n",
    "\n",
    "NUM_TOPICS = 60\n",
    "local_data_dir = 'output'\n",
    "date = \"{}-{}-{}\".format((dt.datetime.now()-dt.timedelta(1)).year,\n",
    "                  str((dt.datetime.now()-dt.timedelta(1)).month) if len(str((dt.datetime.now()-dt.timedelta(1)).month)) == 2 else \"0\"+str((dt.datetime.now()-dt.timedelta(1)).month),\n",
    "                  str((dt.datetime.now()-dt.timedelta(1)).day) if len(str((dt.datetime.now()-dt.timedelta(1)).day)) == 2 else \"0\"+str((dt.datetime.now()-dt.timedelta(1)).day))\n",
    "print(date)\n",
    "\n",
    "local_vw_file = 'paths.vw'\n",
    "\n",
    "def read_data(path):\n",
    "    df = pd.read_csv(path, nrows=80000)\n",
    "    return df\n",
    "\n",
    "def print_line_out(qid, text):\n",
    "    \"\"\"\n",
    "    Converts text to vw format:\n",
    "    $q_id token1:count1 token2:count2 etc...\n",
    "    \"\"\"\n",
    "    line = \" \".join(\"{}:{}\".format(key.strip(), val) for (key, val) in Counter(text.lower().translate(str.maketrans('', '', string.punctuation)).replace(\":\",\"\").split()).items() if len(key)>2 and key not in stopWords)\n",
    "    return \"q_{} {}\".format(qid, line)\n",
    "\n",
    "def check_or_create_local_data_dir_for_date(local_data_dir, date):\n",
    "    local_dir = os.path.join(local_data_dir, date)\n",
    "    if not os.path.exists(local_dir):\n",
    "        os.makedirs(local_dir)\n",
    "    \n",
    "def counters_to_local_file(path, col_id, col_text):\n",
    "    \"\"\"\n",
    "    Loads preprocessed texts and converts them to a vw format\n",
    "    \"\"\"\n",
    "    check_or_create_local_data_dir_for_date(local_data_dir, date)\n",
    "    df = read_data(path)\n",
    "    df[col_text] = df[col_text].fillna(\"UNK\")\n",
    "    df['vw'] = df[[col_id, col_text]].apply(lambda x: print_line_out(x[0], x[1]), 1)\n",
    "    out_f = os.path.join(local_data_dir, date, local_vw_file)\n",
    "    with open(out_f, \"w\") as f:\n",
    "        for player in df['vw'].values:\n",
    "            f.write(player+\"\\n\")\n",
    "\n",
    "def vw_to_artm_batches():\n",
    "    \"\"\"\n",
    "    Input: vw file (vw formatting)\n",
    "    Output: artm batches dir (locally)\n",
    "    \"\"\"\n",
    "    check_or_create_local_data_dir_for_date(local_data_dir, date)\n",
    "    in_path = os.path.join(local_data_dir, date, local_vw_file)\n",
    "    out_path = os.path.join(local_data_dir, date, \"batches\")\n",
    "\n",
    "    batch_vectorizer_train = artm.BatchVectorizer(data_path=in_path,\n",
    "                                                  collection_name='code',\n",
    "                                            data_format='vowpal_wabbit',\n",
    "                                            target_folder=out_path)\n",
    "    dictionary = batch_vectorizer_train.dictionary\n",
    "    dictionary.filter(min_df=20)\n",
    "    dictionary.filter(max_df=5000)\n",
    "    dictionary.save_text(os.path.join(local_data_dir, date, \"dictionary.txt\"))"
   ]
  },
  {
   "cell_type": "markdown",
   "metadata": {},
   "source": [
    "### Загрузим датасет с заголовками, преобразуем тексты"
   ]
  },
  {
   "cell_type": "code",
   "execution_count": 2,
   "metadata": {},
   "outputs": [],
   "source": [
    "counters_to_local_file(\"./articles.csv\", \"article_id\", 'title')"
   ]
  },
  {
   "cell_type": "markdown",
   "metadata": {},
   "source": [
    "### создадим специальные batch-файлы для ARTM (этого требует библиотека)"
   ]
  },
  {
   "cell_type": "code",
   "execution_count": 3,
   "metadata": {},
   "outputs": [],
   "source": [
    "vw_to_artm_batches()"
   ]
  },
  {
   "cell_type": "markdown",
   "metadata": {},
   "source": [
    "### Train ARTM"
   ]
  },
  {
   "cell_type": "code",
   "execution_count": 4,
   "metadata": {},
   "outputs": [],
   "source": [
    "class TrainARTM():\n",
    "    \"\"\"\n",
    "    Trains and saves an ARTM model, score results and theta matrix in local dir\n",
    "    Output: artm model, scores, theta\n",
    "    \"\"\"\n",
    "    \n",
    "    def __init__(self, local_data_dir, date, n_topics, n_workers):\n",
    "        self.local_data_dir = local_data_dir\n",
    "        self.date = date\n",
    "        self.n_topics = n_topics\n",
    "        self.n_workers = n_workers\n",
    "\n",
    "    def run(self):\n",
    "        self.basedir = os.path.join(self.local_data_dir, self.date)\n",
    "        in_dir_batches = os.path.join(self.local_data_dir, self.date, \"batches\")\n",
    "\n",
    "        date_prev = None\n",
    "        use_pretrained = False\n",
    "        date_list = [date.strip() for date in os.listdir(self.local_data_dir)]\n",
    "        print(date_list)\n",
    "        if not date_list:\n",
    "            raise IOError(\"Could not run a training. No batches found.\")\n",
    "\n",
    "        if len(date_list) == 1:\n",
    "            date_prev = None\n",
    "        else:\n",
    "            try:\n",
    "                date_prev = [date for date in date_list if date<self.date][-1]\n",
    "            except IndexError as e:\n",
    "                date_prev = date_list[-1]\n",
    "            use_pretrained = True\n",
    "\n",
    "        if date_prev:\n",
    "            self.model_in_file = os.path.join(self.local_data_dir, date_prev, \"artm.model\")\n",
    "\n",
    "        else:\n",
    "            self.model_in_file = None\n",
    "\n",
    "        self.model_out_file = os.path.join(self.basedir, \"artm.model\")\n",
    "\n",
    "        dict_path = os.path.join(self.basedir, \"dictionary.txt\")\n",
    "        dictionary = artm.Dictionary()\n",
    "        dictionary.load_text(dict_path)\n",
    "\n",
    "        self.batch_vectorizer = artm.BatchVectorizer(data_path=os.path.join(self.basedir, \"batches\"),\n",
    "                                        data_format='batches')\n",
    "\n",
    "        self._init_artm_model(dictionary)\n",
    "        self._train(use_pretrained)\n",
    "        self._save_results()\n",
    "        \n",
    "    def _init_artm_model(self, dictionary):\n",
    "        \"\"\"\n",
    "        Init a new model, adding regularizers, scores\n",
    "        \"\"\"\n",
    "        self.model = artm.ARTM(num_topics=self.n_topics,\n",
    "                              cache_theta=True,\n",
    "                              num_processors=self.n_workers,\n",
    "                              show_progress_bars=True,\n",
    "                              seed=12,\n",
    "                              dictionary=dictionary)\n",
    "        self._add_regularizers()\n",
    "        self._add_scores()\n",
    "\n",
    "    def _add_regularizers(self):\n",
    "        \"\"\"\n",
    "        Add some regularizers to an ARTM model\n",
    "        \"\"\"\n",
    "        self.model.regularizers.add(artm.SmoothSparseThetaRegularizer(name='sparse_theta_regularizer'))\n",
    "        self.model.regularizers.add(artm.DecorrelatorPhiRegularizer(name='decorrelator_phi_regularizer'))\n",
    "\n",
    "    def _add_scores(self):\n",
    "        \"\"\"\n",
    "        Output: several png files with scores\n",
    "        \"\"\"\n",
    "        self.model.scores.add(artm.PerplexityScore(name='my_fisrt_perplexity_score'))\n",
    "        self.model.scores.add(artm.SparsityPhiScore(name='sparsity_phi_score'))\n",
    "        self.model.scores.add(artm.SparsityThetaScore(name='sparsity_theta_score'))\n",
    "        self.model.scores.add(artm.TopTokensScore(name='top_tokens', num_tokens=10))\n",
    "                                                  \n",
    "    def _train(self, use_pretrained):\n",
    "        \"\"\"\n",
    "        Trains an ARTM model\n",
    "        \"\"\"\n",
    "        if use_pretrained:\n",
    "            print(\"Using pretrained model\")\n",
    "            #load model\n",
    "            artm_old = artm.ARTM(self.n_topics)\n",
    "            artm_old.load(self.model_in_file)\n",
    "\n",
    "            #getting phi\n",
    "            phi_old = artm_old.phi_\n",
    "            #phi to update\n",
    "            phi_to_update = self.model.get_phi()\n",
    "            phi_to_update['term'] = phi_to_update.index\n",
    "            phi_old['term'] = phi_old.index\n",
    "\n",
    "            #updating weights\n",
    "            phi_to_update.update(phi_old.drop_duplicates(subset='term', keep='last'), join='left', overwrite=True)\n",
    "            phi_to_update = phi_to_update.drop('term', 1)\n",
    "\n",
    "            (_, phi_ref) = self.model.master.attach_model(model=self.model.model_pwt)\n",
    "            np.copyto(phi_ref, phi_to_update.values)\n",
    "            num_collection_passes = 10\n",
    "        else:\n",
    "            print(\"Train from scratch\")\n",
    "            num_collection_passes = 70\n",
    "            \n",
    "        self.model.fit_offline(batch_vectorizer=self.batch_vectorizer,\n",
    "                                   num_collection_passes=num_collection_passes)\n",
    "\n",
    "    def _save_results(self):\n",
    "        \"\"\"\n",
    "        Saves theta matrix (article_id -> topics) to a csv file.\n",
    "        Then saves top_tokens for every class_id and finally dumps images of a perplexity score for every class.\n",
    "        \"\"\"\n",
    "        self.model.theta_columns_naming='title'\n",
    "        self.model.save(self.model_out_file)\n",
    "\n",
    "        #theta = self.model.theta_\n",
    "        theta = self.model.get_theta()\n",
    "        theta = theta.T\n",
    "        theta['player_id'] = theta.index\n",
    "        theta = theta.drop_duplicates(subset='player_id')\n",
    "        theta['dt'] = self.date\n",
    "        topic_columns = [\"topic_{}\".format(col) for col in range(self.n_topics)]\n",
    "        theta.to_csv(os.path.join(self.basedir, 'theta.csv'), index=None)\n",
    "        top_tokens = self.model.score_tracker['top_tokens']\n",
    "        top_tokens = pd.DataFrame(top_tokens.last_tokens)\n",
    "        top_tokens.to_csv(os.path.join(self.basedir, \"top_tokens.csv\"))"
   ]
  },
  {
   "cell_type": "markdown",
   "metadata": {},
   "source": [
    "### Проинициализируем наш объект для тренировки и запустим обучение"
   ]
  },
  {
   "cell_type": "code",
   "execution_count": 5,
   "metadata": {},
   "outputs": [],
   "source": [
    "trainer = TrainARTM(local_data_dir, date, NUM_TOPICS, 4)"
   ]
  },
  {
   "cell_type": "code",
   "execution_count": 6,
   "metadata": {},
   "outputs": [
    {
     "name": "stdout",
     "output_type": "stream",
     "text": [
      "['2019-11-04']\n",
      "Train from scratch\n"
     ]
    },
    {
     "data": {
      "application/vnd.jupyter.widget-view+json": {
       "model_id": "756952d83e4245c89ac21ec245b7e544",
       "version_major": 2,
       "version_minor": 0
      },
      "text/plain": [
       "HBox(children=(IntProgress(value=0, description='Pass', max=70, style=ProgressStyle(description_width='initial…"
      ]
     },
     "metadata": {},
     "output_type": "display_data"
    },
    {
     "data": {
      "application/vnd.jupyter.widget-view+json": {
       "model_id": "",
       "version_major": 2,
       "version_minor": 0
      },
      "text/plain": [
       "HBox(children=(IntProgress(value=0, description='Batch', max=80, style=ProgressStyle(description_width='initia…"
      ]
     },
     "metadata": {},
     "output_type": "display_data"
    },
    {
     "data": {
      "application/vnd.jupyter.widget-view+json": {
       "model_id": "",
       "version_major": 2,
       "version_minor": 0
      },
      "text/plain": [
       "HBox(children=(IntProgress(value=0, description='Batch', max=80, style=ProgressStyle(description_width='initia…"
      ]
     },
     "metadata": {},
     "output_type": "display_data"
    },
    {
     "data": {
      "application/vnd.jupyter.widget-view+json": {
       "model_id": "",
       "version_major": 2,
       "version_minor": 0
      },
      "text/plain": [
       "HBox(children=(IntProgress(value=0, description='Batch', max=80, style=ProgressStyle(description_width='initia…"
      ]
     },
     "metadata": {},
     "output_type": "display_data"
    },
    {
     "data": {
      "application/vnd.jupyter.widget-view+json": {
       "model_id": "",
       "version_major": 2,
       "version_minor": 0
      },
      "text/plain": [
       "HBox(children=(IntProgress(value=0, description='Batch', max=80, style=ProgressStyle(description_width='initia…"
      ]
     },
     "metadata": {},
     "output_type": "display_data"
    },
    {
     "data": {
      "application/vnd.jupyter.widget-view+json": {
       "model_id": "",
       "version_major": 2,
       "version_minor": 0
      },
      "text/plain": [
       "HBox(children=(IntProgress(value=0, description='Batch', max=80, style=ProgressStyle(description_width='initia…"
      ]
     },
     "metadata": {},
     "output_type": "display_data"
    },
    {
     "data": {
      "application/vnd.jupyter.widget-view+json": {
       "model_id": "",
       "version_major": 2,
       "version_minor": 0
      },
      "text/plain": [
       "HBox(children=(IntProgress(value=0, description='Batch', max=80, style=ProgressStyle(description_width='initia…"
      ]
     },
     "metadata": {},
     "output_type": "display_data"
    },
    {
     "data": {
      "application/vnd.jupyter.widget-view+json": {
       "model_id": "",
       "version_major": 2,
       "version_minor": 0
      },
      "text/plain": [
       "HBox(children=(IntProgress(value=0, description='Batch', max=80, style=ProgressStyle(description_width='initia…"
      ]
     },
     "metadata": {},
     "output_type": "display_data"
    },
    {
     "data": {
      "application/vnd.jupyter.widget-view+json": {
       "model_id": "",
       "version_major": 2,
       "version_minor": 0
      },
      "text/plain": [
       "HBox(children=(IntProgress(value=0, description='Batch', max=80, style=ProgressStyle(description_width='initia…"
      ]
     },
     "metadata": {},
     "output_type": "display_data"
    },
    {
     "data": {
      "application/vnd.jupyter.widget-view+json": {
       "model_id": "",
       "version_major": 2,
       "version_minor": 0
      },
      "text/plain": [
       "HBox(children=(IntProgress(value=0, description='Batch', max=80, style=ProgressStyle(description_width='initia…"
      ]
     },
     "metadata": {},
     "output_type": "display_data"
    },
    {
     "data": {
      "application/vnd.jupyter.widget-view+json": {
       "model_id": "",
       "version_major": 2,
       "version_minor": 0
      },
      "text/plain": [
       "HBox(children=(IntProgress(value=0, description='Batch', max=80, style=ProgressStyle(description_width='initia…"
      ]
     },
     "metadata": {},
     "output_type": "display_data"
    },
    {
     "data": {
      "application/vnd.jupyter.widget-view+json": {
       "model_id": "",
       "version_major": 2,
       "version_minor": 0
      },
      "text/plain": [
       "HBox(children=(IntProgress(value=0, description='Batch', max=80, style=ProgressStyle(description_width='initia…"
      ]
     },
     "metadata": {},
     "output_type": "display_data"
    },
    {
     "data": {
      "application/vnd.jupyter.widget-view+json": {
       "model_id": "",
       "version_major": 2,
       "version_minor": 0
      },
      "text/plain": [
       "HBox(children=(IntProgress(value=0, description='Batch', max=80, style=ProgressStyle(description_width='initia…"
      ]
     },
     "metadata": {},
     "output_type": "display_data"
    },
    {
     "data": {
      "application/vnd.jupyter.widget-view+json": {
       "model_id": "",
       "version_major": 2,
       "version_minor": 0
      },
      "text/plain": [
       "HBox(children=(IntProgress(value=0, description='Batch', max=80, style=ProgressStyle(description_width='initia…"
      ]
     },
     "metadata": {},
     "output_type": "display_data"
    },
    {
     "data": {
      "application/vnd.jupyter.widget-view+json": {
       "model_id": "",
       "version_major": 2,
       "version_minor": 0
      },
      "text/plain": [
       "HBox(children=(IntProgress(value=0, description='Batch', max=80, style=ProgressStyle(description_width='initia…"
      ]
     },
     "metadata": {},
     "output_type": "display_data"
    },
    {
     "data": {
      "application/vnd.jupyter.widget-view+json": {
       "model_id": "",
       "version_major": 2,
       "version_minor": 0
      },
      "text/plain": [
       "HBox(children=(IntProgress(value=0, description='Batch', max=80, style=ProgressStyle(description_width='initia…"
      ]
     },
     "metadata": {},
     "output_type": "display_data"
    },
    {
     "data": {
      "application/vnd.jupyter.widget-view+json": {
       "model_id": "",
       "version_major": 2,
       "version_minor": 0
      },
      "text/plain": [
       "HBox(children=(IntProgress(value=0, description='Batch', max=80, style=ProgressStyle(description_width='initia…"
      ]
     },
     "metadata": {},
     "output_type": "display_data"
    },
    {
     "data": {
      "application/vnd.jupyter.widget-view+json": {
       "model_id": "",
       "version_major": 2,
       "version_minor": 0
      },
      "text/plain": [
       "HBox(children=(IntProgress(value=0, description='Batch', max=80, style=ProgressStyle(description_width='initia…"
      ]
     },
     "metadata": {},
     "output_type": "display_data"
    },
    {
     "data": {
      "application/vnd.jupyter.widget-view+json": {
       "model_id": "",
       "version_major": 2,
       "version_minor": 0
      },
      "text/plain": [
       "HBox(children=(IntProgress(value=0, description='Batch', max=80, style=ProgressStyle(description_width='initia…"
      ]
     },
     "metadata": {},
     "output_type": "display_data"
    },
    {
     "data": {
      "application/vnd.jupyter.widget-view+json": {
       "model_id": "",
       "version_major": 2,
       "version_minor": 0
      },
      "text/plain": [
       "HBox(children=(IntProgress(value=0, description='Batch', max=80, style=ProgressStyle(description_width='initia…"
      ]
     },
     "metadata": {},
     "output_type": "display_data"
    },
    {
     "data": {
      "application/vnd.jupyter.widget-view+json": {
       "model_id": "",
       "version_major": 2,
       "version_minor": 0
      },
      "text/plain": [
       "HBox(children=(IntProgress(value=0, description='Batch', max=80, style=ProgressStyle(description_width='initia…"
      ]
     },
     "metadata": {},
     "output_type": "display_data"
    },
    {
     "data": {
      "application/vnd.jupyter.widget-view+json": {
       "model_id": "",
       "version_major": 2,
       "version_minor": 0
      },
      "text/plain": [
       "HBox(children=(IntProgress(value=0, description='Batch', max=80, style=ProgressStyle(description_width='initia…"
      ]
     },
     "metadata": {},
     "output_type": "display_data"
    },
    {
     "data": {
      "application/vnd.jupyter.widget-view+json": {
       "model_id": "",
       "version_major": 2,
       "version_minor": 0
      },
      "text/plain": [
       "HBox(children=(IntProgress(value=0, description='Batch', max=80, style=ProgressStyle(description_width='initia…"
      ]
     },
     "metadata": {},
     "output_type": "display_data"
    },
    {
     "data": {
      "application/vnd.jupyter.widget-view+json": {
       "model_id": "",
       "version_major": 2,
       "version_minor": 0
      },
      "text/plain": [
       "HBox(children=(IntProgress(value=0, description='Batch', max=80, style=ProgressStyle(description_width='initia…"
      ]
     },
     "metadata": {},
     "output_type": "display_data"
    },
    {
     "data": {
      "application/vnd.jupyter.widget-view+json": {
       "model_id": "",
       "version_major": 2,
       "version_minor": 0
      },
      "text/plain": [
       "HBox(children=(IntProgress(value=0, description='Batch', max=80, style=ProgressStyle(description_width='initia…"
      ]
     },
     "metadata": {},
     "output_type": "display_data"
    },
    {
     "data": {
      "application/vnd.jupyter.widget-view+json": {
       "model_id": "",
       "version_major": 2,
       "version_minor": 0
      },
      "text/plain": [
       "HBox(children=(IntProgress(value=0, description='Batch', max=80, style=ProgressStyle(description_width='initia…"
      ]
     },
     "metadata": {},
     "output_type": "display_data"
    },
    {
     "data": {
      "application/vnd.jupyter.widget-view+json": {
       "model_id": "",
       "version_major": 2,
       "version_minor": 0
      },
      "text/plain": [
       "HBox(children=(IntProgress(value=0, description='Batch', max=80, style=ProgressStyle(description_width='initia…"
      ]
     },
     "metadata": {},
     "output_type": "display_data"
    },
    {
     "data": {
      "application/vnd.jupyter.widget-view+json": {
       "model_id": "",
       "version_major": 2,
       "version_minor": 0
      },
      "text/plain": [
       "HBox(children=(IntProgress(value=0, description='Batch', max=80, style=ProgressStyle(description_width='initia…"
      ]
     },
     "metadata": {},
     "output_type": "display_data"
    },
    {
     "data": {
      "application/vnd.jupyter.widget-view+json": {
       "model_id": "",
       "version_major": 2,
       "version_minor": 0
      },
      "text/plain": [
       "HBox(children=(IntProgress(value=0, description='Batch', max=80, style=ProgressStyle(description_width='initia…"
      ]
     },
     "metadata": {},
     "output_type": "display_data"
    },
    {
     "data": {
      "application/vnd.jupyter.widget-view+json": {
       "model_id": "",
       "version_major": 2,
       "version_minor": 0
      },
      "text/plain": [
       "HBox(children=(IntProgress(value=0, description='Batch', max=80, style=ProgressStyle(description_width='initia…"
      ]
     },
     "metadata": {},
     "output_type": "display_data"
    },
    {
     "data": {
      "application/vnd.jupyter.widget-view+json": {
       "model_id": "",
       "version_major": 2,
       "version_minor": 0
      },
      "text/plain": [
       "HBox(children=(IntProgress(value=0, description='Batch', max=80, style=ProgressStyle(description_width='initia…"
      ]
     },
     "metadata": {},
     "output_type": "display_data"
    },
    {
     "data": {
      "application/vnd.jupyter.widget-view+json": {
       "model_id": "",
       "version_major": 2,
       "version_minor": 0
      },
      "text/plain": [
       "HBox(children=(IntProgress(value=0, description='Batch', max=80, style=ProgressStyle(description_width='initia…"
      ]
     },
     "metadata": {},
     "output_type": "display_data"
    },
    {
     "data": {
      "application/vnd.jupyter.widget-view+json": {
       "model_id": "",
       "version_major": 2,
       "version_minor": 0
      },
      "text/plain": [
       "HBox(children=(IntProgress(value=0, description='Batch', max=80, style=ProgressStyle(description_width='initia…"
      ]
     },
     "metadata": {},
     "output_type": "display_data"
    },
    {
     "data": {
      "application/vnd.jupyter.widget-view+json": {
       "model_id": "",
       "version_major": 2,
       "version_minor": 0
      },
      "text/plain": [
       "HBox(children=(IntProgress(value=0, description='Batch', max=80, style=ProgressStyle(description_width='initia…"
      ]
     },
     "metadata": {},
     "output_type": "display_data"
    },
    {
     "data": {
      "application/vnd.jupyter.widget-view+json": {
       "model_id": "",
       "version_major": 2,
       "version_minor": 0
      },
      "text/plain": [
       "HBox(children=(IntProgress(value=0, description='Batch', max=80, style=ProgressStyle(description_width='initia…"
      ]
     },
     "metadata": {},
     "output_type": "display_data"
    },
    {
     "data": {
      "application/vnd.jupyter.widget-view+json": {
       "model_id": "",
       "version_major": 2,
       "version_minor": 0
      },
      "text/plain": [
       "HBox(children=(IntProgress(value=0, description='Batch', max=80, style=ProgressStyle(description_width='initia…"
      ]
     },
     "metadata": {},
     "output_type": "display_data"
    },
    {
     "data": {
      "application/vnd.jupyter.widget-view+json": {
       "model_id": "",
       "version_major": 2,
       "version_minor": 0
      },
      "text/plain": [
       "HBox(children=(IntProgress(value=0, description='Batch', max=80, style=ProgressStyle(description_width='initia…"
      ]
     },
     "metadata": {},
     "output_type": "display_data"
    },
    {
     "data": {
      "application/vnd.jupyter.widget-view+json": {
       "model_id": "",
       "version_major": 2,
       "version_minor": 0
      },
      "text/plain": [
       "HBox(children=(IntProgress(value=0, description='Batch', max=80, style=ProgressStyle(description_width='initia…"
      ]
     },
     "metadata": {},
     "output_type": "display_data"
    },
    {
     "data": {
      "application/vnd.jupyter.widget-view+json": {
       "model_id": "",
       "version_major": 2,
       "version_minor": 0
      },
      "text/plain": [
       "HBox(children=(IntProgress(value=0, description='Batch', max=80, style=ProgressStyle(description_width='initia…"
      ]
     },
     "metadata": {},
     "output_type": "display_data"
    },
    {
     "data": {
      "application/vnd.jupyter.widget-view+json": {
       "model_id": "",
       "version_major": 2,
       "version_minor": 0
      },
      "text/plain": [
       "HBox(children=(IntProgress(value=0, description='Batch', max=80, style=ProgressStyle(description_width='initia…"
      ]
     },
     "metadata": {},
     "output_type": "display_data"
    },
    {
     "data": {
      "application/vnd.jupyter.widget-view+json": {
       "model_id": "",
       "version_major": 2,
       "version_minor": 0
      },
      "text/plain": [
       "HBox(children=(IntProgress(value=0, description='Batch', max=80, style=ProgressStyle(description_width='initia…"
      ]
     },
     "metadata": {},
     "output_type": "display_data"
    },
    {
     "data": {
      "application/vnd.jupyter.widget-view+json": {
       "model_id": "",
       "version_major": 2,
       "version_minor": 0
      },
      "text/plain": [
       "HBox(children=(IntProgress(value=0, description='Batch', max=80, style=ProgressStyle(description_width='initia…"
      ]
     },
     "metadata": {},
     "output_type": "display_data"
    },
    {
     "data": {
      "application/vnd.jupyter.widget-view+json": {
       "model_id": "",
       "version_major": 2,
       "version_minor": 0
      },
      "text/plain": [
       "HBox(children=(IntProgress(value=0, description='Batch', max=80, style=ProgressStyle(description_width='initia…"
      ]
     },
     "metadata": {},
     "output_type": "display_data"
    },
    {
     "data": {
      "application/vnd.jupyter.widget-view+json": {
       "model_id": "",
       "version_major": 2,
       "version_minor": 0
      },
      "text/plain": [
       "HBox(children=(IntProgress(value=0, description='Batch', max=80, style=ProgressStyle(description_width='initia…"
      ]
     },
     "metadata": {},
     "output_type": "display_data"
    },
    {
     "data": {
      "application/vnd.jupyter.widget-view+json": {
       "model_id": "",
       "version_major": 2,
       "version_minor": 0
      },
      "text/plain": [
       "HBox(children=(IntProgress(value=0, description='Batch', max=80, style=ProgressStyle(description_width='initia…"
      ]
     },
     "metadata": {},
     "output_type": "display_data"
    },
    {
     "data": {
      "application/vnd.jupyter.widget-view+json": {
       "model_id": "",
       "version_major": 2,
       "version_minor": 0
      },
      "text/plain": [
       "HBox(children=(IntProgress(value=0, description='Batch', max=80, style=ProgressStyle(description_width='initia…"
      ]
     },
     "metadata": {},
     "output_type": "display_data"
    },
    {
     "data": {
      "application/vnd.jupyter.widget-view+json": {
       "model_id": "",
       "version_major": 2,
       "version_minor": 0
      },
      "text/plain": [
       "HBox(children=(IntProgress(value=0, description='Batch', max=80, style=ProgressStyle(description_width='initia…"
      ]
     },
     "metadata": {},
     "output_type": "display_data"
    },
    {
     "data": {
      "application/vnd.jupyter.widget-view+json": {
       "model_id": "",
       "version_major": 2,
       "version_minor": 0
      },
      "text/plain": [
       "HBox(children=(IntProgress(value=0, description='Batch', max=80, style=ProgressStyle(description_width='initia…"
      ]
     },
     "metadata": {},
     "output_type": "display_data"
    },
    {
     "data": {
      "application/vnd.jupyter.widget-view+json": {
       "model_id": "",
       "version_major": 2,
       "version_minor": 0
      },
      "text/plain": [
       "HBox(children=(IntProgress(value=0, description='Batch', max=80, style=ProgressStyle(description_width='initia…"
      ]
     },
     "metadata": {},
     "output_type": "display_data"
    },
    {
     "data": {
      "application/vnd.jupyter.widget-view+json": {
       "model_id": "",
       "version_major": 2,
       "version_minor": 0
      },
      "text/plain": [
       "HBox(children=(IntProgress(value=0, description='Batch', max=80, style=ProgressStyle(description_width='initia…"
      ]
     },
     "metadata": {},
     "output_type": "display_data"
    },
    {
     "data": {
      "application/vnd.jupyter.widget-view+json": {
       "model_id": "",
       "version_major": 2,
       "version_minor": 0
      },
      "text/plain": [
       "HBox(children=(IntProgress(value=0, description='Batch', max=80, style=ProgressStyle(description_width='initia…"
      ]
     },
     "metadata": {},
     "output_type": "display_data"
    },
    {
     "data": {
      "application/vnd.jupyter.widget-view+json": {
       "model_id": "",
       "version_major": 2,
       "version_minor": 0
      },
      "text/plain": [
       "HBox(children=(IntProgress(value=0, description='Batch', max=80, style=ProgressStyle(description_width='initia…"
      ]
     },
     "metadata": {},
     "output_type": "display_data"
    },
    {
     "data": {
      "application/vnd.jupyter.widget-view+json": {
       "model_id": "",
       "version_major": 2,
       "version_minor": 0
      },
      "text/plain": [
       "HBox(children=(IntProgress(value=0, description='Batch', max=80, style=ProgressStyle(description_width='initia…"
      ]
     },
     "metadata": {},
     "output_type": "display_data"
    },
    {
     "data": {
      "application/vnd.jupyter.widget-view+json": {
       "model_id": "",
       "version_major": 2,
       "version_minor": 0
      },
      "text/plain": [
       "HBox(children=(IntProgress(value=0, description='Batch', max=80, style=ProgressStyle(description_width='initia…"
      ]
     },
     "metadata": {},
     "output_type": "display_data"
    },
    {
     "data": {
      "application/vnd.jupyter.widget-view+json": {
       "model_id": "",
       "version_major": 2,
       "version_minor": 0
      },
      "text/plain": [
       "HBox(children=(IntProgress(value=0, description='Batch', max=80, style=ProgressStyle(description_width='initia…"
      ]
     },
     "metadata": {},
     "output_type": "display_data"
    },
    {
     "data": {
      "application/vnd.jupyter.widget-view+json": {
       "model_id": "",
       "version_major": 2,
       "version_minor": 0
      },
      "text/plain": [
       "HBox(children=(IntProgress(value=0, description='Batch', max=80, style=ProgressStyle(description_width='initia…"
      ]
     },
     "metadata": {},
     "output_type": "display_data"
    },
    {
     "data": {
      "application/vnd.jupyter.widget-view+json": {
       "model_id": "",
       "version_major": 2,
       "version_minor": 0
      },
      "text/plain": [
       "HBox(children=(IntProgress(value=0, description='Batch', max=80, style=ProgressStyle(description_width='initia…"
      ]
     },
     "metadata": {},
     "output_type": "display_data"
    },
    {
     "data": {
      "application/vnd.jupyter.widget-view+json": {
       "model_id": "",
       "version_major": 2,
       "version_minor": 0
      },
      "text/plain": [
       "HBox(children=(IntProgress(value=0, description='Batch', max=80, style=ProgressStyle(description_width='initia…"
      ]
     },
     "metadata": {},
     "output_type": "display_data"
    },
    {
     "data": {
      "application/vnd.jupyter.widget-view+json": {
       "model_id": "",
       "version_major": 2,
       "version_minor": 0
      },
      "text/plain": [
       "HBox(children=(IntProgress(value=0, description='Batch', max=80, style=ProgressStyle(description_width='initia…"
      ]
     },
     "metadata": {},
     "output_type": "display_data"
    },
    {
     "data": {
      "application/vnd.jupyter.widget-view+json": {
       "model_id": "",
       "version_major": 2,
       "version_minor": 0
      },
      "text/plain": [
       "HBox(children=(IntProgress(value=0, description='Batch', max=80, style=ProgressStyle(description_width='initia…"
      ]
     },
     "metadata": {},
     "output_type": "display_data"
    },
    {
     "data": {
      "application/vnd.jupyter.widget-view+json": {
       "model_id": "",
       "version_major": 2,
       "version_minor": 0
      },
      "text/plain": [
       "HBox(children=(IntProgress(value=0, description='Batch', max=80, style=ProgressStyle(description_width='initia…"
      ]
     },
     "metadata": {},
     "output_type": "display_data"
    },
    {
     "data": {
      "application/vnd.jupyter.widget-view+json": {
       "model_id": "",
       "version_major": 2,
       "version_minor": 0
      },
      "text/plain": [
       "HBox(children=(IntProgress(value=0, description='Batch', max=80, style=ProgressStyle(description_width='initia…"
      ]
     },
     "metadata": {},
     "output_type": "display_data"
    },
    {
     "data": {
      "application/vnd.jupyter.widget-view+json": {
       "model_id": "",
       "version_major": 2,
       "version_minor": 0
      },
      "text/plain": [
       "HBox(children=(IntProgress(value=0, description='Batch', max=80, style=ProgressStyle(description_width='initia…"
      ]
     },
     "metadata": {},
     "output_type": "display_data"
    },
    {
     "data": {
      "application/vnd.jupyter.widget-view+json": {
       "model_id": "",
       "version_major": 2,
       "version_minor": 0
      },
      "text/plain": [
       "HBox(children=(IntProgress(value=0, description='Batch', max=80, style=ProgressStyle(description_width='initia…"
      ]
     },
     "metadata": {},
     "output_type": "display_data"
    },
    {
     "data": {
      "application/vnd.jupyter.widget-view+json": {
       "model_id": "",
       "version_major": 2,
       "version_minor": 0
      },
      "text/plain": [
       "HBox(children=(IntProgress(value=0, description='Batch', max=80, style=ProgressStyle(description_width='initia…"
      ]
     },
     "metadata": {},
     "output_type": "display_data"
    },
    {
     "data": {
      "application/vnd.jupyter.widget-view+json": {
       "model_id": "",
       "version_major": 2,
       "version_minor": 0
      },
      "text/plain": [
       "HBox(children=(IntProgress(value=0, description='Batch', max=80, style=ProgressStyle(description_width='initia…"
      ]
     },
     "metadata": {},
     "output_type": "display_data"
    },
    {
     "data": {
      "application/vnd.jupyter.widget-view+json": {
       "model_id": "",
       "version_major": 2,
       "version_minor": 0
      },
      "text/plain": [
       "HBox(children=(IntProgress(value=0, description='Batch', max=80, style=ProgressStyle(description_width='initia…"
      ]
     },
     "metadata": {},
     "output_type": "display_data"
    },
    {
     "data": {
      "application/vnd.jupyter.widget-view+json": {
       "model_id": "",
       "version_major": 2,
       "version_minor": 0
      },
      "text/plain": [
       "HBox(children=(IntProgress(value=0, description='Batch', max=80, style=ProgressStyle(description_width='initia…"
      ]
     },
     "metadata": {},
     "output_type": "display_data"
    },
    {
     "data": {
      "application/vnd.jupyter.widget-view+json": {
       "model_id": "",
       "version_major": 2,
       "version_minor": 0
      },
      "text/plain": [
       "HBox(children=(IntProgress(value=0, description='Batch', max=80, style=ProgressStyle(description_width='initia…"
      ]
     },
     "metadata": {},
     "output_type": "display_data"
    },
    {
     "data": {
      "application/vnd.jupyter.widget-view+json": {
       "model_id": "",
       "version_major": 2,
       "version_minor": 0
      },
      "text/plain": [
       "HBox(children=(IntProgress(value=0, description='Batch', max=80, style=ProgressStyle(description_width='initia…"
      ]
     },
     "metadata": {},
     "output_type": "display_data"
    },
    {
     "data": {
      "application/vnd.jupyter.widget-view+json": {
       "model_id": "",
       "version_major": 2,
       "version_minor": 0
      },
      "text/plain": [
       "HBox(children=(IntProgress(value=0, description='Batch', max=80, style=ProgressStyle(description_width='initia…"
      ]
     },
     "metadata": {},
     "output_type": "display_data"
    },
    {
     "name": "stdout",
     "output_type": "stream",
     "text": [
      "\n"
     ]
    }
   ],
   "source": [
    "trainer.run()"
   ]
  },
  {
   "cell_type": "markdown",
   "metadata": {},
   "source": [
    "Модель обучилась и сохранила результаты в локальный каталог"
   ]
  },
  {
   "cell_type": "markdown",
   "metadata": {},
   "source": [
    "### Построим график перплексии"
   ]
  },
  {
   "cell_type": "code",
   "execution_count": 7,
   "metadata": {},
   "outputs": [
    {
     "data": {
      "image/png": "[encoded data removed]",
      "text/plain": [
       "<Figure size 432x288 with 1 Axes>"
      ]
     },
     "metadata": {
      "needs_background": "light"
     },
     "output_type": "display_data"
    }
   ],
   "source": [
    "plt.plot(range(trainer.model.num_phi_updates), trainer.model.score_tracker['my_fisrt_perplexity_score'].value, 'b--',\n",
    "         linewidth=2)\n",
    "plt.xlabel('Iterations count')\n",
    "plt.ylabel('ARTM perpl')\n",
    "plt.grid(True)\n",
    "plt.savefig(\"./{}/{}/perplexity.png\".format(local_data_dir, date))\n",
    "plt.show()"
   ]
  },
  {
   "cell_type": "markdown",
   "metadata": {},
   "source": [
    "### Разреженность матрицы phi"
   ]
  },
  {
   "cell_type": "code",
   "execution_count": 8,
   "metadata": {},
   "outputs": [
    {
     "data": {
      "image/png": "[encoded data removed]",
      "text/plain": [
       "<Figure size 432x288 with 1 Axes>"
      ]
     },
     "metadata": {
      "needs_background": "light"
     },
     "output_type": "display_data"
    }
   ],
   "source": [
    "plt.plot(range(trainer.model.num_phi_updates), trainer.model.score_tracker['sparsity_phi_score'].value, 'b--',\n",
    "         linewidth=2)\n",
    "plt.xlabel('Iterations count')\n",
    "plt.ylabel('ARTM sprs')\n",
    "plt.grid(True)\n",
    "plt.savefig(\"./{}/{}/sparsity_phi.png\".format(local_data_dir, date))\n",
    "plt.show()"
   ]
  },
  {
   "cell_type": "markdown",
   "metadata": {},
   "source": [
    "Разреженность выглядит не очень - нужно больше итераций"
   ]
  },
  {
   "cell_type": "markdown",
   "metadata": {},
   "source": [
    "### Топ слова по каждой тематике"
   ]
  },
  {
   "cell_type": "code",
   "execution_count": 9,
   "metadata": {},
   "outputs": [
    {
     "data": {
      "text/html": [
       "<div>\n",
       "<style scoped>\n",
       "    .dataframe tbody tr th:only-of-type {\n",
       "        vertical-align: middle;\n",
       "    }\n",
       "\n",
       "    .dataframe tbody tr th {\n",
       "        vertical-align: top;\n",
       "    }\n",
       "\n",
       "    .dataframe thead th {\n",
       "        text-align: right;\n",
       "    }\n",
       "</style>\n",
       "<table border=\"1\" class=\"dataframe\">\n",
       "  <thead>\n",
       "    <tr style=\"text-align: right;\">\n",
       "      <th></th>\n",
       "      <th>topic_0</th>\n",
       "      <th>topic_1</th>\n",
       "      <th>topic_2</th>\n",
       "      <th>topic_3</th>\n",
       "      <th>topic_4</th>\n",
       "      <th>topic_5</th>\n",
       "      <th>topic_6</th>\n",
       "      <th>topic_7</th>\n",
       "      <th>topic_8</th>\n",
       "      <th>topic_9</th>\n",
       "      <th>...</th>\n",
       "      <th>topic_50</th>\n",
       "      <th>topic_51</th>\n",
       "      <th>topic_52</th>\n",
       "      <th>topic_53</th>\n",
       "      <th>topic_54</th>\n",
       "      <th>topic_55</th>\n",
       "      <th>topic_56</th>\n",
       "      <th>topic_57</th>\n",
       "      <th>topic_58</th>\n",
       "      <th>topic_59</th>\n",
       "    </tr>\n",
       "  </thead>\n",
       "  <tbody>\n",
       "    <tr>\n",
       "      <td>0</td>\n",
       "      <td>life</td>\n",
       "      <td>still</td>\n",
       "      <td>support</td>\n",
       "      <td>one</td>\n",
       "      <td>gun</td>\n",
       "      <td>back</td>\n",
       "      <td>real</td>\n",
       "      <td>may</td>\n",
       "      <td>trump</td>\n",
       "      <td>market</td>\n",
       "      <td>...</td>\n",
       "      <td>three</td>\n",
       "      <td>study</td>\n",
       "      <td>people</td>\n",
       "      <td>family</td>\n",
       "      <td>top</td>\n",
       "      <td>week</td>\n",
       "      <td>use</td>\n",
       "      <td>school</td>\n",
       "      <td>women</td>\n",
       "      <td>need</td>\n",
       "    </tr>\n",
       "    <tr>\n",
       "      <td>1</td>\n",
       "      <td>way</td>\n",
       "      <td>would</td>\n",
       "      <td>dead</td>\n",
       "      <td>game</td>\n",
       "      <td>students</td>\n",
       "      <td>keep</td>\n",
       "      <td>die</td>\n",
       "      <td>air</td>\n",
       "      <td>president</td>\n",
       "      <td>national</td>\n",
       "      <td>...</td>\n",
       "      <td>league</td>\n",
       "      <td>season</td>\n",
       "      <td>claims</td>\n",
       "      <td>feb</td>\n",
       "      <td>government</td>\n",
       "      <td>home</td>\n",
       "      <td>military</td>\n",
       "      <td>florida</td>\n",
       "      <td>better</td>\n",
       "      <td>know</td>\n",
       "    </tr>\n",
       "    <tr>\n",
       "      <td>2</td>\n",
       "      <td>want</td>\n",
       "      <td>iran</td>\n",
       "      <td>law</td>\n",
       "      <td>free</td>\n",
       "      <td>court</td>\n",
       "      <td>crisis</td>\n",
       "      <td>inside</td>\n",
       "      <td>part</td>\n",
       "      <td>former</td>\n",
       "      <td>global</td>\n",
       "      <td>...</td>\n",
       "      <td>super</td>\n",
       "      <td>food</td>\n",
       "      <td>sexual</td>\n",
       "      <td>face</td>\n",
       "      <td>child</td>\n",
       "      <td>show</td>\n",
       "      <td>line</td>\n",
       "      <td>high</td>\n",
       "      <td>tech</td>\n",
       "      <td>things</td>\n",
       "    </tr>\n",
       "    <tr>\n",
       "      <td>3</td>\n",
       "      <td>kids</td>\n",
       "      <td>even</td>\n",
       "      <td>dies</td>\n",
       "      <td>daily</td>\n",
       "      <td>war</td>\n",
       "      <td>teen</td>\n",
       "      <td>return</td>\n",
       "      <td>brexit</td>\n",
       "      <td>race</td>\n",
       "      <td>sales</td>\n",
       "      <td>...</td>\n",
       "      <td>awards</td>\n",
       "      <td>ways</td>\n",
       "      <td>amid</td>\n",
       "      <td>brain</td>\n",
       "      <td>water</td>\n",
       "      <td>photos</td>\n",
       "      <td>sign</td>\n",
       "      <td>county</td>\n",
       "      <td>online</td>\n",
       "      <td>company</td>\n",
       "    </tr>\n",
       "    <tr>\n",
       "      <td>4</td>\n",
       "      <td>made</td>\n",
       "      <td>little</td>\n",
       "      <td>trailer</td>\n",
       "      <td>guide</td>\n",
       "      <td>case</td>\n",
       "      <td>across</td>\n",
       "      <td>training</td>\n",
       "      <td>mexico</td>\n",
       "      <td>california</td>\n",
       "      <td>key</td>\n",
       "      <td>...</td>\n",
       "      <td>going</td>\n",
       "      <td>park</td>\n",
       "      <td>hits</td>\n",
       "      <td>digital</td>\n",
       "      <td>near</td>\n",
       "      <td>social</td>\n",
       "      <td>minister</td>\n",
       "      <td>student</td>\n",
       "      <td>today</td>\n",
       "      <td>heres</td>\n",
       "    </tr>\n",
       "    <tr>\n",
       "      <td>5</td>\n",
       "      <td>david</td>\n",
       "      <td>give</td>\n",
       "      <td>girl</td>\n",
       "      <td>come</td>\n",
       "      <td>ban</td>\n",
       "      <td>workers</td>\n",
       "      <td>drug</td>\n",
       "      <td>stay</td>\n",
       "      <td>donald</td>\n",
       "      <td>industry</td>\n",
       "      <td>...</td>\n",
       "      <td>rules</td>\n",
       "      <td>without</td>\n",
       "      <td>past</td>\n",
       "      <td>science</td>\n",
       "      <td>abuse</td>\n",
       "      <td>night</td>\n",
       "      <td>issues</td>\n",
       "      <td>push</td>\n",
       "      <td>days</td>\n",
       "      <td>start</td>\n",
       "    </tr>\n",
       "    <tr>\n",
       "      <td>6</td>\n",
       "      <td>really</td>\n",
       "      <td>doesnt</td>\n",
       "      <td>bitcoin</td>\n",
       "      <td>xbox</td>\n",
       "      <td>john</td>\n",
       "      <td>chicken</td>\n",
       "      <td>und</td>\n",
       "      <td>force</td>\n",
       "      <td>senate</td>\n",
       "      <td>growth</td>\n",
       "      <td>...</td>\n",
       "      <td>must</td>\n",
       "      <td>flu</td>\n",
       "      <td>continues</td>\n",
       "      <td>australia</td>\n",
       "      <td>nfl</td>\n",
       "      <td>instagram</td>\n",
       "      <td>warns</td>\n",
       "      <td>isnt</td>\n",
       "      <td>chief</td>\n",
       "      <td>talks</td>\n",
       "    </tr>\n",
       "    <tr>\n",
       "      <td>7</td>\n",
       "      <td>missing</td>\n",
       "      <td>coach</td>\n",
       "      <td>fund</td>\n",
       "      <td>plus</td>\n",
       "      <td>leader</td>\n",
       "      <td>cities</td>\n",
       "      <td>light</td>\n",
       "      <td>scott</td>\n",
       "      <td>campaign</td>\n",
       "      <td>analysis</td>\n",
       "      <td>...</td>\n",
       "      <td>visit</td>\n",
       "      <td>build</td>\n",
       "      <td>british</td>\n",
       "      <td>according</td>\n",
       "      <td>announced</td>\n",
       "      <td>dogs</td>\n",
       "      <td>questions</td>\n",
       "      <td>debate</td>\n",
       "      <td>full</td>\n",
       "      <td>space</td>\n",
       "    </tr>\n",
       "    <tr>\n",
       "      <td>8</td>\n",
       "      <td>move</td>\n",
       "      <td>teams</td>\n",
       "      <td>billy</td>\n",
       "      <td>rumors</td>\n",
       "      <td>challenge</td>\n",
       "      <td>mom</td>\n",
       "      <td>building</td>\n",
       "      <td>express</td>\n",
       "      <td>gop</td>\n",
       "      <td>players</td>\n",
       "      <td>...</td>\n",
       "      <td>list</td>\n",
       "      <td>many</td>\n",
       "      <td>late</td>\n",
       "      <td>helps</td>\n",
       "      <td>draft</td>\n",
       "      <td>celebrates</td>\n",
       "      <td>needs</td>\n",
       "      <td>hes</td>\n",
       "      <td>tuesday</td>\n",
       "      <td>never</td>\n",
       "    </tr>\n",
       "    <tr>\n",
       "      <td>9</td>\n",
       "      <td>looking</td>\n",
       "      <td>two</td>\n",
       "      <td>age</td>\n",
       "      <td>class</td>\n",
       "      <td>assault</td>\n",
       "      <td>card</td>\n",
       "      <td>success</td>\n",
       "      <td>relationship</td>\n",
       "      <td>policy</td>\n",
       "      <td>forecast</td>\n",
       "      <td>...</td>\n",
       "      <td>cup</td>\n",
       "      <td>internet</td>\n",
       "      <td>low</td>\n",
       "      <td>sea</td>\n",
       "      <td>poll</td>\n",
       "      <td>stories</td>\n",
       "      <td>justice</td>\n",
       "      <td>lawmakers</td>\n",
       "      <td>available</td>\n",
       "      <td>model</td>\n",
       "    </tr>\n",
       "  </tbody>\n",
       "</table>\n",
       "<p>10 rows × 60 columns</p>\n",
       "</div>"
      ],
      "text/plain": [
       "   topic_0 topic_1  topic_2 topic_3    topic_4  topic_5   topic_6  \\\n",
       "0     life   still  support     one        gun     back      real   \n",
       "1      way   would     dead    game   students     keep       die   \n",
       "2     want    iran      law    free      court   crisis    inside   \n",
       "3     kids    even     dies   daily        war     teen    return   \n",
       "4     made  little  trailer   guide       case   across  training   \n",
       "5    david    give     girl    come        ban  workers      drug   \n",
       "6   really  doesnt  bitcoin    xbox       john  chicken       und   \n",
       "7  missing   coach     fund    plus     leader   cities     light   \n",
       "8     move   teams    billy  rumors  challenge      mom  building   \n",
       "9  looking     two      age   class    assault     card   success   \n",
       "\n",
       "        topic_7     topic_8   topic_9  ... topic_50  topic_51   topic_52  \\\n",
       "0           may       trump    market  ...    three     study     people   \n",
       "1           air   president  national  ...   league    season     claims   \n",
       "2          part      former    global  ...    super      food     sexual   \n",
       "3        brexit        race     sales  ...   awards      ways       amid   \n",
       "4        mexico  california       key  ...    going      park       hits   \n",
       "5          stay      donald  industry  ...    rules   without       past   \n",
       "6         force      senate    growth  ...     must       flu  continues   \n",
       "7         scott    campaign  analysis  ...    visit     build    british   \n",
       "8       express         gop   players  ...     list      many       late   \n",
       "9  relationship      policy  forecast  ...      cup  internet        low   \n",
       "\n",
       "    topic_53    topic_54    topic_55   topic_56   topic_57   topic_58 topic_59  \n",
       "0     family         top        week        use     school      women     need  \n",
       "1        feb  government        home   military    florida     better     know  \n",
       "2       face       child        show       line       high       tech   things  \n",
       "3      brain       water      photos       sign     county     online  company  \n",
       "4    digital        near      social   minister    student      today    heres  \n",
       "5    science       abuse       night     issues       push       days    start  \n",
       "6  australia         nfl   instagram      warns       isnt      chief    talks  \n",
       "7  according   announced        dogs  questions     debate       full    space  \n",
       "8      helps       draft  celebrates      needs        hes    tuesday    never  \n",
       "9        sea        poll     stories    justice  lawmakers  available    model  \n",
       "\n",
       "[10 rows x 60 columns]"
      ]
     },
     "execution_count": 9,
     "metadata": {},
     "output_type": "execute_result"
    }
   ],
   "source": [
    "topwords = pd.read_csv(\"./{}/{}/top_tokens.csv\".format(local_data_dir, date)).drop(\"Unnamed: 0\", 1)\n",
    "topwords"
   ]
  },
  {
   "cell_type": "markdown",
   "metadata": {},
   "source": [
    "### Nearest neighbors"
   ]
  },
  {
   "cell_type": "markdown",
   "metadata": {},
   "source": [
    "Посчитаем топ k ближайших соседей и посмотрим на них"
   ]
  },
  {
   "cell_type": "code",
   "execution_count": 10,
   "metadata": {},
   "outputs": [],
   "source": [
    "def get_nn_title(title, src_emb, src_id2title, tgt_emb, tgt_id2title, K=5):                                        \n",
    "    print(\"Nearest neighbors of \\\"%s\\\":\" % title)                                                                      \n",
    "    title2id = {v: k for k, v in src_id2title.items()}\n",
    "    title_emb = src_emb[title2id[title]]\n",
    "    scores = (tgt_emb / np.linalg.norm(tgt_emb, 2, 1)[:, None]).dot(title_emb / np.linalg.norm(title_emb))\n",
    "    k_best = scores.argsort()[-K:][::-1]                                                     \n",
    "    for i, idx in enumerate(k_best):\n",
    "        print('%.4f - %s' % (scores[idx], tgt_id2title[idx]))"
   ]
  },
  {
   "cell_type": "markdown",
   "metadata": {},
   "source": [
    "Загружаем матрицу theta (топики документов, которые мы выше посчитали с помощью ARTM)"
   ]
  },
  {
   "cell_type": "code",
   "execution_count": 11,
   "metadata": {},
   "outputs": [
    {
     "data": {
      "text/html": [
       "<div>\n",
       "<style scoped>\n",
       "    .dataframe tbody tr th:only-of-type {\n",
       "        vertical-align: middle;\n",
       "    }\n",
       "\n",
       "    .dataframe tbody tr th {\n",
       "        vertical-align: top;\n",
       "    }\n",
       "\n",
       "    .dataframe thead th {\n",
       "        text-align: right;\n",
       "    }\n",
       "</style>\n",
       "<table border=\"1\" class=\"dataframe\">\n",
       "  <thead>\n",
       "    <tr style=\"text-align: right;\">\n",
       "      <th></th>\n",
       "      <th>Unnamed: 0</th>\n",
       "      <th>article_id</th>\n",
       "      <th>title</th>\n",
       "    </tr>\n",
       "  </thead>\n",
       "  <tbody>\n",
       "    <tr>\n",
       "      <td>0</td>\n",
       "      <td>0</td>\n",
       "      <td>372684348</td>\n",
       "      <td>Why Software Is Crucial For Facebook's Vision ...</td>\n",
       "    </tr>\n",
       "    <tr>\n",
       "      <td>1</td>\n",
       "      <td>1</td>\n",
       "      <td>379646855</td>\n",
       "      <td>Apple's Next iPhone Is Shaping Up to Be a Big ...</td>\n",
       "    </tr>\n",
       "    <tr>\n",
       "      <td>2</td>\n",
       "      <td>2</td>\n",
       "      <td>383358395</td>\n",
       "      <td>Would YOU spend £500 on AirPods? Apple's wirel...</td>\n",
       "    </tr>\n",
       "  </tbody>\n",
       "</table>\n",
       "</div>"
      ],
      "text/plain": [
       "   Unnamed: 0 article_id                                              title\n",
       "0           0  372684348  Why Software Is Crucial For Facebook's Vision ...\n",
       "1           1  379646855  Apple's Next iPhone Is Shaping Up to Be a Big ...\n",
       "2           2  383358395  Would YOU spend £500 on AirPods? Apple's wirel..."
      ]
     },
     "execution_count": 11,
     "metadata": {},
     "output_type": "execute_result"
    }
   ],
   "source": [
    "theta = pd.read_csv(\"./output/2019-11-04/theta.csv\")\n",
    "theta['article_id'] = theta['player_id'].apply(lambda x: x.split(\"_\")[1], 1)\n",
    "df = read_data(\"articles.csv\")\n",
    "df['article_id'] = df['article_id'].astype(str)\n",
    "df.head(3)"
   ]
  },
  {
   "cell_type": "code",
   "execution_count": 12,
   "metadata": {},
   "outputs": [],
   "source": [
    "df = pd.merge(df[['article_id', 'title']], theta, on='article_id')"
   ]
  },
  {
   "cell_type": "markdown",
   "metadata": {},
   "source": [
    "Сделаем список заголовков и список номеров, а после объединим их в словарь"
   ]
  },
  {
   "cell_type": "code",
   "execution_count": 13,
   "metadata": {},
   "outputs": [],
   "source": [
    "titles = df['title'].values\n",
    "qids = range(len(titles))\n",
    "question_dict = dict(zip(qids, titles))"
   ]
  },
  {
   "cell_type": "markdown",
   "metadata": {},
   "source": [
    "Создадим список из наших artm топиков для каждого заголовка"
   ]
  },
  {
   "cell_type": "code",
   "execution_count": 14,
   "metadata": {},
   "outputs": [],
   "source": [
    "embeddings = df[[col for col in df.columns if \"topic\" in col]].values"
   ]
  },
  {
   "cell_type": "markdown",
   "metadata": {},
   "source": [
    "### посмотрим на случайно выбранные заголовки и на ближайшие к ним"
   ]
  },
  {
   "cell_type": "code",
   "execution_count": 15,
   "metadata": {},
   "outputs": [
    {
     "name": "stdout",
     "output_type": "stream",
     "text": [
      "Nearest neighbors of \"Apple's Next iPhone Is Shaping Up to Be a Big Update\":\n",
      "1.0000 - Apple's Next iPhone Is Shaping Up to Be a Big Update\n",
      "0.9943 - Why Is Twitter Discontinuing App For Mac Devices\n",
      "0.9943 - Update: FabFilter Updates All Plug-ins with Improvements and Bug Fixes\n",
      "0.9943 - Apple removes secretive Telegram messaging app from App Store\n",
      "0.9943 - Download macOS 10.13.4 Beta 2 [Developers Only]\n",
      "0.9904 - Axiom fixes fender fitting problems with Axle, Disc & Frame Runner mounts\n",
      "0.9904 - Mesa 17.3.5 Released To Fix A RADV Bug\n",
      "0.9904 - App Builder Appy Pie Out of Beta on iTunes\n",
      "0.9899 - How To Downgrade iOS 11.2.6 On iPhone, iPad, iPod touch\n",
      "0.9899 - Apple releases macOS 10.13.4 beta 3 for developers\n",
      "Nearest neighbors of \"Would YOU spend £500 on AirPods? Apple's wireless earphones are selling for three times their retail price on eBay\":\n",
      "1.0000 - Would YOU spend £500 on AirPods? Apple's wireless earphones are selling for three times their retail price on eBay\n",
      "0.9744 - Best Chromebox Mini PC for Price and Performance\n",
      "0.9744 - Nikon MB-D18 battery grip for the D850 camera now in stock in the US\n",
      "0.9735 - Hyatt Hotels (H) Price Target Raised to $80.00\n",
      "0.9722 - Packers must fix tight end position after the Martellus Bennett mistake\n",
      "0.9698 - Big Stock Buys: Bluebird, Walgreens, Mallinckrodt\n",
      "0.9698 - Big Stock Buys in GE, Citi, DowDuPont, Merck\n",
      "0.9698 - Descartes buys Aljex - Truck News\n",
      "0.9698 - Bojangles': Underappreciated Cult Growth Stock\n",
      "0.9698 - Glance Technologies Receives Meeting Requisition\n",
      "Nearest neighbors of \"Teen Hikers Who Went Missing After Sharing Snapchat Photos Are Found Dead\":\n",
      "1.0000 - Teen Hikers Who Went Missing After Sharing Snapchat Photos Are Found Dead\n",
      "0.9786 - Missing 11-year-old Speedway girl found safe\n",
      "0.9785 - Mom, Kids Found Dead In Apparent Murder-Suicide\n",
      "0.9737 - Electric vehicle advocates looking for support in federal budget\n",
      "0.9736 - Avocado Proposals Are Now A Thing And It's A Stereotyped Millennial's Nightmare\n",
      "0.9736 - 3-month-old girl reported missing in Albuquerque\n",
      "0.9736 - Teen reported missing from Palmyra\n",
      "0.9736 - Age and Workplace Discrimination in Lithuania\n",
      "0.9736 - You've Frozen Your Credit. Now What?\n",
      "0.9736 - Missing '£1.5m' Constable painting found under the stairs\n",
      "Nearest neighbors of \"Spermageddon: Why the Human Race Could Be Infertile in 50 Years | Restoring Liberty\":\n",
      "1.0000 - Spermageddon: Why the Human Race Could Be Infertile in 50 Years | Restoring Liberty\n",
      "0.9817 - Eagles HC Doug Pederson promotes Mike Groh to offensive coordinator\n",
      "0.9787 - Are the Arctic Monkeys planning to announce a series of huge UK homecoming shows?\n",
      "0.9760 - An electric Koenigsegg could be in the brand's future\n",
      "0.9760 - Is WordPress Secure? We Have Got the Answers\n",
      "0.9755 - Las Vegas Gunman's Brain Exam Only Deepens Mystery of His Actions\n",
      "0.9734 - Step Into The Future With Eduonix's Machine Learning Course\n",
      "0.9723 - India Is On The Cusp Of 5G Adoption: Here's Why It Could Change The Country's Future\n",
      "0.9717 - MIT's automated machine learning works 100x faster than human data scientists\n",
      "0.9711 - Europe's largest bank is about to report its full-year earnings. Here's what analysts expect\n",
      "Nearest neighbors of \"Sleep Cycle app for Android will soon allow users to track sleep using sound\":\n",
      "1.0000 - Sleep Cycle app for Android will soon allow users to track sleep using sound\n",
      "0.9731 - How to Fix connection errors in Mail for iPhone or iPad\n",
      "0.9709 - Concept: Creating a more immersive HomePod store experience with AR and Apple Music\n",
      "0.9685 - Chanel Is Releasing Apple Music Playlists Curated by Pharrell & More\n",
      "0.9685 - Chanel Is Releasing Apple Music Playlists Curated by Pharrell & More\n",
      "0.9664 - How to recover lost data from iPhone, iPad, or iPod with iMyFone D-Back for Mac\n",
      "0.9662 - 'Alto's Adventure' sequel 'Alto's Odyssey' launches on iOS on February 22\n",
      "0.9649 - Apple HomePod Launches With Big Sound - and Even Bigger Questions\n",
      "0.9640 - Chef Acevedos Sharpens Yesway's Menu - Convenience Store Decisions\n",
      "0.9622 - Protect consumers' right to repair manufactured devices\n"
     ]
    }
   ],
   "source": [
    "for i in [1, 2, 7, 5001, 15002]:\n",
    "    get_nn_title(titles[i], \n",
    "             np.array(embeddings), \n",
    "             question_dict, np.array(embeddings), question_dict, 10)"
   ]
  },
  {
   "cell_type": "code",
   "execution_count": null,
   "metadata": {},
   "outputs": [],
   "source": []
  }
 ],
 "metadata": {
  "kernelspec": {
   "display_name": "Python 3",
   "language": "python",
   "name": "python3"
  },
  "language_info": {
   "codemirror_mode": {
    "name": "ipython",
    "version": 3
   },
   "file_extension": ".py",
   "mimetype": "text/x-python",
   "name": "python",
   "nbconvert_exporter": "python",
   "pygments_lexer": "ipython3",
   "version": "3.7.3"
  }
 },
 "nbformat": 4,
 "nbformat_minor": 2
}
