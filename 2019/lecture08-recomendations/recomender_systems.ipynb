{
 "cells": [
  {
   "cell_type": "code",
   "execution_count": 6,
   "metadata": {
    "ExecuteTime": {
     "end_time": "2019-11-12T14:51:45.528097Z",
     "start_time": "2019-11-12T14:51:45.201994Z"
    }
   },
   "outputs": [],
   "source": [
    "import re\n",
    "import gensim\n",
    "import numpy as np\n",
    "import pandas as pd\n",
    "from scipy import spatial\n",
    "from lightfm import LightFM\n",
    "from sklearn.metrics import pairwise_distances\n",
    "from scipy.sparse import coo_matrix, csr_matrix\n",
    "from sklearn.metrics.pairwise import cosine_similarity"
   ]
  },
  {
   "cell_type": "code",
   "execution_count": 2,
   "metadata": {
    "ExecuteTime": {
     "end_time": "2019-11-12T13:31:12.224257Z",
     "start_time": "2019-11-12T13:25:37.166713Z"
    }
   },
   "outputs": [],
   "source": [
    "I = np.load(\"interactions_films.npy\")"
   ]
  },
  {
   "cell_type": "code",
   "execution_count": 3,
   "metadata": {
    "ExecuteTime": {
     "end_time": "2019-11-12T13:31:12.457849Z",
     "start_time": "2019-11-12T13:31:12.229694Z"
    }
   },
   "outputs": [],
   "source": [
    "films = pd.read_csv(\"MovieTitles.csv\", delimiter='\\t')"
   ]
  },
  {
   "cell_type": "code",
   "execution_count": 4,
   "metadata": {
    "ExecuteTime": {
     "end_time": "2019-11-12T14:51:25.917975Z",
     "start_time": "2019-11-12T14:51:25.902146Z"
    }
   },
   "outputs": [
    {
     "data": {
      "text/plain": [
       "(480189, 17770)"
      ]
     },
     "execution_count": 4,
     "metadata": {},
     "output_type": "execute_result"
    }
   ],
   "source": [
    "I.shape"
   ]
  },
  {
   "cell_type": "code",
   "execution_count": 5,
   "metadata": {
    "ExecuteTime": {
     "end_time": "2019-11-12T12:32:38.016389Z",
     "start_time": "2019-11-12T12:32:37.785736Z"
    }
   },
   "outputs": [
    {
     "data": {
      "text/plain": [
       "(17770, 3)"
      ]
     },
     "execution_count": 5,
     "metadata": {},
     "output_type": "execute_result"
    }
   ],
   "source": [
    "films.shape"
   ]
  },
  {
   "cell_type": "code",
   "execution_count": 6,
   "metadata": {
    "ExecuteTime": {
     "end_time": "2019-11-12T12:32:38.323118Z",
     "start_time": "2019-11-12T12:32:38.020352Z"
    }
   },
   "outputs": [
    {
     "data": {
      "text/html": [
       "<div>\n",
       "<style scoped>\n",
       "    .dataframe tbody tr th:only-of-type {\n",
       "        vertical-align: middle;\n",
       "    }\n",
       "\n",
       "    .dataframe tbody tr th {\n",
       "        vertical-align: top;\n",
       "    }\n",
       "\n",
       "    .dataframe thead th {\n",
       "        text-align: right;\n",
       "    }\n",
       "</style>\n",
       "<table border=\"1\" class=\"dataframe\">\n",
       "  <thead>\n",
       "    <tr style=\"text-align: right;\">\n",
       "      <th></th>\n",
       "      <th>id</th>\n",
       "      <th>year</th>\n",
       "      <th>title</th>\n",
       "    </tr>\n",
       "  </thead>\n",
       "  <tbody>\n",
       "    <tr>\n",
       "      <th>0</th>\n",
       "      <td>1</td>\n",
       "      <td>2003</td>\n",
       "      <td>Dinosaur Planet</td>\n",
       "    </tr>\n",
       "    <tr>\n",
       "      <th>1</th>\n",
       "      <td>2</td>\n",
       "      <td>2004</td>\n",
       "      <td>Isle of Man TT 2004 Review</td>\n",
       "    </tr>\n",
       "    <tr>\n",
       "      <th>2</th>\n",
       "      <td>3</td>\n",
       "      <td>1997</td>\n",
       "      <td>Character</td>\n",
       "    </tr>\n",
       "    <tr>\n",
       "      <th>3</th>\n",
       "      <td>4</td>\n",
       "      <td>1994</td>\n",
       "      <td>Paula Abdul's Get Up &amp; Dance</td>\n",
       "    </tr>\n",
       "    <tr>\n",
       "      <th>4</th>\n",
       "      <td>5</td>\n",
       "      <td>2004</td>\n",
       "      <td>The Rise and Fall of ECW</td>\n",
       "    </tr>\n",
       "  </tbody>\n",
       "</table>\n",
       "</div>"
      ],
      "text/plain": [
       "   id  year                         title\n",
       "0   1  2003               Dinosaur Planet\n",
       "1   2  2004    Isle of Man TT 2004 Review\n",
       "2   3  1997                     Character\n",
       "3   4  1994  Paula Abdul's Get Up & Dance\n",
       "4   5  2004      The Rise and Fall of ECW"
      ]
     },
     "execution_count": 6,
     "metadata": {},
     "output_type": "execute_result"
    }
   ],
   "source": [
    "films.head()"
   ]
  },
  {
   "cell_type": "markdown",
   "metadata": {},
   "source": [
    "# Топ"
   ]
  },
  {
   "cell_type": "code",
   "execution_count": 29,
   "metadata": {
    "ExecuteTime": {
     "end_time": "2019-11-12T13:16:32.416498Z",
     "start_time": "2019-11-12T13:16:05.868172Z"
    }
   },
   "outputs": [],
   "source": [
    "films_sum = np.sum(I.astype(bool), axis=0)"
   ]
  },
  {
   "cell_type": "code",
   "execution_count": 30,
   "metadata": {
    "ExecuteTime": {
     "end_time": "2019-11-12T13:16:33.913373Z",
     "start_time": "2019-11-12T13:16:33.893087Z"
    }
   },
   "outputs": [
    {
     "data": {
      "text/html": [
       "<div>\n",
       "<style scoped>\n",
       "    .dataframe tbody tr th:only-of-type {\n",
       "        vertical-align: middle;\n",
       "    }\n",
       "\n",
       "    .dataframe tbody tr th {\n",
       "        vertical-align: top;\n",
       "    }\n",
       "\n",
       "    .dataframe thead th {\n",
       "        text-align: right;\n",
       "    }\n",
       "</style>\n",
       "<table border=\"1\" class=\"dataframe\">\n",
       "  <thead>\n",
       "    <tr style=\"text-align: right;\">\n",
       "      <th></th>\n",
       "      <th>id</th>\n",
       "      <th>year</th>\n",
       "      <th>title</th>\n",
       "    </tr>\n",
       "  </thead>\n",
       "  <tbody>\n",
       "    <tr>\n",
       "      <th>0</th>\n",
       "      <td>5317</td>\n",
       "      <td>2000</td>\n",
       "      <td>Miss Congeniality</td>\n",
       "    </tr>\n",
       "    <tr>\n",
       "      <th>1</th>\n",
       "      <td>15124</td>\n",
       "      <td>1996</td>\n",
       "      <td>Independence Day</td>\n",
       "    </tr>\n",
       "    <tr>\n",
       "      <th>2</th>\n",
       "      <td>14313</td>\n",
       "      <td>2000</td>\n",
       "      <td>The Patriot</td>\n",
       "    </tr>\n",
       "    <tr>\n",
       "      <th>3</th>\n",
       "      <td>15205</td>\n",
       "      <td>2004</td>\n",
       "      <td>The Day After Tomorrow</td>\n",
       "    </tr>\n",
       "    <tr>\n",
       "      <th>4</th>\n",
       "      <td>1905</td>\n",
       "      <td>2003</td>\n",
       "      <td>Pirates of the Caribbean: The Curse of the Bla...</td>\n",
       "    </tr>\n",
       "    <tr>\n",
       "      <th>5</th>\n",
       "      <td>6287</td>\n",
       "      <td>1990</td>\n",
       "      <td>Pretty Woman</td>\n",
       "    </tr>\n",
       "    <tr>\n",
       "      <th>6</th>\n",
       "      <td>11283</td>\n",
       "      <td>1994</td>\n",
       "      <td>Forrest Gump</td>\n",
       "    </tr>\n",
       "    <tr>\n",
       "      <th>7</th>\n",
       "      <td>16377</td>\n",
       "      <td>1999</td>\n",
       "      <td>The Green Mile</td>\n",
       "    </tr>\n",
       "    <tr>\n",
       "      <th>8</th>\n",
       "      <td>16242</td>\n",
       "      <td>1997</td>\n",
       "      <td>Con Air</td>\n",
       "    </tr>\n",
       "    <tr>\n",
       "      <th>9</th>\n",
       "      <td>12470</td>\n",
       "      <td>1996</td>\n",
       "      <td>Twister</td>\n",
       "    </tr>\n",
       "  </tbody>\n",
       "</table>\n",
       "</div>"
      ],
      "text/plain": [
       "      id  year                                              title\n",
       "0   5317  2000                                  Miss Congeniality\n",
       "1  15124  1996                                   Independence Day\n",
       "2  14313  2000                                        The Patriot\n",
       "3  15205  2004                             The Day After Tomorrow\n",
       "4   1905  2003  Pirates of the Caribbean: The Curse of the Bla...\n",
       "5   6287  1990                                       Pretty Woman\n",
       "6  11283  1994                                       Forrest Gump\n",
       "7  16377  1999                                     The Green Mile\n",
       "8  16242  1997                                            Con Air\n",
       "9  12470  1996                                            Twister"
      ]
     },
     "execution_count": 30,
     "metadata": {},
     "output_type": "execute_result"
    }
   ],
   "source": [
    "pd.DataFrame(films.values[np.argsort(films_sum)[::-1][:10]], columns=['id', 'year', 'title'])"
   ]
  },
  {
   "cell_type": "markdown",
   "metadata": {},
   "source": [
    "# Content-based"
   ]
  },
  {
   "cell_type": "code",
   "execution_count": 12,
   "metadata": {
    "ExecuteTime": {
     "end_time": "2019-11-12T16:04:39.410176Z",
     "start_time": "2019-11-12T16:04:39.094686Z"
    }
   },
   "outputs": [],
   "source": [
    "list_title = [gensim.utils.simple_preprocess(re.sub(\"[^a-zA-Z]+\", \" \", i.lower())) \n",
    "                           for i in films['title']]"
   ]
  },
  {
   "cell_type": "code",
   "execution_count": 13,
   "metadata": {
    "ExecuteTime": {
     "end_time": "2019-11-12T16:04:47.723959Z",
     "start_time": "2019-11-12T16:04:40.026577Z"
    }
   },
   "outputs": [],
   "source": [
    "# build vocabulary and train model\n",
    "model = gensim.models.Word2Vec(\n",
    "        list_title,\n",
    "        size=200,\n",
    "        window=10,\n",
    "        min_count=1,\n",
    "        workers=10,\n",
    "        iter=100)"
   ]
  },
  {
   "cell_type": "code",
   "execution_count": 14,
   "metadata": {
    "ExecuteTime": {
     "end_time": "2019-11-12T16:04:47.779888Z",
     "start_time": "2019-11-12T16:04:47.727963Z"
    }
   },
   "outputs": [
    {
     "name": "stdout",
     "output_type": "stream",
     "text": [
      "octane 0.569503247738\n",
      "barb 0.560724854469\n",
      "sisters 0.558799505234\n",
      "xi 0.556424677372\n",
      "vampires 0.541829705238\n",
      "guts 0.527166962624\n",
      "taste 0.522284269333\n",
      "babette 0.516442656517\n",
      "grave 0.516346871853\n",
      "sand 0.514134764671\n"
     ]
    }
   ],
   "source": [
    "for i, j in model.wv.most_similar('blood', topn=10):\n",
    "    print i, j"
   ]
  },
  {
   "cell_type": "code",
   "execution_count": 15,
   "metadata": {
    "ExecuteTime": {
     "end_time": "2019-11-12T16:04:47.982496Z",
     "start_time": "2019-11-12T16:04:47.783871Z"
    }
   },
   "outputs": [],
   "source": [
    "def avg_feature_vector(words, model, num_features, index2word_set):\n",
    "    feature_vec = np.zeros((num_features, ), dtype='float32')\n",
    "    n_words = 0\n",
    "    for word in words:\n",
    "        if word in index2word_set:\n",
    "            n_words += 1\n",
    "            feature_vec = np.add(feature_vec, model.wv[word])\n",
    "    if (n_words > 0):\n",
    "        feature_vec = np.divide(feature_vec, n_words)\n",
    "    return feature_vec"
   ]
  },
  {
   "cell_type": "code",
   "execution_count": 16,
   "metadata": {
    "ExecuteTime": {
     "end_time": "2019-11-12T16:04:48.041823Z",
     "start_time": "2019-11-12T16:04:47.986327Z"
    }
   },
   "outputs": [],
   "source": [
    "index2word_set = set(model.wv.index2word)"
   ]
  },
  {
   "cell_type": "code",
   "execution_count": 17,
   "metadata": {
    "ExecuteTime": {
     "end_time": "2019-11-12T16:04:50.109505Z",
     "start_time": "2019-11-12T16:04:49.797488Z"
    }
   },
   "outputs": [],
   "source": [
    "film_embs = np.zeros((len(list_title), 200))\n",
    "for i in range(film_embs.shape[0]):\n",
    "    film_embs[i] = avg_feature_vector(list_title[i], model, 200, index2word_set)"
   ]
  },
  {
   "cell_type": "code",
   "execution_count": 18,
   "metadata": {
    "ExecuteTime": {
     "end_time": "2019-11-12T16:04:50.654990Z",
     "start_time": "2019-11-12T16:04:50.650812Z"
    }
   },
   "outputs": [],
   "source": [
    "idx = -1"
   ]
  },
  {
   "cell_type": "code",
   "execution_count": 19,
   "metadata": {
    "ExecuteTime": {
     "end_time": "2019-11-12T16:04:52.092413Z",
     "start_time": "2019-11-12T16:04:52.071839Z"
    }
   },
   "outputs": [
    {
     "data": {
      "text/html": [
       "<div>\n",
       "<style scoped>\n",
       "    .dataframe tbody tr th:only-of-type {\n",
       "        vertical-align: middle;\n",
       "    }\n",
       "\n",
       "    .dataframe tbody tr th {\n",
       "        vertical-align: top;\n",
       "    }\n",
       "\n",
       "    .dataframe thead th {\n",
       "        text-align: right;\n",
       "    }\n",
       "</style>\n",
       "<table border=\"1\" class=\"dataframe\">\n",
       "  <thead>\n",
       "    <tr style=\"text-align: right;\">\n",
       "      <th></th>\n",
       "      <th>title</th>\n",
       "    </tr>\n",
       "  </thead>\n",
       "  <tbody>\n",
       "    <tr>\n",
       "      <th>0</th>\n",
       "      <td>shakespeare in love</td>\n",
       "    </tr>\n",
       "  </tbody>\n",
       "</table>\n",
       "</div>"
      ],
      "text/plain": [
       "                 title\n",
       "0  shakespeare in love"
      ]
     },
     "execution_count": 19,
     "metadata": {},
     "output_type": "execute_result"
    }
   ],
   "source": [
    "pd.DataFrame([' '.join(i) for i in np.array(list_title)[I[idx] > 0]], columns=['title'])"
   ]
  },
  {
   "cell_type": "code",
   "execution_count": 20,
   "metadata": {
    "ExecuteTime": {
     "end_time": "2019-11-12T16:04:55.310135Z",
     "start_time": "2019-11-12T16:04:55.245363Z"
    }
   },
   "outputs": [
    {
     "data": {
      "text/html": [
       "<div>\n",
       "<style scoped>\n",
       "    .dataframe tbody tr th:only-of-type {\n",
       "        vertical-align: middle;\n",
       "    }\n",
       "\n",
       "    .dataframe tbody tr th {\n",
       "        vertical-align: top;\n",
       "    }\n",
       "\n",
       "    .dataframe thead th {\n",
       "        text-align: right;\n",
       "    }\n",
       "</style>\n",
       "<table border=\"1\" class=\"dataframe\">\n",
       "  <thead>\n",
       "    <tr style=\"text-align: right;\">\n",
       "      <th></th>\n",
       "      <th>film name</th>\n",
       "    </tr>\n",
       "  </thead>\n",
       "  <tbody>\n",
       "    <tr>\n",
       "      <th>1</th>\n",
       "      <td>juliet in love</td>\n",
       "    </tr>\n",
       "    <tr>\n",
       "      <th>2</th>\n",
       "      <td>swann in love</td>\n",
       "    </tr>\n",
       "    <tr>\n",
       "      <th>3</th>\n",
       "      <td>love in sampan</td>\n",
       "    </tr>\n",
       "    <tr>\n",
       "      <th>4</th>\n",
       "      <td>love in thoughts</td>\n",
       "    </tr>\n",
       "    <tr>\n",
       "      <th>5</th>\n",
       "      <td>falling in love</td>\n",
       "    </tr>\n",
       "    <tr>\n",
       "      <th>6</th>\n",
       "      <td>love in cold climate</td>\n",
       "    </tr>\n",
       "    <tr>\n",
       "      <th>7</th>\n",
       "      <td>thomas in love</td>\n",
       "    </tr>\n",
       "    <tr>\n",
       "      <th>8</th>\n",
       "      <td>young doctors in love</td>\n",
       "    </tr>\n",
       "    <tr>\n",
       "      <th>9</th>\n",
       "      <td>women in love</td>\n",
       "    </tr>\n",
       "  </tbody>\n",
       "</table>\n",
       "</div>"
      ],
      "text/plain": [
       "               film name\n",
       "1         juliet in love\n",
       "2          swann in love\n",
       "3         love in sampan\n",
       "4       love in thoughts\n",
       "5        falling in love\n",
       "6   love in cold climate\n",
       "7         thomas in love\n",
       "8  young doctors in love\n",
       "9          women in love"
      ]
     },
     "execution_count": 20,
     "metadata": {},
     "output_type": "execute_result"
    }
   ],
   "source": [
    "pd.DataFrame([' '.join(i) for i in np.array(list_title)[np.argsort(cosine_similarity(film_embs,\n",
    "                  [avg_feature_vector(sum(list(np.array(list_title)[I[idx] > 0]), []),\n",
    "                                      model,\n",
    "                                      200,\n",
    "                                      index2word_set)]).ravel())[::-1][:10]]], columns=['film name'])[1:]"
   ]
  },
  {
   "cell_type": "markdown",
   "metadata": {},
   "source": [
    "# Коллаборативная фильтрация"
   ]
  },
  {
   "cell_type": "code",
   "execution_count": 21,
   "metadata": {
    "ExecuteTime": {
     "end_time": "2019-11-12T16:09:15.719165Z",
     "start_time": "2019-11-12T16:06:29.401897Z"
    }
   },
   "outputs": [],
   "source": [
    "csr_I = csr_matrix(I)"
   ]
  },
  {
   "cell_type": "code",
   "execution_count": 22,
   "metadata": {
    "ExecuteTime": {
     "end_time": "2019-11-12T16:09:16.686407Z",
     "start_time": "2019-11-12T16:09:15.724053Z"
    }
   },
   "outputs": [],
   "source": [
    "m = cosine_similarity(I[0].reshape(1, -1), csr_I).reshape(-1, 1)"
   ]
  },
  {
   "cell_type": "code",
   "execution_count": 23,
   "metadata": {
    "ExecuteTime": {
     "end_time": "2019-11-12T16:09:16.700684Z",
     "start_time": "2019-11-12T16:09:16.689571Z"
    }
   },
   "outputs": [],
   "source": [
    "def recs(idx, rates, csr_rates):\n",
    "    # считаем косинус между всеми пользователями\n",
    "    metrics = cosine_similarity(I[idx].reshape(1, -1), csr_rates).reshape(-1, 1)\n",
    "    # домножаем оценки пользовтеля на коэффициент похожести\n",
    "    rates *= metrics\n",
    "    # чтобы не рекомендовать уже просмотренные - зануляем веса просмотренных\n",
    "    total_rate = (1 - rates[idx].astype(bool)) * np.sum(rates, axis=0)\n",
    "    # печатаем рекомендацию. если хотим рекомендовать несколько фильмов - делаем argsort вместо argmax\n",
    "    index_of_watched_movies = rates[idx].astype(bool)\n",
    "    return (pd.DataFrame(np.hstack((films['title'][index_of_watched_movies].values.reshape(-1, 1),\n",
    "                                rates[idx][index_of_watched_movies].reshape(-1, 1))), columns=['film', 'rate']), \n",
    "            pd.DataFrame(films['title'].values[np.argsort(total_rate)[::-1][:5]], columns = ['film']))"
   ]
  },
  {
   "cell_type": "code",
   "execution_count": 24,
   "metadata": {
    "ExecuteTime": {
     "end_time": "2019-11-12T16:15:55.841786Z",
     "start_time": "2019-11-12T16:15:00.665510Z"
    }
   },
   "outputs": [],
   "source": [
    "idx = 10\n",
    "watched, recomends = recs(idx, I, csr_I)"
   ]
  },
  {
   "cell_type": "code",
   "execution_count": 25,
   "metadata": {
    "ExecuteTime": {
     "end_time": "2019-11-12T16:15:55.881545Z",
     "start_time": "2019-11-12T16:15:55.846460Z"
    }
   },
   "outputs": [
    {
     "name": "stdout",
     "output_type": "stream",
     "text": [
      "Пользователь 10 видел следующие фильмы:\n"
     ]
    },
    {
     "data": {
      "text/html": [
       "<div>\n",
       "<style scoped>\n",
       "    .dataframe tbody tr th:only-of-type {\n",
       "        vertical-align: middle;\n",
       "    }\n",
       "\n",
       "    .dataframe tbody tr th {\n",
       "        vertical-align: top;\n",
       "    }\n",
       "\n",
       "    .dataframe thead th {\n",
       "        text-align: right;\n",
       "    }\n",
       "</style>\n",
       "<table border=\"1\" class=\"dataframe\">\n",
       "  <thead>\n",
       "    <tr style=\"text-align: right;\">\n",
       "      <th></th>\n",
       "      <th>film</th>\n",
       "      <th>rate</th>\n",
       "    </tr>\n",
       "  </thead>\n",
       "  <tbody>\n",
       "    <tr>\n",
       "      <th>0</th>\n",
       "      <td>Dinosaur Planet</td>\n",
       "      <td>4</td>\n",
       "    </tr>\n",
       "    <tr>\n",
       "      <th>1</th>\n",
       "      <td>Bridget Jones's Diary</td>\n",
       "      <td>3</td>\n",
       "    </tr>\n",
       "    <tr>\n",
       "      <th>2</th>\n",
       "      <td>Princess Mononoke</td>\n",
       "      <td>5</td>\n",
       "    </tr>\n",
       "    <tr>\n",
       "      <th>3</th>\n",
       "      <td>Blue Planet: IMAX</td>\n",
       "      <td>3</td>\n",
       "    </tr>\n",
       "    <tr>\n",
       "      <th>4</th>\n",
       "      <td>When Dinosaurs Roamed America</td>\n",
       "      <td>4</td>\n",
       "    </tr>\n",
       "    <tr>\n",
       "      <th>5</th>\n",
       "      <td>Aimee and Jaguar</td>\n",
       "      <td>3</td>\n",
       "    </tr>\n",
       "    <tr>\n",
       "      <th>6</th>\n",
       "      <td>Walking with Dinosaurs</td>\n",
       "      <td>5</td>\n",
       "    </tr>\n",
       "    <tr>\n",
       "      <th>7</th>\n",
       "      <td>Scooby-Doo Meets Batman</td>\n",
       "      <td>3</td>\n",
       "    </tr>\n",
       "    <tr>\n",
       "      <th>8</th>\n",
       "      <td>Eternal Sunshine of the Spotless Mind</td>\n",
       "      <td>4</td>\n",
       "    </tr>\n",
       "    <tr>\n",
       "      <th>9</th>\n",
       "      <td>Being John Malkovich</td>\n",
       "      <td>3</td>\n",
       "    </tr>\n",
       "    <tr>\n",
       "      <th>10</th>\n",
       "      <td>Brother Bear (Theatrical Widescreen Version)</td>\n",
       "      <td>3</td>\n",
       "    </tr>\n",
       "    <tr>\n",
       "      <th>11</th>\n",
       "      <td>The Looney Tunes Golden Collection: Vol. 2</td>\n",
       "      <td>3</td>\n",
       "    </tr>\n",
       "    <tr>\n",
       "      <th>12</th>\n",
       "      <td>Little House on the Prairie: Season 2</td>\n",
       "      <td>3</td>\n",
       "    </tr>\n",
       "    <tr>\n",
       "      <th>13</th>\n",
       "      <td>The Looney Tunes Golden Collection: Vol. 1</td>\n",
       "      <td>3</td>\n",
       "    </tr>\n",
       "    <tr>\n",
       "      <th>14</th>\n",
       "      <td>Super Size Me</td>\n",
       "      <td>4</td>\n",
       "    </tr>\n",
       "    <tr>\n",
       "      <th>15</th>\n",
       "      <td>The Bourne Supremacy</td>\n",
       "      <td>3</td>\n",
       "    </tr>\n",
       "    <tr>\n",
       "      <th>16</th>\n",
       "      <td>The Emperor's New Groove</td>\n",
       "      <td>3</td>\n",
       "    </tr>\n",
       "    <tr>\n",
       "      <th>17</th>\n",
       "      <td>The Life of Mammals</td>\n",
       "      <td>4</td>\n",
       "    </tr>\n",
       "    <tr>\n",
       "      <th>18</th>\n",
       "      <td>Elf</td>\n",
       "      <td>3</td>\n",
       "    </tr>\n",
       "    <tr>\n",
       "      <th>19</th>\n",
       "      <td>The Lion King: Special Edition</td>\n",
       "      <td>4</td>\n",
       "    </tr>\n",
       "    <tr>\n",
       "      <th>20</th>\n",
       "      <td>Napoleon Dynamite</td>\n",
       "      <td>4</td>\n",
       "    </tr>\n",
       "    <tr>\n",
       "      <th>21</th>\n",
       "      <td>Around the World in 80 Days</td>\n",
       "      <td>3</td>\n",
       "    </tr>\n",
       "    <tr>\n",
       "      <th>22</th>\n",
       "      <td>Shrek 2</td>\n",
       "      <td>4</td>\n",
       "    </tr>\n",
       "    <tr>\n",
       "      <th>23</th>\n",
       "      <td>Sharks: Great White / Ultimate Guide to Sharks</td>\n",
       "      <td>3</td>\n",
       "    </tr>\n",
       "    <tr>\n",
       "      <th>24</th>\n",
       "      <td>Scooby-Doo 2: Monsters Unleashed</td>\n",
       "      <td>3</td>\n",
       "    </tr>\n",
       "    <tr>\n",
       "      <th>25</th>\n",
       "      <td>Walking with Cavemen</td>\n",
       "      <td>4</td>\n",
       "    </tr>\n",
       "    <tr>\n",
       "      <th>26</th>\n",
       "      <td>Star Trek: The Original Series: Vols. 1-15</td>\n",
       "      <td>3</td>\n",
       "    </tr>\n",
       "    <tr>\n",
       "      <th>27</th>\n",
       "      <td>Steel Magnolias</td>\n",
       "      <td>3</td>\n",
       "    </tr>\n",
       "    <tr>\n",
       "      <th>28</th>\n",
       "      <td>Me and You and Everyone We Know</td>\n",
       "      <td>3</td>\n",
       "    </tr>\n",
       "    <tr>\n",
       "      <th>29</th>\n",
       "      <td>Mission: Impossible</td>\n",
       "      <td>3</td>\n",
       "    </tr>\n",
       "    <tr>\n",
       "      <th>...</th>\n",
       "      <td>...</td>\n",
       "      <td>...</td>\n",
       "    </tr>\n",
       "    <tr>\n",
       "      <th>68</th>\n",
       "      <td>Big Fish</td>\n",
       "      <td>4</td>\n",
       "    </tr>\n",
       "    <tr>\n",
       "      <th>69</th>\n",
       "      <td>Harry Potter and the Prisoner of Azkaban</td>\n",
       "      <td>3</td>\n",
       "    </tr>\n",
       "    <tr>\n",
       "      <th>70</th>\n",
       "      <td>Treasure Island</td>\n",
       "      <td>4</td>\n",
       "    </tr>\n",
       "    <tr>\n",
       "      <th>71</th>\n",
       "      <td>What's New Scooby-Doo?</td>\n",
       "      <td>3</td>\n",
       "    </tr>\n",
       "    <tr>\n",
       "      <th>72</th>\n",
       "      <td>Chicago</td>\n",
       "      <td>3</td>\n",
       "    </tr>\n",
       "    <tr>\n",
       "      <th>73</th>\n",
       "      <td>Allosaurus: A Walking with Dinosaurs Special</td>\n",
       "      <td>4</td>\n",
       "    </tr>\n",
       "    <tr>\n",
       "      <th>74</th>\n",
       "      <td>Kandahar</td>\n",
       "      <td>3</td>\n",
       "    </tr>\n",
       "    <tr>\n",
       "      <th>75</th>\n",
       "      <td>Danny Deckchair</td>\n",
       "      <td>4</td>\n",
       "    </tr>\n",
       "    <tr>\n",
       "      <th>76</th>\n",
       "      <td>Air Jaws 1 and 2: Sharks of South Africa</td>\n",
       "      <td>3</td>\n",
       "    </tr>\n",
       "    <tr>\n",
       "      <th>77</th>\n",
       "      <td>Grave of the Fireflies</td>\n",
       "      <td>2</td>\n",
       "    </tr>\n",
       "    <tr>\n",
       "      <th>78</th>\n",
       "      <td>David and Lisa</td>\n",
       "      <td>3</td>\n",
       "    </tr>\n",
       "    <tr>\n",
       "      <th>79</th>\n",
       "      <td>Rivers and Tides</td>\n",
       "      <td>4</td>\n",
       "    </tr>\n",
       "    <tr>\n",
       "      <th>80</th>\n",
       "      <td>The Firm</td>\n",
       "      <td>3</td>\n",
       "    </tr>\n",
       "    <tr>\n",
       "      <th>81</th>\n",
       "      <td>Nature: Reptiles: Snakes and Lizards</td>\n",
       "      <td>4</td>\n",
       "    </tr>\n",
       "    <tr>\n",
       "      <th>82</th>\n",
       "      <td>Why Dogs Smile and Chimpanzees Cry</td>\n",
       "      <td>4</td>\n",
       "    </tr>\n",
       "    <tr>\n",
       "      <th>83</th>\n",
       "      <td>Outlaw Star: Vol. 3</td>\n",
       "      <td>1</td>\n",
       "    </tr>\n",
       "    <tr>\n",
       "      <th>84</th>\n",
       "      <td>Napoleon &amp; Samantha</td>\n",
       "      <td>3</td>\n",
       "    </tr>\n",
       "    <tr>\n",
       "      <th>85</th>\n",
       "      <td>Traffic</td>\n",
       "      <td>3</td>\n",
       "    </tr>\n",
       "    <tr>\n",
       "      <th>86</th>\n",
       "      <td>Animals Are Beautiful People</td>\n",
       "      <td>4</td>\n",
       "    </tr>\n",
       "    <tr>\n",
       "      <th>87</th>\n",
       "      <td>Mona Lisa Smile</td>\n",
       "      <td>3</td>\n",
       "    </tr>\n",
       "    <tr>\n",
       "      <th>88</th>\n",
       "      <td>Scooby-Doo! Winter Wonder Dog</td>\n",
       "      <td>4</td>\n",
       "    </tr>\n",
       "    <tr>\n",
       "      <th>89</th>\n",
       "      <td>Blue Crush</td>\n",
       "      <td>3</td>\n",
       "    </tr>\n",
       "    <tr>\n",
       "      <th>90</th>\n",
       "      <td>Porco Rosso</td>\n",
       "      <td>4</td>\n",
       "    </tr>\n",
       "    <tr>\n",
       "      <th>91</th>\n",
       "      <td>The Brady Bunch: Season 1</td>\n",
       "      <td>4</td>\n",
       "    </tr>\n",
       "    <tr>\n",
       "      <th>92</th>\n",
       "      <td>Winged Migration</td>\n",
       "      <td>4</td>\n",
       "    </tr>\n",
       "    <tr>\n",
       "      <th>93</th>\n",
       "      <td>Magnolia</td>\n",
       "      <td>3</td>\n",
       "    </tr>\n",
       "    <tr>\n",
       "      <th>94</th>\n",
       "      <td>The Clearing</td>\n",
       "      <td>3</td>\n",
       "    </tr>\n",
       "    <tr>\n",
       "      <th>95</th>\n",
       "      <td>The Terminal</td>\n",
       "      <td>2</td>\n",
       "    </tr>\n",
       "    <tr>\n",
       "      <th>96</th>\n",
       "      <td>Scooby-Doo and the Loch Ness Monster</td>\n",
       "      <td>4</td>\n",
       "    </tr>\n",
       "    <tr>\n",
       "      <th>97</th>\n",
       "      <td>Scooby-Doo</td>\n",
       "      <td>4</td>\n",
       "    </tr>\n",
       "  </tbody>\n",
       "</table>\n",
       "<p>98 rows × 2 columns</p>\n",
       "</div>"
      ],
      "text/plain": [
       "                                              film rate\n",
       "0                                  Dinosaur Planet    4\n",
       "1                            Bridget Jones's Diary    3\n",
       "2                                Princess Mononoke    5\n",
       "3                                Blue Planet: IMAX    3\n",
       "4                    When Dinosaurs Roamed America    4\n",
       "5                                 Aimee and Jaguar    3\n",
       "6                           Walking with Dinosaurs    5\n",
       "7                          Scooby-Doo Meets Batman    3\n",
       "8            Eternal Sunshine of the Spotless Mind    4\n",
       "9                             Being John Malkovich    3\n",
       "10    Brother Bear (Theatrical Widescreen Version)    3\n",
       "11      The Looney Tunes Golden Collection: Vol. 2    3\n",
       "12           Little House on the Prairie: Season 2    3\n",
       "13      The Looney Tunes Golden Collection: Vol. 1    3\n",
       "14                                   Super Size Me    4\n",
       "15                            The Bourne Supremacy    3\n",
       "16                        The Emperor's New Groove    3\n",
       "17                             The Life of Mammals    4\n",
       "18                                             Elf    3\n",
       "19                  The Lion King: Special Edition    4\n",
       "20                               Napoleon Dynamite    4\n",
       "21                     Around the World in 80 Days    3\n",
       "22                                         Shrek 2    4\n",
       "23  Sharks: Great White / Ultimate Guide to Sharks    3\n",
       "24                Scooby-Doo 2: Monsters Unleashed    3\n",
       "25                            Walking with Cavemen    4\n",
       "26      Star Trek: The Original Series: Vols. 1-15    3\n",
       "27                                 Steel Magnolias    3\n",
       "28                 Me and You and Everyone We Know    3\n",
       "29                             Mission: Impossible    3\n",
       "..                                             ...  ...\n",
       "68                                        Big Fish    4\n",
       "69        Harry Potter and the Prisoner of Azkaban    3\n",
       "70                                 Treasure Island    4\n",
       "71                          What's New Scooby-Doo?    3\n",
       "72                                         Chicago    3\n",
       "73    Allosaurus: A Walking with Dinosaurs Special    4\n",
       "74                                        Kandahar    3\n",
       "75                                 Danny Deckchair    4\n",
       "76        Air Jaws 1 and 2: Sharks of South Africa    3\n",
       "77                          Grave of the Fireflies    2\n",
       "78                                  David and Lisa    3\n",
       "79                                Rivers and Tides    4\n",
       "80                                        The Firm    3\n",
       "81            Nature: Reptiles: Snakes and Lizards    4\n",
       "82              Why Dogs Smile and Chimpanzees Cry    4\n",
       "83                             Outlaw Star: Vol. 3    1\n",
       "84                             Napoleon & Samantha    3\n",
       "85                                         Traffic    3\n",
       "86                    Animals Are Beautiful People    4\n",
       "87                                 Mona Lisa Smile    3\n",
       "88                   Scooby-Doo! Winter Wonder Dog    4\n",
       "89                                      Blue Crush    3\n",
       "90                                     Porco Rosso    4\n",
       "91                       The Brady Bunch: Season 1    4\n",
       "92                                Winged Migration    4\n",
       "93                                        Magnolia    3\n",
       "94                                    The Clearing    3\n",
       "95                                    The Terminal    2\n",
       "96            Scooby-Doo and the Loch Ness Monster    4\n",
       "97                                      Scooby-Doo    4\n",
       "\n",
       "[98 rows x 2 columns]"
      ]
     },
     "execution_count": 25,
     "metadata": {},
     "output_type": "execute_result"
    }
   ],
   "source": [
    "print u\"Пользователь {} видел следующие фильмы:\".format(idx)\n",
    "watched"
   ]
  },
  {
   "cell_type": "code",
   "execution_count": 34,
   "metadata": {
    "ExecuteTime": {
     "end_time": "2019-11-12T16:18:59.028325Z",
     "start_time": "2019-11-12T16:18:59.013599Z"
    }
   },
   "outputs": [
    {
     "name": "stdout",
     "output_type": "stream",
     "text": [
      "Рекомендуем посмотреть пользователю 10312 фильмы\n"
     ]
    },
    {
     "data": {
      "text/html": [
       "<div>\n",
       "<style scoped>\n",
       "    .dataframe tbody tr th:only-of-type {\n",
       "        vertical-align: middle;\n",
       "    }\n",
       "\n",
       "    .dataframe tbody tr th {\n",
       "        vertical-align: top;\n",
       "    }\n",
       "\n",
       "    .dataframe thead th {\n",
       "        text-align: right;\n",
       "    }\n",
       "</style>\n",
       "<table border=\"1\" class=\"dataframe\">\n",
       "  <thead>\n",
       "    <tr style=\"text-align: right;\">\n",
       "      <th></th>\n",
       "      <th>film</th>\n",
       "    </tr>\n",
       "  </thead>\n",
       "  <tbody>\n",
       "    <tr>\n",
       "      <th>0</th>\n",
       "      <td>Pirates of the Caribbean: The Curse of the Bla...</td>\n",
       "    </tr>\n",
       "    <tr>\n",
       "      <th>1</th>\n",
       "      <td>Forrest Gump</td>\n",
       "    </tr>\n",
       "    <tr>\n",
       "      <th>2</th>\n",
       "      <td>Lord of the Rings: The Two Towers</td>\n",
       "    </tr>\n",
       "    <tr>\n",
       "      <th>3</th>\n",
       "      <td>Lord of the Rings: The Fellowship of the Ring</td>\n",
       "    </tr>\n",
       "    <tr>\n",
       "      <th>4</th>\n",
       "      <td>The Green Mile</td>\n",
       "    </tr>\n",
       "  </tbody>\n",
       "</table>\n",
       "</div>"
      ],
      "text/plain": [
       "                                                film\n",
       "0  Pirates of the Caribbean: The Curse of the Bla...\n",
       "1                                       Forrest Gump\n",
       "2                  Lord of the Rings: The Two Towers\n",
       "3      Lord of the Rings: The Fellowship of the Ring\n",
       "4                                     The Green Mile"
      ]
     },
     "execution_count": 34,
     "metadata": {},
     "output_type": "execute_result"
    }
   ],
   "source": [
    "print u\"Рекомендуем посмотреть пользователю {} фильмы\".format(idx)\n",
    "recomends"
   ]
  },
  {
   "cell_type": "markdown",
   "metadata": {},
   "source": [
    "# Матричная факторизация"
   ]
  },
  {
   "cell_type": "code",
   "execution_count": 7,
   "metadata": {
    "ExecuteTime": {
     "end_time": "2019-11-12T14:51:53.320513Z",
     "start_time": "2019-11-12T14:51:53.315618Z"
    }
   },
   "outputs": [],
   "source": [
    "# Instantiate and train the model\n",
    "model = LightFM(loss='warp', no_components=100, learning_rate=0.03, learning_schedule=\"adadelta\")"
   ]
  },
  {
   "cell_type": "code",
   "execution_count": 8,
   "metadata": {
    "ExecuteTime": {
     "end_time": "2019-11-12T14:58:00.199929Z",
     "start_time": "2019-11-12T14:51:54.479898Z"
    }
   },
   "outputs": [
    {
     "name": "stdout",
     "output_type": "stream",
     "text": [
      "Epoch 0\n",
      "Epoch 1\n",
      "Epoch 2\n",
      "Epoch 3\n",
      "Epoch 4\n"
     ]
    },
    {
     "data": {
      "text/plain": [
       "<lightfm.lightfm.LightFM at 0x7fdbc106d250>"
      ]
     },
     "execution_count": 8,
     "metadata": {},
     "output_type": "execute_result"
    }
   ],
   "source": [
    "model.fit(coo_matrix(I), epochs=5, num_threads=40, verbose=True)"
   ]
  },
  {
   "cell_type": "code",
   "execution_count": 9,
   "metadata": {
    "ExecuteTime": {
     "end_time": "2019-11-12T15:25:13.202383Z",
     "start_time": "2019-11-12T15:25:13.196964Z"
    }
   },
   "outputs": [],
   "source": [
    "user_feature_bias, user_feature_embeddings = model.get_user_representations()\n",
    "item_feature_bias, item_feature_embeddings = model.get_item_representations()"
   ]
  },
  {
   "cell_type": "code",
   "execution_count": 27,
   "metadata": {
    "ExecuteTime": {
     "end_time": "2019-11-12T16:15:56.571273Z",
     "start_time": "2019-11-12T16:15:56.239359Z"
    }
   },
   "outputs": [
    {
     "data": {
      "text/plain": [
       "(17770, 100)"
      ]
     },
     "execution_count": 27,
     "metadata": {},
     "output_type": "execute_result"
    }
   ],
   "source": [
    "item_feature_embeddings.shape"
   ]
  },
  {
   "cell_type": "code",
   "execution_count": 33,
   "metadata": {
    "ExecuteTime": {
     "end_time": "2019-11-12T16:18:23.212975Z",
     "start_time": "2019-11-12T16:18:23.196693Z"
    }
   },
   "outputs": [
    {
     "name": "stdout",
     "output_type": "stream",
     "text": [
      "Lord of the Rings: The Fellowship of the Ring: Bonus Material\n",
      "Lord of the Rings: The Two Towers: Bonus Material\n",
      "Lord of the Rings: The Return of the King: Bonus Material\n",
      "Harry Potter and the Chamber of Secrets: Bonus Material\n",
      "X-Men: Bonus Material\n",
      "The Matrix: Reloaded: Bonus Material\n",
      "Pirates of the Caribbean: The Curse of the Black Pearl: Bonus Material\n",
      "Spider-Man: Bonus Material\n",
      "Harry Potter and the Sorcerer's Stone: Bonus Material\n",
      "Star Wars: Episode II: Attack of the Clones: Bonus Material\n"
     ]
    }
   ],
   "source": [
    "idx = 10312 #, 11520, 12545, 11444, 408, 14617, 8742, 797, 15852, 14927\n",
    "\n",
    "metrics = (1 - pairwise_distances(item_feature_embeddings[idx].reshape(1, -1),\n",
    "                                  item_feature_embeddings, \n",
    "                                  metric='cosine'))\n",
    "\n",
    "for i in np.argsort(metrics)[0][::-1][:10]:\n",
    "    print films['title'][i]"
   ]
  }
 ],
 "metadata": {
  "kernelspec": {
   "display_name": "Python 2",
   "language": "python",
   "name": "python2"
  },
  "language_info": {
   "codemirror_mode": {
    "name": "ipython",
    "version": 2
   },
   "file_extension": ".py",
   "mimetype": "text/x-python",
   "name": "python",
   "nbconvert_exporter": "python",
   "pygments_lexer": "ipython2",
   "version": "2.7.15"
  }
 },
 "nbformat": 4,
 "nbformat_minor": 2
}
