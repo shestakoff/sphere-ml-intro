{
 "cells": [
  {
   "cell_type": "markdown",
   "metadata": {
    "slideshow": {
     "slide_type": "slide"
    }
   },
   "source": [
    "<center><img src=\"images/header.png\"></center>\n",
    "\n",
    "<h1><center>Лекция №6: Введение в анализ социальных сетей</center></h1>\n",
    "<hr>\n",
    "<h1><center>Домашняя работа</center></h1>"
   ]
  },
  {
   "cell_type": "markdown",
   "metadata": {},
   "source": [
    "Данное ДЗ является довольно творческим и оно требует довольно много самостоятельной работы, так что не стоит с ним мешкать =)\n",
    "\n",
    "Вам предлагается выбрать сообщество (или сообщества) в сети ВКонтакте и проанализировать его (их) контингент. \n",
    "\n",
    "\n",
    "**Правила:**\n",
    "* Отчеты принимаются до **23:59 11 ноября**. Вы должны залить ваш ноутбук в github дать на него ссылку в следующей [форме](https://forms.gle/88d9CfaJN5gPV4bB8).\n",
    "* Работоспособность будет проверяться через [colab](https://colab.research.google.com) (можете сразу давать ссылку на него). Если ноутбук не будет исполняться (падать по ошибке) то все, что будет написано после ошибки не будет учитываться при формировании оценки \n",
    "* Вы должны включить код, с помощью которого вы общались с API вконтакте, но для экономии времени, заранее предусмотреть возможность загрузки уже собранных данных (например, как это было реализовано в ноутбуках по кластеризации через `wget` и dropbox или raw данными в github)\n",
    "\n",
    "**Пожелания:**\n",
    "* Выбирайте для анализа небольшие сообщества (до 5к), желательно чтобы вы сами в них состояли - это ускорит вычисления и упростит интерпретацию\n",
    "* Отнеситесь к этой работе как к исследованию - больше графиков и комментариев!\n",
    "* Красивые визуализации лучше делать через gephi!"
   ]
  },
  {
   "cell_type": "markdown",
   "metadata": {},
   "source": [
    "# Загрузка данных (2 балла)"
   ]
  },
  {
   "cell_type": "markdown",
   "metadata": {
    "slideshow": {
     "slide_type": "subslide"
    }
   },
   "source": [
    "Изучите следующие материалы\n",
    "* [Знакомство с API](https://vk.com/dev/first_guide)\n",
    "* [Туториал](https://nbviewer.jupyter.org/github/allatambov/Py-programming-3/blob/master/15-06/lect-vk-api.ipynb) по выгрузке данных с помощью VKAPI\n",
    "* Про метод execute - [туть](https://vk.com/dev/execute) и [туть](http://www.cyberforum.ru/python-web/thread1730446.html)\n",
    "\n",
    "Выберите сообщество и загрузите\n",
    "* Идентификаторы всех [участников сообщества](https://vk.com/dev/groups.getMembers)\n",
    "* [Списки друзей](https://vk.com/dev/friends.get) участников и их признаки (пол, возраст, университет и все, что посчитаете нужным - нам потом группировать по этим атрибутам)\n",
    "* [Пересечение](https://vk.com/dev/friends.getMutual) между списками друзей\n",
    "\n",
    "Таким образом вы должны получить замкнутую группу аккаунтов с их друзьями и связями между ними.\n",
    "\n",
    "Далее - соберите их этого граф в networkX и сохраните в graphml или gml формате\n",
    "\n",
    "**Замечания:**\n",
    "* Вконтакте может ограничить вам скорость запросов, поэтому иногда имеет смысл ставить небольшую паузу (`time.sleep(1)`) между запросами и сохранять предварительные результаты\n",
    "* Код выгрузки может быть написан как с помощью модуля `vk` так и просто с помощью requests \n"
   ]
  },
  {
   "cell_type": "code",
   "execution_count": 1,
   "metadata": {},
   "outputs": [],
   "source": [
    "### Здесь должен быть код загрузки из VK\n",
    "### Его можно закомментировать"
   ]
  },
  {
   "cell_type": "code",
   "execution_count": 2,
   "metadata": {},
   "outputs": [],
   "source": [
    "### Здесь должен быть код преобразования в граф и сохранение в файл\n",
    "### Его тоже можно закомментировать"
   ]
  },
  {
   "cell_type": "code",
   "execution_count": 3,
   "metadata": {},
   "outputs": [],
   "source": [
    "### Здесь код, который загружает сохраненную сеть"
   ]
  },
  {
   "cell_type": "markdown",
   "metadata": {},
   "source": [
    "# Визуализация (1 балл)"
   ]
  },
  {
   "cell_type": "markdown",
   "metadata": {},
   "source": [
    "* Откройте полученный граф в gephi\n",
    "* Выберите наиболее удачный на ваш взгляд алгоритм прорисовки\n",
    "* Добавьте изменение размера вершины в зависимости от степени вершины\n",
    "* Вставьте скрин-шот ниже"
   ]
  },
  {
   "cell_type": "code",
   "execution_count": 4,
   "metadata": {},
   "outputs": [],
   "source": [
    "### Ваши картинки и комментарии ниже"
   ]
  },
  {
   "cell_type": "markdown",
   "metadata": {},
   "source": [
    "# Центральности вершин (1.5 балла)"
   ]
  },
  {
   "cell_type": "markdown",
   "metadata": {},
   "source": [
    "Возможно, перед тем как пойти дальше, стоит немного почитстить граф - с помощью [kcore](https://www.google.com/search?client=firefox-b-d&q=networkx+kcore)\n",
    "\n",
    "* Найдите наиболее влиятельные вершины с точки зрения degree, closeness и betweenness centrality\n",
    "* Выделите их на картинке в gephi"
   ]
  },
  {
   "cell_type": "code",
   "execution_count": 5,
   "metadata": {},
   "outputs": [],
   "source": [
    "### Ваш код, картинки и комментарии ниже"
   ]
  },
  {
   "cell_type": "markdown",
   "metadata": {},
   "source": [
    "# Сообщества... в сообществе (1.5 балла)\n",
    "\n",
    "Выберите алгоритм выделения сообществ на графах и алгоритм на основе похожести вершин. Для обоих вариантов\n",
    "* Выделите сообщества, опираясь на максимальное значение модулярности для полученного разбиения\n",
    "* Изобразите граф с вершинами, раскрашенными в цвет своего сообщества в gephi\n",
    "* Попробуйте проинтерпретировать полученные сообщества, кто эти люди, почему они всязаны?\n",
    "* Какой метод на ваш взгляд сработал лучше?"
   ]
  },
  {
   "cell_type": "code",
   "execution_count": 7,
   "metadata": {},
   "outputs": [],
   "source": [
    "### Ваш код, картинки и комментарии ниже"
   ]
  },
  {
   "cell_type": "markdown",
   "metadata": {},
   "source": [
    "# Асортативность по признакам (1.5 балла)\n",
    "\n",
    "* Посчитайте коэффициенты асортативности для признаков вершин (пол, возраст, университет, школа, город, количество друзей, etc)\n",
    "* Проинтерпретируйте полученные результаты"
   ]
  },
  {
   "cell_type": "code",
   "execution_count": 9,
   "metadata": {},
   "outputs": [],
   "source": [
    "### Ваш код, картинки и комментарии ниже"
   ]
  }
 ],
 "metadata": {
  "anaconda-cloud": {},
  "kernelspec": {
   "display_name": "Python 3",
   "language": "python",
   "name": "python3"
  },
  "language_info": {
   "codemirror_mode": {
    "name": "ipython",
    "version": 3
   },
   "file_extension": ".py",
   "mimetype": "text/x-python",
   "name": "python",
   "nbconvert_exporter": "python",
   "pygments_lexer": "ipython3",
   "version": "3.7.3"
  },
  "nav_menu": {},
  "toc": {
   "base_numbering": 1,
   "nav_menu": {
    "height": "347px",
    "width": "253px"
   },
   "number_sections": false,
   "sideBar": true,
   "skip_h1_title": false,
   "title_cell": "Table of Contents",
   "title_sidebar": "Contents",
   "toc_cell": false,
   "toc_position": {
    "height": "100px",
    "left": "46px",
    "right": "398.5px",
    "top": "111.133px",
    "width": "165px"
   },
   "toc_section_display": true,
   "toc_window_display": true
  },
  "toc_position": {
   "height": "40px",
   "left": "816px",
   "right": "38.6667px",
   "top": "0px",
   "width": "212px"
  }
 },
 "nbformat": 4,
 "nbformat_minor": 1
}
