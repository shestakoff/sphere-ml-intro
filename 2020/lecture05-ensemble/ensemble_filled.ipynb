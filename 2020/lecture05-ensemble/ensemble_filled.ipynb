{
 "cells": [
  {
   "cell_type": "code",
   "execution_count": 1,
   "metadata": {},
   "outputs": [],
   "source": [
    "import json\n",
    "import numpy as np\n",
    "import pandas as pd\n",
    "import seaborn as sns\n",
    "import matplotlib.pyplot as plt\n",
    "from sklearn.linear_model import LogisticRegression\n",
    "from sklearn.feature_extraction.text import TfidfVectorizer\n",
    "from sklearn.model_selection import train_test_split\n",
    "from sklearn.tree import DecisionTreeClassifier, DecisionTreeRegressor\n",
    "from sklearn.ensemble import RandomForestClassifier, GradientBoostingClassifier, RandomForestRegressor\n",
    "from sklearn.preprocessing import LabelEncoder\n",
    "from sklearn.metrics import auc, f1_score, accuracy_score, roc_auc_score\n",
    "from sklearn.model_selection import StratifiedKFold, GridSearchCV\n",
    "from tqdm import tqdm_notebook\n",
    "import warnings\n",
    "warnings.filterwarnings(\"ignore\")\n",
    "\n",
    "%matplotlib inline"
   ]
  },
  {
   "cell_type": "code",
   "execution_count": 2,
   "metadata": {},
   "outputs": [],
   "source": [
    "with open('train.json') as data_file:    \n",
    "    data = json.load(data_file)"
   ]
  },
  {
   "cell_type": "code",
   "execution_count": 3,
   "metadata": {},
   "outputs": [],
   "source": [
    "products_num = np.array([len(i[\"ingredients\"]) for i in data])"
   ]
  },
  {
   "cell_type": "code",
   "execution_count": 4,
   "metadata": {},
   "outputs": [],
   "source": [
    "cuisine = []\n",
    "ingredients = []\n",
    "ingredients_num = []\n",
    "for i in data:\n",
    "    if len(i[\"ingredients\"]) < 50:\n",
    "        ingredients.append(\" \".join(i[\"ingredients\"]))\n",
    "        cuisine.append(i[\"cuisine\"])\n",
    "        ingredients_num.append(len(i[\"ingredients\"]))"
   ]
  },
  {
   "cell_type": "code",
   "execution_count": 5,
   "metadata": {},
   "outputs": [],
   "source": [
    "df = pd.DataFrame()\n",
    "df[\"cuisine\"] = cuisine\n",
    "df[\"ingridients\"] = ingredients\n",
    "df[\"ingredients_num\"] = ingredients_num"
   ]
  },
  {
   "cell_type": "code",
   "execution_count": 6,
   "metadata": {},
   "outputs": [
    {
     "data": {
      "text/html": [
       "<div>\n",
       "<style scoped>\n",
       "    .dataframe tbody tr th:only-of-type {\n",
       "        vertical-align: middle;\n",
       "    }\n",
       "\n",
       "    .dataframe tbody tr th {\n",
       "        vertical-align: top;\n",
       "    }\n",
       "\n",
       "    .dataframe thead th {\n",
       "        text-align: right;\n",
       "    }\n",
       "</style>\n",
       "<table border=\"1\" class=\"dataframe\">\n",
       "  <thead>\n",
       "    <tr style=\"text-align: right;\">\n",
       "      <th></th>\n",
       "      <th>cuisine</th>\n",
       "      <th>ingridients</th>\n",
       "      <th>ingredients_num</th>\n",
       "    </tr>\n",
       "  </thead>\n",
       "  <tbody>\n",
       "    <tr>\n",
       "      <th>0</th>\n",
       "      <td>greek</td>\n",
       "      <td>romaine lettuce black olives grape tomatoes ga...</td>\n",
       "      <td>9</td>\n",
       "    </tr>\n",
       "    <tr>\n",
       "      <th>1</th>\n",
       "      <td>southern_us</td>\n",
       "      <td>plain flour ground pepper salt tomatoes ground...</td>\n",
       "      <td>11</td>\n",
       "    </tr>\n",
       "    <tr>\n",
       "      <th>2</th>\n",
       "      <td>filipino</td>\n",
       "      <td>eggs pepper salt mayonaise cooking oil green c...</td>\n",
       "      <td>12</td>\n",
       "    </tr>\n",
       "    <tr>\n",
       "      <th>3</th>\n",
       "      <td>indian</td>\n",
       "      <td>water vegetable oil wheat salt</td>\n",
       "      <td>4</td>\n",
       "    </tr>\n",
       "    <tr>\n",
       "      <th>4</th>\n",
       "      <td>indian</td>\n",
       "      <td>black pepper shallots cornflour cayenne pepper...</td>\n",
       "      <td>20</td>\n",
       "    </tr>\n",
       "  </tbody>\n",
       "</table>\n",
       "</div>"
      ],
      "text/plain": [
       "       cuisine                                        ingridients  \\\n",
       "0        greek  romaine lettuce black olives grape tomatoes ga...   \n",
       "1  southern_us  plain flour ground pepper salt tomatoes ground...   \n",
       "2     filipino  eggs pepper salt mayonaise cooking oil green c...   \n",
       "3       indian                     water vegetable oil wheat salt   \n",
       "4       indian  black pepper shallots cornflour cayenne pepper...   \n",
       "\n",
       "   ingredients_num  \n",
       "0                9  \n",
       "1               11  \n",
       "2               12  \n",
       "3                4  \n",
       "4               20  "
      ]
     },
     "execution_count": 6,
     "metadata": {},
     "output_type": "execute_result"
    }
   ],
   "source": [
    "df.head()"
   ]
  },
  {
   "cell_type": "code",
   "execution_count": 7,
   "metadata": {},
   "outputs": [
    {
     "data": {
      "text/html": [
       "<div>\n",
       "<style scoped>\n",
       "    .dataframe tbody tr th:only-of-type {\n",
       "        vertical-align: middle;\n",
       "    }\n",
       "\n",
       "    .dataframe tbody tr th {\n",
       "        vertical-align: top;\n",
       "    }\n",
       "\n",
       "    .dataframe thead th {\n",
       "        text-align: right;\n",
       "    }\n",
       "</style>\n",
       "<table border=\"1\" class=\"dataframe\">\n",
       "  <thead>\n",
       "    <tr style=\"text-align: right;\">\n",
       "      <th></th>\n",
       "      <th>cuisine</th>\n",
       "      <th>ingredients_num</th>\n",
       "    </tr>\n",
       "  </thead>\n",
       "  <tbody>\n",
       "    <tr>\n",
       "      <th>14</th>\n",
       "      <td>moroccan</td>\n",
       "      <td>12.909866</td>\n",
       "    </tr>\n",
       "    <tr>\n",
       "      <th>7</th>\n",
       "      <td>indian</td>\n",
       "      <td>12.705961</td>\n",
       "    </tr>\n",
       "    <tr>\n",
       "      <th>19</th>\n",
       "      <td>vietnamese</td>\n",
       "      <td>12.675152</td>\n",
       "    </tr>\n",
       "    <tr>\n",
       "      <th>2</th>\n",
       "      <td>cajun_creole</td>\n",
       "      <td>12.617076</td>\n",
       "    </tr>\n",
       "    <tr>\n",
       "      <th>18</th>\n",
       "      <td>thai</td>\n",
       "      <td>12.545809</td>\n",
       "    </tr>\n",
       "    <tr>\n",
       "      <th>10</th>\n",
       "      <td>jamaican</td>\n",
       "      <td>12.214829</td>\n",
       "    </tr>\n",
       "    <tr>\n",
       "      <th>3</th>\n",
       "      <td>chinese</td>\n",
       "      <td>11.982791</td>\n",
       "    </tr>\n",
       "    <tr>\n",
       "      <th>12</th>\n",
       "      <td>korean</td>\n",
       "      <td>11.284337</td>\n",
       "    </tr>\n",
       "    <tr>\n",
       "      <th>13</th>\n",
       "      <td>mexican</td>\n",
       "      <td>10.871058</td>\n",
       "    </tr>\n",
       "    <tr>\n",
       "      <th>17</th>\n",
       "      <td>spanish</td>\n",
       "      <td>10.423660</td>\n",
       "    </tr>\n",
       "    <tr>\n",
       "      <th>15</th>\n",
       "      <td>russian</td>\n",
       "      <td>10.224949</td>\n",
       "    </tr>\n",
       "    <tr>\n",
       "      <th>6</th>\n",
       "      <td>greek</td>\n",
       "      <td>10.182128</td>\n",
       "    </tr>\n",
       "    <tr>\n",
       "      <th>4</th>\n",
       "      <td>filipino</td>\n",
       "      <td>10.000000</td>\n",
       "    </tr>\n",
       "    <tr>\n",
       "      <th>9</th>\n",
       "      <td>italian</td>\n",
       "      <td>9.902003</td>\n",
       "    </tr>\n",
       "    <tr>\n",
       "      <th>5</th>\n",
       "      <td>french</td>\n",
       "      <td>9.817838</td>\n",
       "    </tr>\n",
       "    <tr>\n",
       "      <th>11</th>\n",
       "      <td>japanese</td>\n",
       "      <td>9.735067</td>\n",
       "    </tr>\n",
       "    <tr>\n",
       "      <th>1</th>\n",
       "      <td>british</td>\n",
       "      <td>9.708955</td>\n",
       "    </tr>\n",
       "    <tr>\n",
       "      <th>16</th>\n",
       "      <td>southern_us</td>\n",
       "      <td>9.634954</td>\n",
       "    </tr>\n",
       "    <tr>\n",
       "      <th>0</th>\n",
       "      <td>brazilian</td>\n",
       "      <td>9.414163</td>\n",
       "    </tr>\n",
       "    <tr>\n",
       "      <th>8</th>\n",
       "      <td>irish</td>\n",
       "      <td>9.299850</td>\n",
       "    </tr>\n",
       "  </tbody>\n",
       "</table>\n",
       "</div>"
      ],
      "text/plain": [
       "         cuisine  ingredients_num\n",
       "14      moroccan        12.909866\n",
       "7         indian        12.705961\n",
       "19    vietnamese        12.675152\n",
       "2   cajun_creole        12.617076\n",
       "18          thai        12.545809\n",
       "10      jamaican        12.214829\n",
       "3        chinese        11.982791\n",
       "12        korean        11.284337\n",
       "13       mexican        10.871058\n",
       "17       spanish        10.423660\n",
       "15       russian        10.224949\n",
       "6          greek        10.182128\n",
       "4       filipino        10.000000\n",
       "9        italian         9.902003\n",
       "5         french         9.817838\n",
       "11      japanese         9.735067\n",
       "1        british         9.708955\n",
       "16   southern_us         9.634954\n",
       "0      brazilian         9.414163\n",
       "8          irish         9.299850"
      ]
     },
     "execution_count": 7,
     "metadata": {},
     "output_type": "execute_result"
    }
   ],
   "source": [
    "(df.groupby(\"cuisine\")[\"ingredients_num\"].mean().reset_index()\n",
    "                                         .sort_values(\"ingredients_num\", ascending=False))"
   ]
  },
  {
   "cell_type": "code",
   "execution_count": 8,
   "metadata": {},
   "outputs": [
    {
     "data": {
      "image/png": "[encoded data removed]",
      "text/plain": [
       "<Figure size 1440x720 with 1 Axes>"
      ]
     },
     "metadata": {
      "needs_background": "light"
     },
     "output_type": "display_data"
    }
   ],
   "source": [
    "plt.figure(figsize=(20, 10))\n",
    "chart = sns.countplot(cuisine)\n",
    "ch = chart.set_xticklabels(chart.get_xticklabels(), rotation=65, horizontalalignment='right')"
   ]
  },
  {
   "cell_type": "code",
   "execution_count": 9,
   "metadata": {},
   "outputs": [],
   "source": [
    "vectorizer = TfidfVectorizer(min_df=10, max_df=0.5)"
   ]
  },
  {
   "cell_type": "code",
   "execution_count": 10,
   "metadata": {},
   "outputs": [],
   "source": [
    "X = vectorizer.fit_transform(ingredients)"
   ]
  },
  {
   "cell_type": "code",
   "execution_count": 11,
   "metadata": {},
   "outputs": [
    {
     "name": "stdout",
     "output_type": "stream",
     "text": [
      "(39771, 1489)\n"
     ]
    }
   ],
   "source": [
    "print(X.shape)"
   ]
  },
  {
   "cell_type": "code",
   "execution_count": 13,
   "metadata": {},
   "outputs": [],
   "source": [
    "LE = LabelEncoder()\n",
    "labels = LE.fit_transform(cuisine)"
   ]
  },
  {
   "cell_type": "code",
   "execution_count": 14,
   "metadata": {},
   "outputs": [
    {
     "data": {
      "text/plain": [
       "array([ 6, 16,  4, ...,  8,  3, 13])"
      ]
     },
     "execution_count": 14,
     "metadata": {},
     "output_type": "execute_result"
    }
   ],
   "source": [
    "labels"
   ]
  },
  {
   "cell_type": "code",
   "execution_count": 15,
   "metadata": {},
   "outputs": [],
   "source": [
    "X_train, X_test, y_train, y_test = train_test_split(X, labels, test_size=0.33, random_state=42)"
   ]
  },
  {
   "cell_type": "code",
   "execution_count": 16,
   "metadata": {},
   "outputs": [],
   "source": [
    "def print_metrics(y_test, ans):\n",
    "    print \"Accuracy ~\", np.round(accuracy_score(y_test, ans), 4)\n",
    "    print \"F1_score ~\", np.round(f1_score(y_test, ans, average=\"macro\"), 4)"
   ]
  },
  {
   "cell_type": "markdown",
   "metadata": {},
   "source": [
    "# Stacking"
   ]
  },
  {
   "cell_type": "markdown",
   "metadata": {},
   "source": [
    "# LR"
   ]
  },
  {
   "cell_type": "code",
   "execution_count": 17,
   "metadata": {},
   "outputs": [
    {
     "data": {
      "text/plain": [
       "LogisticRegression(C=1.0, class_weight=None, dual=False, fit_intercept=True,\n",
       "          intercept_scaling=1, max_iter=100, multi_class='warn',\n",
       "          n_jobs=None, penalty='l2', random_state=None, solver='liblinear',\n",
       "          tol=0.0001, verbose=0, warm_start=False)"
      ]
     },
     "execution_count": 17,
     "metadata": {},
     "output_type": "execute_result"
    }
   ],
   "source": [
    "LR = LogisticRegression(solver='liblinear')\n",
    "LR.fit(X_train, y_train)"
   ]
  },
  {
   "cell_type": "code",
   "execution_count": 18,
   "metadata": {},
   "outputs": [],
   "source": [
    "lr_ans = LR.predict(X_test)"
   ]
  },
  {
   "cell_type": "code",
   "execution_count": 19,
   "metadata": {},
   "outputs": [
    {
     "name": "stdout",
     "output_type": "stream",
     "text": [
      "Accuracy ~ 0.7789\n",
      "F1_score ~ 0.6862\n"
     ]
    }
   ],
   "source": [
    "print_metrics(y_test, lr_ans)"
   ]
  },
  {
   "cell_type": "markdown",
   "metadata": {},
   "source": [
    "# RF"
   ]
  },
  {
   "cell_type": "code",
   "execution_count": 20,
   "metadata": {
    "scrolled": true
   },
   "outputs": [
    {
     "data": {
      "text/plain": [
       "RandomForestClassifier(bootstrap=True, class_weight=None, criterion='gini',\n",
       "            max_depth=None, max_features='auto', max_leaf_nodes=None,\n",
       "            min_impurity_decrease=0.0, min_impurity_split=None,\n",
       "            min_samples_leaf=1, min_samples_split=2,\n",
       "            min_weight_fraction_leaf=0.0, n_estimators=100, n_jobs=None,\n",
       "            oob_score=False, random_state=None, verbose=0,\n",
       "            warm_start=False)"
      ]
     },
     "execution_count": 20,
     "metadata": {},
     "output_type": "execute_result"
    }
   ],
   "source": [
    "RF = RandomForestClassifier(n_estimators=100)\n",
    "RF.fit(X_train, y_train.ravel())"
   ]
  },
  {
   "cell_type": "code",
   "execution_count": 21,
   "metadata": {},
   "outputs": [],
   "source": [
    "RF_ans = RF.predict(X_test)"
   ]
  },
  {
   "cell_type": "code",
   "execution_count": 22,
   "metadata": {},
   "outputs": [
    {
     "name": "stdout",
     "output_type": "stream",
     "text": [
      "Accuracy ~ 0.7464\n",
      "F1_score ~ 0.6423\n"
     ]
    }
   ],
   "source": [
    "print_metrics(y_test, RF_ans)"
   ]
  },
  {
   "cell_type": "code",
   "execution_count": 23,
   "metadata": {},
   "outputs": [
    {
     "data": {
      "text/plain": [
       "(26646, 1489)"
      ]
     },
     "execution_count": 23,
     "metadata": {},
     "output_type": "execute_result"
    }
   ],
   "source": [
    "X_train.shape"
   ]
  },
  {
   "cell_type": "code",
   "execution_count": 24,
   "metadata": {},
   "outputs": [
    {
     "data": {
      "text/plain": [
       "(26646, 20)"
      ]
     },
     "execution_count": 24,
     "metadata": {},
     "output_type": "execute_result"
    }
   ],
   "source": [
    "LR.predict_proba(X_train).shape"
   ]
  },
  {
   "cell_type": "code",
   "execution_count": 33,
   "metadata": {},
   "outputs": [
    {
     "data": {
      "text/plain": [
       "RandomForestClassifier(bootstrap=True, class_weight=None, criterion='gini',\n",
       "            max_depth=None, max_features='auto', max_leaf_nodes=None,\n",
       "            min_impurity_decrease=0.0, min_impurity_split=None,\n",
       "            min_samples_leaf=1, min_samples_split=2,\n",
       "            min_weight_fraction_leaf=0.0, n_estimators=100, n_jobs=None,\n",
       "            oob_score=False, random_state=None, verbose=0,\n",
       "            warm_start=False)"
      ]
     },
     "execution_count": 33,
     "metadata": {},
     "output_type": "execute_result"
    }
   ],
   "source": [
    "RF_stack = RandomForestClassifier(n_estimators=100)\n",
    "RF_stack.fit(np.hstack((X_train.toarray(), LR.predict_proba(X_train))), y_train.ravel())"
   ]
  },
  {
   "cell_type": "code",
   "execution_count": 36,
   "metadata": {},
   "outputs": [
    {
     "data": {
      "text/plain": [
       "(26646, 1509)"
      ]
     },
     "execution_count": 36,
     "metadata": {},
     "output_type": "execute_result"
    }
   ],
   "source": [
    "np.hstack((X_train.toarray(), LR.predict_proba(X_train))).shape"
   ]
  },
  {
   "cell_type": "code",
   "execution_count": 38,
   "metadata": {},
   "outputs": [
    {
     "data": {
      "text/plain": [
       "array([0.03115834, 0.00115433, 0.63883412, 0.01677537, 0.01812302,\n",
       "       0.00659297, 0.00678307, 0.00457262, 0.00124369, 0.00601156,\n",
       "       0.00597282, 0.00336421, 0.00297564, 0.027369  , 0.00355923,\n",
       "       0.00277761, 0.18498569, 0.02332186, 0.00809884, 0.00632603])"
      ]
     },
     "execution_count": 38,
     "metadata": {},
     "output_type": "execute_result"
    }
   ],
   "source": [
    "LR.predict_proba(X_train)[0]"
   ]
  },
  {
   "cell_type": "code",
   "execution_count": null,
   "metadata": {},
   "outputs": [],
   "source": []
  },
  {
   "cell_type": "code",
   "execution_count": 26,
   "metadata": {},
   "outputs": [],
   "source": [
    "RF_predict_proba = RF_stack.predict(LR.predict_proba(X_test))"
   ]
  },
  {
   "cell_type": "code",
   "execution_count": 34,
   "metadata": {},
   "outputs": [],
   "source": [
    "RF_ans_stack = RF_stack.predict(np.hstack((X_test.toarray(), LR.predict_proba(X_test))))"
   ]
  },
  {
   "cell_type": "code",
   "execution_count": 27,
   "metadata": {},
   "outputs": [
    {
     "name": "stdout",
     "output_type": "stream",
     "text": [
      "Accuracy ~ 0.7893\n",
      "F1_score ~ 0.714\n"
     ]
    }
   ],
   "source": [
    "print_metrics(y_test, RF_predict_proba)"
   ]
  },
  {
   "cell_type": "code",
   "execution_count": 35,
   "metadata": {},
   "outputs": [
    {
     "name": "stdout",
     "output_type": "stream",
     "text": [
      "Accuracy ~ 0.7949\n",
      "F1_score ~ 0.7181\n"
     ]
    }
   ],
   "source": [
    "print_metrics(y_test, RF_ans_stack)"
   ]
  },
  {
   "cell_type": "markdown",
   "metadata": {},
   "source": [
    "# Bootstrap"
   ]
  },
  {
   "cell_type": "code",
   "execution_count": 39,
   "metadata": {},
   "outputs": [
    {
     "data": {
      "text/plain": [
       "italian         7837\n",
       "mexican         6437\n",
       "southern_us     4320\n",
       "indian          3003\n",
       "chinese         2673\n",
       "french          2646\n",
       "cajun_creole    1546\n",
       "thai            1539\n",
       "japanese        1423\n",
       "greek           1175\n",
       "spanish          989\n",
       "korean           830\n",
       "vietnamese       825\n",
       "moroccan         821\n",
       "british          804\n",
       "filipino         755\n",
       "irish            667\n",
       "jamaican         526\n",
       "russian          489\n",
       "brazilian        466\n",
       "Name: cuisine, dtype: int64"
      ]
     },
     "execution_count": 39,
     "metadata": {},
     "output_type": "execute_result"
    }
   ],
   "source": [
    "df[\"cuisine\"].value_counts()"
   ]
  },
  {
   "cell_type": "code",
   "execution_count": 40,
   "metadata": {},
   "outputs": [],
   "source": [
    "cuisine1 = \"russian\"\n",
    "cuisine2 = \"brazilian\""
   ]
  },
  {
   "cell_type": "code",
   "execution_count": 41,
   "metadata": {},
   "outputs": [],
   "source": [
    "cuisine1_df = df[df[\"cuisine\"] == cuisine1]\n",
    "cuisine2_df = df[df[\"cuisine\"] == cuisine2]"
   ]
  },
  {
   "cell_type": "code",
   "execution_count": 42,
   "metadata": {
    "scrolled": false
   },
   "outputs": [
    {
     "data": {
      "text/plain": [
       "<matplotlib.axes._subplots.AxesSubplot at 0x7f539c238a10>"
      ]
     },
     "execution_count": 42,
     "metadata": {},
     "output_type": "execute_result"
    },
    {
     "data": {
      "image/png": "[encoded data removed]",
      "text/plain": [
       "<Figure size 1152x576 with 1 Axes>"
      ]
     },
     "metadata": {
      "needs_background": "light"
     },
     "output_type": "display_data"
    },
    {
     "data": {
      "image/png": "[encoded data removed]",
      "text/plain": [
       "<Figure size 1152x576 with 1 Axes>"
      ]
     },
     "metadata": {
      "needs_background": "light"
     },
     "output_type": "display_data"
    }
   ],
   "source": [
    "plt.figure(figsize=(16, 8))\n",
    "plt.title(\"Ingridients number in {} cuisine\".format(cuisine1))\n",
    "sns.countplot(cuisine1_df[\"ingredients_num\"])\n",
    "\n",
    "plt.figure(figsize=(16, 8))\n",
    "plt.title(\"Ingridients number in {} cuisine\".format(cuisine2))\n",
    "sns.countplot(cuisine2_df[\"ingredients_num\"])"
   ]
  },
  {
   "cell_type": "code",
   "execution_count": 43,
   "metadata": {},
   "outputs": [
    {
     "data": {
      "image/png": "[encoded data removed]",
      "text/plain": [
       "<Figure size 1152x576 with 1 Axes>"
      ]
     },
     "metadata": {
      "needs_background": "light"
     },
     "output_type": "display_data"
    }
   ],
   "source": [
    "plt.figure(figsize=(16, 8))\n",
    "fig = sns.kdeplot(cuisine1_df[\"ingredients_num\"], label = cuisine1)\n",
    "fig = sns.kdeplot(cuisine2_df[\"ingredients_num\"], label = cuisine2)        \n",
    "fig.set(xlabel=u'Количество ингридиентов', ylabel=u'Плотность')    \n",
    "plt.grid()\n",
    "plt.show()"
   ]
  },
  {
   "cell_type": "markdown",
   "metadata": {},
   "source": [
    "Теперь было бы хорошо оценить, из скольки ингридентов в среднем состоят блюда каждой из кухонь. Так как данных в нашем датасете мало, то искать среднее не совсем правильно, лучше применить наши новые знания бутстрэпа."
   ]
  },
  {
   "cell_type": "code",
   "execution_count": 44,
   "metadata": {},
   "outputs": [],
   "source": [
    "def get_bootstrap_samples(data, n_samples):\n",
    "    \"\"\"Функция для генерации n_samples подвыборок с помощью бутстрэпа\"\"\"\n",
    "    indices = np.random.randint(0, len(data), (n_samples, len(data)))\n",
    "    samples = data[indices]\n",
    "    return samples"
   ]
  },
  {
   "cell_type": "code",
   "execution_count": 45,
   "metadata": {},
   "outputs": [],
   "source": [
    "def stat_intervals(stat, alpha):\n",
    "    \"\"\"Функция для интервальной оценки\"\"\"\n",
    "    boundaries = np.percentile(stat, [100 * alpha / 2., 100 * (1 - alpha / 2.)])\n",
    "    return np.round(boundaries, 4)"
   ]
  },
  {
   "cell_type": "code",
   "execution_count": 46,
   "metadata": {},
   "outputs": [],
   "source": [
    "cuisine1_ingridients = cuisine1_df[\"ingredients_num\"].values\n",
    "cuisine2_ingridients = cuisine2_df[\"ingredients_num\"].values"
   ]
  },
  {
   "cell_type": "code",
   "execution_count": 47,
   "metadata": {},
   "outputs": [],
   "source": [
    "np.random.seed(42)"
   ]
  },
  {
   "cell_type": "code",
   "execution_count": 51,
   "metadata": {},
   "outputs": [
    {
     "data": {
      "text/plain": [
       "(489,)"
      ]
     },
     "execution_count": 51,
     "metadata": {},
     "output_type": "execute_result"
    }
   ],
   "source": [
    "cuisine1_ingridients.shape"
   ]
  },
  {
   "cell_type": "code",
   "execution_count": 49,
   "metadata": {},
   "outputs": [
    {
     "data": {
      "text/plain": [
       "(5000, 489)"
      ]
     },
     "execution_count": 49,
     "metadata": {},
     "output_type": "execute_result"
    }
   ],
   "source": [
    "get_bootstrap_samples(cuisine1_ingridients, 5000).shape"
   ]
  },
  {
   "cell_type": "code",
   "execution_count": 52,
   "metadata": {},
   "outputs": [],
   "source": [
    "cuisine1_ingridients_scores = [np.mean(sample) \n",
    "                       for sample in get_bootstrap_samples(cuisine1_ingridients, 5000)]\n",
    "cuisine2_ingridients_scores = [np.mean(sample) \n",
    "                       for sample in get_bootstrap_samples(cuisine2_ingridients, 5000)]"
   ]
  },
  {
   "cell_type": "code",
   "execution_count": 53,
   "metadata": {},
   "outputs": [
    {
     "name": "stdout",
     "output_type": "stream",
     "text": [
      "russian ingridients number:  mean interval [ 9.8814 10.5951]\n",
      "brazilian ingridients number:  mean interval [8.9571 9.9013]\n"
     ]
    }
   ],
   "source": [
    "print \"{} ingridients number:  mean interval\".format(cuisine1),  stat_intervals(cuisine1_ingridients_scores, 0.05)\n",
    "print \"{} ingridients number:  mean interval\".format(cuisine2),  stat_intervals(cuisine2_ingridients_scores, 0.05)"
   ]
  },
  {
   "cell_type": "code",
   "execution_count": 54,
   "metadata": {},
   "outputs": [
    {
     "name": "stdout",
     "output_type": "stream",
     "text": [
      "В итоге мы получили, что с 95% вероятностью среднее число ингридиентов в russian кухне будет лежать в промежутке между 9.8814 и 10.5951,  в то время как в brazilian в среднем от 8.9571 до 9.9013\n"
     ]
    }
   ],
   "source": [
    "print(\"\"\"В итоге мы получили, что с 95% вероятностью среднее число ингридиентов в {} кухне будет лежать в промежутке между {r[0]} и {r[1]},  в то время как в {} в среднем от {b[0]} до {b[1]}\"\"\"\n",
    ".format(cuisine1, cuisine2, r=stat_intervals(cuisine1_ingridients_scores, 0.05), b=stat_intervals(cuisine2_ingridients_scores, 0.05)))"
   ]
  },
  {
   "cell_type": "markdown",
   "metadata": {},
   "source": [
    "# Бэггинг"
   ]
  },
  {
   "cell_type": "code",
   "execution_count": 55,
   "metadata": {},
   "outputs": [
    {
     "data": {
      "text/plain": [
       "DecisionTreeClassifier(class_weight=None, criterion='gini', max_depth=None,\n",
       "            max_features=None, max_leaf_nodes=None,\n",
       "            min_impurity_decrease=0.0, min_impurity_split=None,\n",
       "            min_samples_leaf=1, min_samples_split=2,\n",
       "            min_weight_fraction_leaf=0.0, presort=False, random_state=None,\n",
       "            splitter='best')"
      ]
     },
     "execution_count": 55,
     "metadata": {},
     "output_type": "execute_result"
    }
   ],
   "source": [
    "DT = DecisionTreeClassifier()\n",
    "DT.fit(X_train, y_train)"
   ]
  },
  {
   "cell_type": "code",
   "execution_count": 56,
   "metadata": {},
   "outputs": [],
   "source": [
    "DT_ans = DT.predict(X_test)"
   ]
  },
  {
   "cell_type": "code",
   "execution_count": 57,
   "metadata": {},
   "outputs": [
    {
     "name": "stdout",
     "output_type": "stream",
     "text": [
      "Accuracy ~ 0.6114\n",
      "F1_score ~ 0.4931\n"
     ]
    }
   ],
   "source": [
    "print_metrics(y_test, DT_ans)"
   ]
  },
  {
   "cell_type": "markdown",
   "metadata": {},
   "source": [
    "# Bagging"
   ]
  },
  {
   "cell_type": "code",
   "execution_count": 58,
   "metadata": {},
   "outputs": [],
   "source": [
    "n_estimators = 10\n",
    "answer = np.zeros((n_estimators, X_test.shape[0]), dtype=int)"
   ]
  },
  {
   "cell_type": "code",
   "execution_count": 64,
   "metadata": {},
   "outputs": [
    {
     "data": {
      "application/vnd.jupyter.widget-view+json": {
       "model_id": "df31a42617854fbf949dc8cd47ae4068",
       "version_major": 2,
       "version_minor": 0
      },
      "text/plain": [
       "HBox(children=(IntProgress(value=0, max=10), HTML(value=u'')))"
      ]
     },
     "metadata": {},
     "output_type": "display_data"
    },
    {
     "name": "stdout",
     "output_type": "stream",
     "text": [
      "\n"
     ]
    }
   ],
   "source": [
    "for i in tqdm_notebook(range(n_estimators)):\n",
    "    DT = DecisionTreeClassifier()\n",
    "    index = np.random.choice(np.arange(X_train.shape[0]), X_train.shape[0])\n",
    "    DT.fit(X_train[index], y_train[index])\n",
    "    answer[i] = DT.predict(X_test)"
   ]
  },
  {
   "cell_type": "code",
   "execution_count": 65,
   "metadata": {},
   "outputs": [],
   "source": [
    "bagging_dt_answer = [np.bincount(answer[:, i]).argmax() for i in range(answer.shape[1])]"
   ]
  },
  {
   "cell_type": "code",
   "execution_count": 68,
   "metadata": {},
   "outputs": [
    {
     "data": {
      "text/plain": [
       "(10, 13125)"
      ]
     },
     "execution_count": 68,
     "metadata": {},
     "output_type": "execute_result"
    }
   ],
   "source": [
    "answer.shape"
   ]
  },
  {
   "cell_type": "code",
   "execution_count": 72,
   "metadata": {},
   "outputs": [
    {
     "data": {
      "text/plain": [
       "array([ 5,  2, 16,  4,  9,  2,  9,  9,  6, 16])"
      ]
     },
     "execution_count": 72,
     "metadata": {},
     "output_type": "execute_result"
    }
   ],
   "source": [
    "answer[:, 3]"
   ]
  },
  {
   "cell_type": "code",
   "execution_count": 74,
   "metadata": {},
   "outputs": [
    {
     "data": {
      "text/plain": [
       "9"
      ]
     },
     "execution_count": 74,
     "metadata": {},
     "output_type": "execute_result"
    }
   ],
   "source": [
    "np.bincount(answer[:, 3]).argmax()"
   ]
  },
  {
   "cell_type": "code",
   "execution_count": 66,
   "metadata": {},
   "outputs": [
    {
     "name": "stdout",
     "output_type": "stream",
     "text": [
      "Accuracy ~ 0.6866\n",
      "F1_score ~ 0.5801\n"
     ]
    }
   ],
   "source": [
    "print_metrics(y_test, bagging_dt_answer)"
   ]
  },
  {
   "cell_type": "markdown",
   "metadata": {},
   "source": [
    "# RSM "
   ]
  },
  {
   "cell_type": "code",
   "execution_count": 77,
   "metadata": {},
   "outputs": [],
   "source": [
    "n_estimators = 10\n",
    "answer = np.zeros((n_estimators, X_test.shape[0]), dtype=int)"
   ]
  },
  {
   "cell_type": "code",
   "execution_count": 78,
   "metadata": {},
   "outputs": [
    {
     "data": {
      "application/vnd.jupyter.widget-view+json": {
       "model_id": "8a67850d94a040a58f1bb30f85568275",
       "version_major": 2,
       "version_minor": 0
      },
      "text/plain": [
       "HBox(children=(IntProgress(value=0, max=10), HTML(value=u'')))"
      ]
     },
     "metadata": {},
     "output_type": "display_data"
    },
    {
     "name": "stdout",
     "output_type": "stream",
     "text": [
      "\n"
     ]
    }
   ],
   "source": [
    "for i in tqdm_notebook(range(n_estimators)):\n",
    "    DT = DecisionTreeClassifier()\n",
    "    features = np.random.choice(np.arange(X_train.shape[1]), X_train.shape[1] // 2, replace=False)\n",
    "    DT.fit(X_train[:, features], y_train)\n",
    "    answer[i] = DT.predict(X_test[:, features])"
   ]
  },
  {
   "cell_type": "code",
   "execution_count": 79,
   "metadata": {},
   "outputs": [],
   "source": [
    "rsm_dt_answer = [np.bincount(answer[:, i]).argmax() for i in range(answer.shape[1])]"
   ]
  },
  {
   "cell_type": "code",
   "execution_count": 81,
   "metadata": {},
   "outputs": [
    {
     "name": "stdout",
     "output_type": "stream",
     "text": [
      "Accuracy ~ 0.7163\n",
      "F1_score ~ 0.6112\n"
     ]
    }
   ],
   "source": [
    "print_metrics(y_test, rsm_dt_answer)"
   ]
  },
  {
   "cell_type": "markdown",
   "metadata": {},
   "source": [
    "# Random Forest"
   ]
  },
  {
   "cell_type": "code",
   "execution_count": 82,
   "metadata": {},
   "outputs": [],
   "source": [
    "class RandomForest():\n",
    "    \n",
    "    def __init__(self, n_estimators=20, max_depth=None, random_state=42):\n",
    "            \n",
    "        self.n_estimators = n_estimators\n",
    "        self.max_depth = max_depth\n",
    "        self.trees_ = [] # \n",
    "        self.features_idx = []\n",
    "        self.random_state = random_state\n",
    "\n",
    "    \n",
    "    def fit(self, X, y):\n",
    "        self.X = X\n",
    "        self.y = y\n",
    "        for t in tqdm_notebook(range(self.n_estimators)):               \n",
    "            # выбираем базовый алгоритм - дерево\n",
    "            tree = DecisionTreeClassifier(max_depth=self.max_depth)\n",
    "            # сэмплируем объекты\n",
    "            index = np.random.choice(np.arange(X.shape[0]), X.shape[0])\n",
    "            # сэмплируем признаки\n",
    "            features = np.random.choice(np.arange(X.shape[1]), X.shape[1] // 2, replace=False)\n",
    "            # обучаем\n",
    "            tree.fit(X[index][:, features], y[index])\n",
    "            # добавляем алгоритм к ансамблю\n",
    "            self.trees_.append(tree)\n",
    "            # добавляем признаки\n",
    "            self.features_idx.append(features)\n",
    "                   \n",
    "        return self\n",
    "    \n",
    "    def predict(self, X):\n",
    "        answer = np.zeros((len(self.trees_), X.shape[0]), dtype=int)\n",
    "        # добавляем прогнозы деревьев\n",
    "        for t in range(len(self.trees_)):\n",
    "            answer[t] = self.trees_[t].predict(X[:, self.features_idx[t]])\n",
    "            \n",
    "        return np.array([np.bincount(answer[:, i]).argmax() for i in range(answer.shape[1])])"
   ]
  },
  {
   "cell_type": "code",
   "execution_count": 83,
   "metadata": {},
   "outputs": [
    {
     "data": {
      "application/vnd.jupyter.widget-view+json": {
       "model_id": "0b00573616844dc6872cd312b344aba4",
       "version_major": 2,
       "version_minor": 0
      },
      "text/plain": [
       "HBox(children=(IntProgress(value=0, max=20), HTML(value=u'')))"
      ]
     },
     "metadata": {},
     "output_type": "display_data"
    },
    {
     "name": "stdout",
     "output_type": "stream",
     "text": [
      "\n"
     ]
    },
    {
     "data": {
      "text/plain": [
       "<__main__.RandomForest instance at 0x7f539fda0e18>"
      ]
     },
     "execution_count": 83,
     "metadata": {},
     "output_type": "execute_result"
    }
   ],
   "source": [
    "RF = RandomForest()\n",
    "RF.fit(X_train, y_train)"
   ]
  },
  {
   "cell_type": "code",
   "execution_count": 85,
   "metadata": {},
   "outputs": [],
   "source": [
    "RF_ans = RF.predict(X_test)"
   ]
  },
  {
   "cell_type": "code",
   "execution_count": 86,
   "metadata": {},
   "outputs": [
    {
     "name": "stdout",
     "output_type": "stream",
     "text": [
      "Accuracy ~ 0.7287\n",
      "F1_score ~ 0.6194\n"
     ]
    }
   ],
   "source": [
    "print_metrics(y_test, RF_ans)"
   ]
  },
  {
   "cell_type": "code",
   "execution_count": 89,
   "metadata": {},
   "outputs": [
    {
     "data": {
      "text/plain": [
       "array([1.44887805e-07, 1.20251207e-05, 1.30600585e-05, ...,\n",
       "       1.55600612e-02, 2.07755716e-02, 1.60615402e-02])"
      ]
     },
     "execution_count": 89,
     "metadata": {},
     "output_type": "execute_result"
    }
   ],
   "source": [
    "RF_stack.feature_importances_"
   ]
  },
  {
   "cell_type": "code",
   "execution_count": 90,
   "metadata": {},
   "outputs": [
    {
     "data": {
      "text/plain": [
       "array([0.01194709, 0.0163742 , 0.02062442, 0.02661542, 0.01569283,\n",
       "       0.0271569 , 0.02078467, 0.03078212, 0.01611298, 0.06416142,\n",
       "       0.01403308, 0.02581668, 0.01755303, 0.04860971, 0.01610467,\n",
       "       0.01395695, 0.04305068, 0.01556006, 0.02077557, 0.01606154])"
      ]
     },
     "execution_count": 90,
     "metadata": {},
     "output_type": "execute_result"
    }
   ],
   "source": [
    "RF_stack.feature_importances_[-20:]"
   ]
  },
  {
   "cell_type": "code",
   "execution_count": 92,
   "metadata": {},
   "outputs": [
    {
     "data": {
      "text/plain": [
       "(26646, 1489)"
      ]
     },
     "execution_count": 92,
     "metadata": {},
     "output_type": "execute_result"
    }
   ],
   "source": [
    "X_train.shape"
   ]
  },
  {
   "cell_type": "code",
   "execution_count": null,
   "metadata": {},
   "outputs": [],
   "source": [
    "1509"
   ]
  },
  {
   "cell_type": "code",
   "execution_count": 91,
   "metadata": {
    "scrolled": true
   },
   "outputs": [
    {
     "data": {
      "text/plain": [
       "array([1489, 1504, 1499, 1506, 1493, 1508, 1503, 1497, 1490, 1501, 1491,\n",
       "       1507, 1495, 1500, 1492, 1494, 1496, 1505, 1502, 1498])"
      ]
     },
     "execution_count": 91,
     "metadata": {},
     "output_type": "execute_result"
    }
   ],
   "source": [
    "np.argsort(RF_stack.feature_importances_)[-20:]"
   ]
  },
  {
   "cell_type": "code",
   "execution_count": 93,
   "metadata": {},
   "outputs": [
    {
     "data": {
      "text/plain": [
       "array([ True,  True,  True,  True,  True,  True,  True,  True,  True,\n",
       "        True,  True,  True,  True,  True,  True,  True,  True,  True,\n",
       "        True,  True])"
      ]
     },
     "execution_count": 93,
     "metadata": {},
     "output_type": "execute_result"
    }
   ],
   "source": [
    "np.argsort(RF_stack.feature_importances_)[-20:] >= 1489"
   ]
  },
  {
   "cell_type": "markdown",
   "metadata": {},
   "source": [
    "# Ограничим датасет для быстроты подбора параметров"
   ]
  },
  {
   "cell_type": "markdown",
   "metadata": {},
   "source": [
    "british          804\n",
    "filipino         755\n",
    "irish            667\n",
    "jamaican         526\n",
    "russian          489\n",
    "brazilian        466"
   ]
  },
  {
   "cell_type": "code",
   "execution_count": 94,
   "metadata": {},
   "outputs": [],
   "source": [
    "cutted_labels = LE.transform([\"british\", \"filipino\", \"irish\", \"jamaican\", \"russian\", \"brazilian\", \"spanish\"])"
   ]
  },
  {
   "cell_type": "code",
   "execution_count": 95,
   "metadata": {},
   "outputs": [],
   "source": [
    "idx = []\n",
    "for i in range(len(labels)):\n",
    "    if labels[i] in cutted_labels:\n",
    "        idx.append(i)\n",
    "idx = np.array(idx)"
   ]
  },
  {
   "cell_type": "code",
   "execution_count": 96,
   "metadata": {},
   "outputs": [],
   "source": [
    "X, y = X[idx], labels[idx]"
   ]
  },
  {
   "cell_type": "code",
   "execution_count": 97,
   "metadata": {},
   "outputs": [],
   "source": [
    "skf = StratifiedKFold(n_splits=5, shuffle=True, random_state=42)"
   ]
  },
  {
   "cell_type": "code",
   "execution_count": 98,
   "metadata": {},
   "outputs": [],
   "source": [
    "RFC = RandomForestClassifier(n_estimators=100, random_state=42, oob_score=True)\n",
    "temp_train_acc = []\n",
    "temp_test_acc = []\n",
    "temp_train_f1 = []\n",
    "temp_test_f1 = []\n",
    "for train_index, test_index in skf.split(X, y):\n",
    "    X_train, X_test = X[train_index], X[test_index]\n",
    "    y_train, y_test = y[train_index], y[test_index]\n",
    "    RFC.fit(X_train, y_train)\n",
    "    temp_train_acc.append(accuracy_score(RFC.predict(X_train), y_train))\n",
    "    temp_train_f1.append(f1_score(RFC.predict(X_train), y_train, average=\"macro\"))\n",
    "    temp_test_acc.append(accuracy_score(RFC.predict(X_test), y_test))\n",
    "    temp_test_f1.append(f1_score(RFC.predict(X_test), y_test, average=\"macro\"))"
   ]
  },
  {
   "cell_type": "code",
   "execution_count": 99,
   "metadata": {},
   "outputs": [
    {
     "name": "stdout",
     "output_type": "stream",
     "text": [
      "f1_score is 0.73045\n",
      "accuracy is 0.73936\n"
     ]
    }
   ],
   "source": [
    "print \"f1_score is\", np.round(np.mean(temp_test_f1), 5)\n",
    "print \"accuracy is\", np.round(np.mean(temp_test_acc), 5)"
   ]
  },
  {
   "cell_type": "code",
   "execution_count": 100,
   "metadata": {},
   "outputs": [],
   "source": [
    "def visualize(test_metric_acc, train_metric_acc, test_metric_f1, train_metric_f1, grid, xlabel='X'):\n",
    "\n",
    "    train_acc, test_acc = np.asarray(train_metric_acc), np.asarray(test_metric_acc)\n",
    "    train_f1, test_f1 = np.asarray(train_metric_f1), np.asarray(test_metric_f1)\n",
    "    print \"Best accuracy_score on CV is {:.4f} with {}\".format(max(test_acc.mean(axis=1)), \n",
    "                                                    grid[np.argmax(test_acc.mean(axis=1))]), xlabel\n",
    "    plt.style.use('ggplot')\n",
    "    plt.figure(figsize=(16, 8))\n",
    "    plt.title(\"Accuracy\")\n",
    "    plt.plot(grid, test_acc.mean(axis=1), label=\"test\")\n",
    "    plt.plot(grid, train_acc.mean(axis=1), label=\"train\")\n",
    "    plt.xlabel(xlabel)\n",
    "    plt.legend()\n",
    "    plt.show()\n",
    "    \n",
    "    print \"Best f1_score on CV is {:.4f} with {}\".format(max(test_f1.mean(axis=1)), \n",
    "                                                    grid[np.argmax(test_f1.mean(axis=1))]), xlabel\n",
    "    \n",
    "    plt.style.use('ggplot')\n",
    "    plt.figure(figsize=(16, 8))\n",
    "    plt.title(\"F1_score\")\n",
    "    plt.plot(grid, test_f1.mean(axis=1), label=\"test\")\n",
    "    plt.plot(grid, train_f1.mean(axis=1), label=\"train\")\n",
    "    plt.xlabel(xlabel)\n",
    "    plt.legend()\n",
    "    plt.show()"
   ]
  },
  {
   "cell_type": "code",
   "execution_count": 101,
   "metadata": {},
   "outputs": [],
   "source": [
    "def CV(RFC, X, y):\n",
    "\n",
    "    temp_train_acc = []\n",
    "    temp_test_acc = []\n",
    "    temp_train_f1 = []\n",
    "    temp_test_f1 = []\n",
    "    for train_index, test_index in skf.split(X, y):\n",
    "        X_train, X_test = X[train_index], X[test_index]\n",
    "        y_train, y_test = y[train_index], y[test_index]\n",
    "        RFC.fit(X_train, y_train)\n",
    "        train_ans = RFC.predict(X_train)\n",
    "        test_ans = RFC.predict(X_test)\n",
    "        temp_train_acc.append(accuracy_score(y_train, train_ans))\n",
    "        temp_train_f1.append(f1_score(y_train, train_ans, average=\"macro\"))\n",
    "        temp_test_acc.append(accuracy_score(y_test, test_ans))\n",
    "        temp_test_f1.append(f1_score(y_test, test_ans, average=\"macro\"))\n",
    "    \n",
    "    return temp_train_acc, temp_test_acc, temp_train_f1, temp_test_f1"
   ]
  },
  {
   "cell_type": "markdown",
   "metadata": {},
   "source": [
    "# Количество деревьев в ансамбле"
   ]
  },
  {
   "cell_type": "code",
   "execution_count": 102,
   "metadata": {},
   "outputs": [
    {
     "data": {
      "application/vnd.jupyter.widget-view+json": {
       "model_id": "ffe40ef9a4b349e8ad12c8eceb49500f",
       "version_major": 2,
       "version_minor": 0
      },
      "text/plain": [
       "HBox(children=(IntProgress(value=0, max=8), HTML(value=u'')))"
      ]
     },
     "metadata": {},
     "output_type": "display_data"
    },
    {
     "name": "stdout",
     "output_type": "stream",
     "text": [
      "\n"
     ]
    }
   ],
   "source": [
    "train_acc = []\n",
    "test_acc = []\n",
    "train_f1 = []\n",
    "test_f1 = []\n",
    "trees_grid = [5, 10, 15, 20, 30, 50, 75, 100]\n",
    "\n",
    "for ntrees in tqdm_notebook(trees_grid):\n",
    "    RFC = RandomForestClassifier(n_estimators=ntrees, random_state=42)\n",
    "    temp_train_acc, temp_test_acc, temp_train_f1, temp_test_f1 = CV(RFC, X, y)\n",
    "    train_acc.append(temp_train_acc)\n",
    "    test_acc.append(temp_test_acc)\n",
    "    train_f1.append(temp_train_f1)\n",
    "    test_f1.append(temp_test_f1)"
   ]
  },
  {
   "cell_type": "code",
   "execution_count": 103,
   "metadata": {},
   "outputs": [
    {
     "name": "stdout",
     "output_type": "stream",
     "text": [
      "Best accuracy_score on CV is 0.7394 with 100 trees number\n"
     ]
    },
    {
     "data": {
      "image/png": "[encoded data removed]",
      "text/plain": [
       "<Figure size 1152x576 with 1 Axes>"
      ]
     },
     "metadata": {},
     "output_type": "display_data"
    },
    {
     "name": "stdout",
     "output_type": "stream",
     "text": [
      "Best f1_score on CV is 0.7304 with 100 trees number\n"
     ]
    },
    {
     "data": {
      "image/png": "[encoded data removed]",
      "text/plain": [
       "<Figure size 1152x576 with 1 Axes>"
      ]
     },
     "metadata": {},
     "output_type": "display_data"
    }
   ],
   "source": [
    "visualize(test_acc, train_acc, test_f1, train_f1, trees_grid, \"trees number\")"
   ]
  },
  {
   "cell_type": "markdown",
   "metadata": {},
   "source": [
    "# Глубина леса"
   ]
  },
  {
   "cell_type": "code",
   "execution_count": null,
   "metadata": {},
   "outputs": [],
   "source": [
    "skf = StratifiedKFold(n_splits=5, shuffle=True, random_state=42)\n",
    "\n",
    "train_acc = []\n",
    "test_acc = []\n",
    "train_f1 = []\n",
    "test_f1 = []\n",
    "max_depth_grid = [5, 10, 15, 20, 30, 50, 100, 150, -1]\n",
    "\n",
    "for max_depth in tqdm_notebook(max_depth_grid):\n",
    "    RFC = RandomForestClassifier(n_estimators=100, random_state=42, max_depth=max_depth)\n",
    "    temp_train_acc, temp_test_acc, temp_train_f1, temp_test_f1 = CV(RFC, X, y)\n",
    "    train_acc.append(temp_train_acc)\n",
    "    test_acc.append(temp_test_acc)\n",
    "    train_f1.append(temp_train_f1)\n",
    "    test_f1.append(temp_test_f1)"
   ]
  },
  {
   "cell_type": "code",
   "execution_count": 105,
   "metadata": {},
   "outputs": [
    {
     "name": "stdout",
     "output_type": "stream",
     "text": [
      "Best accuracy_score on CV is 0.7423 with 50 max_depth\n"
     ]
    },
    {
     "data": {
      "image/png": "[encoded data removed]",
      "text/plain": [
       "<Figure size 1152x576 with 1 Axes>"
      ]
     },
     "metadata": {},
     "output_type": "display_data"
    },
    {
     "name": "stdout",
     "output_type": "stream",
     "text": [
      "Best f1_score on CV is 0.7319 with 50 max_depth\n"
     ]
    },
    {
     "data": {
      "image/png": "[encoded data removed]",
      "text/plain": [
       "<Figure size 1152x576 with 1 Axes>"
      ]
     },
     "metadata": {},
     "output_type": "display_data"
    }
   ],
   "source": [
    "visualize(test_acc, train_acc, test_f1, train_f1, max_depth_grid[:-1], \"max_depth\")"
   ]
  },
  {
   "cell_type": "markdown",
   "metadata": {},
   "source": [
    "# MAX_FEATURES"
   ]
  },
  {
   "cell_type": "markdown",
   "metadata": {},
   "source": [
    "##### По умолчанию он равен sqrt(n) в задачах классификации и n/3 в задачах регрессии"
   ]
  },
  {
   "cell_type": "code",
   "execution_count": 106,
   "metadata": {},
   "outputs": [
    {
     "data": {
      "application/vnd.jupyter.widget-view+json": {
       "model_id": "375d34e69d5d47b894d86e2cdde2d194",
       "version_major": 2,
       "version_minor": 0
      },
      "text/plain": [
       "HBox(children=(IntProgress(value=0, max=9), HTML(value=u'')))"
      ]
     },
     "metadata": {},
     "output_type": "display_data"
    },
    {
     "name": "stdout",
     "output_type": "stream",
     "text": [
      "\n"
     ]
    }
   ],
   "source": [
    "skf = StratifiedKFold(n_splits=5, shuffle=True, random_state=42)\n",
    "\n",
    "train_acc = []\n",
    "test_acc = []\n",
    "train_f1 = []\n",
    "test_f1 = []\n",
    "max_features_grid = [5, 10, 15, 20, 38, 50, 100, 500, 1000]\n",
    "\n",
    "for max_features in tqdm_notebook(max_features_grid):\n",
    "    RFC = RandomForestClassifier(n_estimators=100, random_state=42, max_features=max_features)\n",
    "    temp_train_acc, temp_test_acc, temp_train_f1, temp_test_f1 = CV(RFC, X, y)\n",
    "    train_acc.append(temp_train_acc)\n",
    "    test_acc.append(temp_test_acc)\n",
    "    train_f1.append(temp_train_f1)\n",
    "    test_f1.append(temp_test_f1)"
   ]
  },
  {
   "cell_type": "code",
   "execution_count": 107,
   "metadata": {},
   "outputs": [
    {
     "name": "stdout",
     "output_type": "stream",
     "text": [
      "Best accuracy_score on CV is 0.7573 with 5 max_features\n"
     ]
    },
    {
     "data": {
      "image/png": "[encoded data removed]",
      "text/plain": [
       "<Figure size 1152x576 with 1 Axes>"
      ]
     },
     "metadata": {},
     "output_type": "display_data"
    },
    {
     "name": "stdout",
     "output_type": "stream",
     "text": [
      "Best f1_score on CV is 0.7472 with 5 max_features\n"
     ]
    },
    {
     "data": {
      "image/png": "[encoded data removed]",
      "text/plain": [
       "<Figure size 1152x576 with 1 Axes>"
      ]
     },
     "metadata": {},
     "output_type": "display_data"
    }
   ],
   "source": [
    "visualize(test_acc, train_acc, test_f1, train_f1, max_features_grid, \"max_features\")"
   ]
  },
  {
   "cell_type": "markdown",
   "metadata": {},
   "source": [
    "# MIN SAMPLES LEAF"
   ]
  },
  {
   "cell_type": "markdown",
   "metadata": {},
   "source": [
    "По классике, в задачах регрессии рекомендуется использовать значение 5"
   ]
  },
  {
   "cell_type": "code",
   "execution_count": 108,
   "metadata": {},
   "outputs": [
    {
     "data": {
      "application/vnd.jupyter.widget-view+json": {
       "model_id": "2f7fac50778a42b78bd545995400410e",
       "version_major": 2,
       "version_minor": 0
      },
      "text/plain": [
       "HBox(children=(IntProgress(value=0, max=8), HTML(value=u'')))"
      ]
     },
     "metadata": {},
     "output_type": "display_data"
    },
    {
     "name": "stdout",
     "output_type": "stream",
     "text": [
      "\n"
     ]
    }
   ],
   "source": [
    "skf = StratifiedKFold(n_splits=5, shuffle=True, random_state=42)\n",
    "\n",
    "train_acc = []\n",
    "test_acc = []\n",
    "train_f1 = []\n",
    "test_f1 = []\n",
    "min_samples_leaf_grid = [1, 3, 5, 7, 10, 15, 20, 25]\n",
    "\n",
    "for min_samples_leaf in tqdm_notebook(min_samples_leaf_grid):\n",
    "    RFC = RandomForestClassifier(n_estimators=100, random_state=42, min_samples_leaf=min_samples_leaf)\n",
    "    temp_train_acc, temp_test_acc, temp_train_f1, temp_test_f1 = CV(RFC, X, y)\n",
    "    train_acc.append(temp_train_acc)\n",
    "    test_acc.append(temp_test_acc)\n",
    "    train_f1.append(temp_train_f1)\n",
    "    test_f1.append(temp_test_f1)"
   ]
  },
  {
   "cell_type": "code",
   "execution_count": 109,
   "metadata": {},
   "outputs": [
    {
     "name": "stdout",
     "output_type": "stream",
     "text": [
      "Best accuracy_score on CV is 0.7394 with 1 min_samples_leaf_grid\n"
     ]
    },
    {
     "data": {
      "image/png": "[encoded data removed]",
      "text/plain": [
       "<Figure size 1152x576 with 1 Axes>"
      ]
     },
     "metadata": {},
     "output_type": "display_data"
    },
    {
     "name": "stdout",
     "output_type": "stream",
     "text": [
      "Best f1_score on CV is 0.7304 with 1 min_samples_leaf_grid\n"
     ]
    },
    {
     "data": {
      "image/png": "[encoded data removed]",
      "text/plain": [
       "<Figure size 1152x576 with 1 Axes>"
      ]
     },
     "metadata": {},
     "output_type": "display_data"
    }
   ],
   "source": [
    "visualize(test_acc, train_acc, test_f1, train_f1, min_samples_leaf_grid, \"min_samples_leaf_grid\")"
   ]
  },
  {
   "cell_type": "code",
   "execution_count": 111,
   "metadata": {},
   "outputs": [
    {
     "name": "stdout",
     "output_type": "stream",
     "text": [
      "Fitting 5 folds for each of 168 candidates, totalling 840 fits\n"
     ]
    },
    {
     "name": "stderr",
     "output_type": "stream",
     "text": [
      "[Parallel(n_jobs=18)]: Using backend LokyBackend with 18 concurrent workers.\n",
      "[Parallel(n_jobs=18)]: Done  14 tasks      | elapsed:   10.6s\n",
      "[Parallel(n_jobs=18)]: Done 164 tasks      | elapsed:   16.8s\n",
      "[Parallel(n_jobs=18)]: Done 414 tasks      | elapsed:   22.9s\n",
      "[Parallel(n_jobs=18)]: Done 764 tasks      | elapsed:   31.4s\n",
      "[Parallel(n_jobs=18)]: Done 840 out of 840 | elapsed:   33.3s finished\n"
     ]
    },
    {
     "data": {
      "text/plain": [
       "GridSearchCV(cv=StratifiedKFold(n_splits=5, random_state=42, shuffle=True),\n",
       "       error_score='raise-deprecating',\n",
       "       estimator=RandomForestClassifier(bootstrap=True, class_weight=None, criterion='gini',\n",
       "            max_depth=None, max_features='auto', max_leaf_nodes=None,\n",
       "            min_impurity_decrease=0.0, min_impurity_split=None,\n",
       "            min_samples_leaf=1, min_samples_split=2,\n",
       "            min_weight_fraction_leaf=0.0, n_estimators=10, n_jobs=18,\n",
       "            oob_score=True, random_state=42, verbose=0, warm_start=False),\n",
       "       fit_params=None, iid='warn', n_jobs=18,\n",
       "       param_grid={'max_features': [1, 5, 10, 15, 20, 38, 50], 'max_depth': [5, 10, 15, 20, 30, 50], 'min_samples_leaf': [1, 3, 5, 7]},\n",
       "       pre_dispatch='2*n_jobs', refit=True, return_train_score='warn',\n",
       "       scoring=None, verbose=1)"
      ]
     },
     "execution_count": 111,
     "metadata": {},
     "output_type": "execute_result"
    }
   ],
   "source": [
    "parameters = {'max_features': [1, 5, 10, 15, 20, 38, 50], \n",
    "              'min_samples_leaf': [1, 3, 5, 7],\n",
    "              'max_depth': [5, 10, 15, 20, 30, 50]}\n",
    "rfc = RandomForestClassifier(n_estimators=10, random_state=42, \n",
    "                             n_jobs=18, oob_score=True)\n",
    "gcv = GridSearchCV(rfc, parameters, n_jobs=18, cv=skf, verbose=1)\n",
    "gcv.fit(X, y)"
   ]
  },
  {
   "cell_type": "code",
   "execution_count": 112,
   "metadata": {},
   "outputs": [
    {
     "data": {
      "text/plain": [
       "RandomForestClassifier(bootstrap=True, class_weight=None, criterion='gini',\n",
       "            max_depth=30, max_features=38, max_leaf_nodes=None,\n",
       "            min_impurity_decrease=0.0, min_impurity_split=None,\n",
       "            min_samples_leaf=1, min_samples_split=2,\n",
       "            min_weight_fraction_leaf=0.0, n_estimators=10, n_jobs=18,\n",
       "            oob_score=True, random_state=42, verbose=0, warm_start=False)"
      ]
     },
     "execution_count": 112,
     "metadata": {},
     "output_type": "execute_result"
    }
   ],
   "source": [
    "gcv.best_estimator_"
   ]
  },
  {
   "cell_type": "code",
   "execution_count": 113,
   "metadata": {},
   "outputs": [
    {
     "data": {
      "text/plain": [
       "0.6827086882453152"
      ]
     },
     "execution_count": 113,
     "metadata": {},
     "output_type": "execute_result"
    }
   ],
   "source": [
    "gcv.best_score_"
   ]
  },
  {
   "cell_type": "markdown",
   "metadata": {},
   "source": [
    "# Градиентный Бустинг"
   ]
  },
  {
   "cell_type": "markdown",
   "metadata": {},
   "source": [
    "# Для простоты рассмотрим регрессию"
   ]
  },
  {
   "cell_type": "code",
   "execution_count": 114,
   "metadata": {},
   "outputs": [],
   "source": [
    "from sklearn.metrics import mean_squared_error as mse"
   ]
  },
  {
   "cell_type": "code",
   "execution_count": 115,
   "metadata": {},
   "outputs": [],
   "source": [
    "wine = pd.read_csv(\"winequality-red.csv\")"
   ]
  },
  {
   "cell_type": "code",
   "execution_count": 116,
   "metadata": {},
   "outputs": [],
   "source": [
    "X = wine.values[:, :-1]\n",
    "y = wine.values[:, -1]"
   ]
  },
  {
   "cell_type": "code",
   "execution_count": 117,
   "metadata": {
    "scrolled": true
   },
   "outputs": [],
   "source": [
    "X_train, X_test, y_train, y_test = train_test_split(wine.values[:, :-1], wine.values[:, -1], test_size=0.33, random_state=42)"
   ]
  },
  {
   "cell_type": "markdown",
   "metadata": {},
   "source": [
    "$MSE(y, p) = \\frac{1}{n} (y-p)^T(y-p) = \\frac{1}{n} \\sum\\limits_{i=1}^n(y_i - p_i)^2$"
   ]
  },
  {
   "cell_type": "markdown",
   "metadata": {},
   "source": [
    "$(\\frac{1}{n} (y_j - p_j)^2)' = -\\frac{2}{n} (y_j - p_j) = \\frac{2}{n} (p_j - y_j)$"
   ]
  },
  {
   "cell_type": "markdown",
   "metadata": {},
   "source": [
    "$\\nabla MSE - ?$"
   ]
  },
  {
   "cell_type": "markdown",
   "metadata": {},
   "source": [
    "Каждый следующий алгоритм тоже будем настраивать на остатки предыдущих"
   ]
  },
  {
   "cell_type": "markdown",
   "metadata": {},
   "source": [
    "Заметим, что остатки могут быть найдены как антиградиент функции потерь по ответу модели, посчитанный в точке ответа уже построенной композиции"
   ]
  },
  {
   "cell_type": "code",
   "execution_count": 122,
   "metadata": {},
   "outputs": [],
   "source": [
    "class GradientBoosting():\n",
    "    \n",
    "    def __init__(self, n_estimators=100, learning_rate=0.1, max_depth=-1, random_state=42):\n",
    "            \n",
    "        self.n_estimators = n_estimators\n",
    "        self.max_depth = max_depth\n",
    "        self.learning_rate = learning_rate\n",
    "        self.initialization = lambda y: np.mean(y) * np.ones(len(y))\n",
    "        self.loss_by_iter = [] # функция потерь на каждой итерации\n",
    "        self.trees_ = []\n",
    "        self.random_state = random_state\n",
    "        \n",
    "    def mse_grad(self, y, p):\n",
    "        # написать градиент\n",
    "        return 2. * (p - y) / len(y)\n",
    "\n",
    "    \n",
    "    def fit(self, X, y):\n",
    "        self.X = X\n",
    "        self.y = y\n",
    "        b = self.initialization(y)\n",
    "        prediction = b.copy()\n",
    "        for t in tqdm_notebook(range(self.n_estimators)):               \n",
    "            # считаем - антиградиент\n",
    "            resid = -self.mse_grad(y, prediction)\n",
    "            # выбираем базовый алгоритм\n",
    "            tree = DecisionTreeRegressor(max_depth=self.max_depth, random_state=self.random_state)\n",
    "            # обучаемся на векторе антиградиента\n",
    "            tree.fit(X, resid)\n",
    "            # делаем предикт и добавляем алгоритм к ансамблю\n",
    "            b = tree.predict(X)\n",
    "            #добавляем дерево в ансамбль\n",
    "            self.trees_.append(tree)\n",
    "            # обновляем текущее приближение (lr * b)\n",
    "            prediction += self.learning_rate * b\n",
    "            \n",
    "            # обновляем лосс на обучении (опционально)\n",
    "            self.loss_by_iter.append(mse(y, prediction))\n",
    "            \n",
    "        return self\n",
    "    \n",
    "    def predict(self, X):\n",
    "        # сначала инициализируем прогноз на тестовой выборке – \n",
    "        # это просто вектор из средних значений ответов на обучении\n",
    "        pred = np.ones(X.shape[0]) * np.mean(self.y)\n",
    "        # добавляем прогнозы деревьев * lr\n",
    "        for t in range(self.n_estimators):\n",
    "            pred += self.learning_rate * self.trees_[t].predict(X)\n",
    "            \n",
    "        return pred"
   ]
  },
  {
   "cell_type": "code",
   "execution_count": 128,
   "metadata": {},
   "outputs": [
    {
     "data": {
      "application/vnd.jupyter.widget-view+json": {
       "model_id": "f12286bd34204a53b8c417e11196177b",
       "version_major": 2,
       "version_minor": 0
      },
      "text/plain": [
       "HBox(children=(IntProgress(value=0), HTML(value=u'')))"
      ]
     },
     "metadata": {},
     "output_type": "display_data"
    },
    {
     "name": "stdout",
     "output_type": "stream",
     "text": [
      "\n"
     ]
    },
    {
     "data": {
      "text/plain": [
       "0.5704116343715265"
      ]
     },
     "execution_count": 128,
     "metadata": {},
     "output_type": "execute_result"
    }
   ],
   "source": [
    "tree = GradientBoosting(n_estimators=100, learning_rate=1., max_depth=None)\n",
    "tree.fit(X_train, y_train)\n",
    "mse(y_test, tree.predict(X_test))"
   ]
  },
  {
   "cell_type": "code",
   "execution_count": 129,
   "metadata": {},
   "outputs": [
    {
     "data": {
      "text/plain": [
       "0.7367424242424242"
      ]
     },
     "execution_count": 129,
     "metadata": {},
     "output_type": "execute_result"
    }
   ],
   "source": [
    "tree = DecisionTreeClassifier()\n",
    "tree.fit(X_train, y_train)\n",
    "mse(y_test, tree.predict(X_test))"
   ]
  },
  {
   "cell_type": "code",
   "execution_count": 136,
   "metadata": {},
   "outputs": [
    {
     "data": {
      "text/plain": [
       "array([5., 5., 5., ..., 6., 5., 6.])"
      ]
     },
     "execution_count": 136,
     "metadata": {},
     "output_type": "execute_result"
    }
   ],
   "source": [
    "y"
   ]
  },
  {
   "cell_type": "code",
   "execution_count": 139,
   "metadata": {},
   "outputs": [
    {
     "data": {
      "text/plain": [
       "array([5.63602251, 5.63602251, 5.63602251, ..., 5.63602251, 5.63602251,\n",
       "       5.63602251])"
      ]
     },
     "execution_count": 139,
     "metadata": {},
     "output_type": "execute_result"
    }
   ],
   "source": [
    "np.ones(len(y)) * np.mean(y)"
   ]
  },
  {
   "cell_type": "code",
   "execution_count": 130,
   "metadata": {},
   "outputs": [],
   "source": [
    "class StohasticGradientBoosting():\n",
    "    \n",
    "    def __init__(self, n_estimators=500, learning_rate=0.1, max_depth=-1, random_state=42):\n",
    "            \n",
    "        self.n_estimators = n_estimators\n",
    "        self.max_depth = max_depth\n",
    "        self.learning_rate = learning_rate\n",
    "        self.initialization = lambda y: np.mean(y) * np.ones(len(y))\n",
    "        self.loss_by_iter = [] # функция потерь на каждой итерации\n",
    "        self.trees_ = []\n",
    "        self.random_state = random_state\n",
    "        \n",
    "    def mse_grad(self, y, p):\n",
    "        # написать градиент\n",
    "        return 2. * (p - y) / len(y)\n",
    "\n",
    "    \n",
    "    def fit(self, X, y):\n",
    "        self.X = X\n",
    "        self.y = y\n",
    "        b = self.initialization(y)\n",
    "        prediction = b.copy()\n",
    "        for t in tqdm_notebook(range(self.n_estimators)):  \n",
    "            index = np.random.choice(np.arange(X.shape[0]), X.shape[0])\n",
    "            # считаем - антиградиент\n",
    "            resid = -self.mse_grad(y, prediction)\n",
    "            # выбираем базовый алгоритм\n",
    "            tree = DecisionTreeRegressor(max_depth=self.max_depth, random_state=self.random_state)\n",
    "            # обучаемся на векторе антиградиента\n",
    "            tree.fit(X[index], resid[index])\n",
    "            # делаем предикт и добавляем алгоритм к ансамблю\n",
    "            b = tree.predict(X)\n",
    "            #добавляем дерево в ансамбль\n",
    "            self.trees_.append(tree)\n",
    "            # обновляем текущее приближение (lr * b)\n",
    "            prediction += self.learning_rate * b\n",
    "            # обновляем лосс на обучении (опционально)\n",
    "            self.loss_by_iter.append(mse(y, prediction))\n",
    "            \n",
    "        return self\n",
    "    \n",
    "    def predict(self, X):\n",
    "        # сначала инициализируем прогноз на тестовой выборке – \n",
    "        # это просто вектор из средних значений ответов на обучении\n",
    "        pred = np.ones(X.shape[0]) * np.mean(self.y)\n",
    "        # добавляем прогнозы деревьев * lr\n",
    "        for t in range(self.n_estimators):\n",
    "            pred += self.learning_rate * self.trees_[t].predict(X)\n",
    "            \n",
    "        return pred"
   ]
  },
  {
   "cell_type": "code",
   "execution_count": 133,
   "metadata": {},
   "outputs": [
    {
     "data": {
      "application/vnd.jupyter.widget-view+json": {
       "model_id": "9ee6d04f87b64b01a7f3c1966d973100",
       "version_major": 2,
       "version_minor": 0
      },
      "text/plain": [
       "HBox(children=(IntProgress(value=0, max=500), HTML(value=u'')))"
      ]
     },
     "metadata": {},
     "output_type": "display_data"
    },
    {
     "name": "stdout",
     "output_type": "stream",
     "text": [
      "\n"
     ]
    },
    {
     "data": {
      "text/plain": [
       "0.46299196213134935"
      ]
     },
     "execution_count": 133,
     "metadata": {},
     "output_type": "execute_result"
    }
   ],
   "source": [
    "tree = GradientBoosting(n_estimators=500, learning_rate=1., max_depth=None)\n",
    "tree.fit(X_train, y_train)\n",
    "mse(y_test, tree.predict(X_test))"
   ]
  },
  {
   "cell_type": "code",
   "execution_count": 134,
   "metadata": {},
   "outputs": [
    {
     "data": {
      "text/plain": [
       "0.41309086015684054"
      ]
     },
     "execution_count": 134,
     "metadata": {},
     "output_type": "execute_result"
    }
   ],
   "source": [
    "from lightgbm import LGBMRegressor\n",
    "\n",
    "LGBM = LGBMRegressor(n_estimators=500)\n",
    "LGBM.fit(X_train, y_train.ravel())\n",
    "LGBM_ans = LGBM.predict(X_test)\n",
    "mse(y_test, LGBM_ans)"
   ]
  },
  {
   "cell_type": "code",
   "execution_count": 135,
   "metadata": {},
   "outputs": [],
   "source": [
    "def visualize(test_metric_mse, train_metric_mse, grid, xlabel='X'):\n",
    "\n",
    "    train_mse, test_mse = np.asarray(train_metric_mse), np.asarray(test_metric_mse)\n",
    "    print \"Best MSE on CV is {:.4f} with {}\".format(min(test_mse.mean(axis=1)), \n",
    "                                                    grid[np.argmin(test_mse.mean(axis=1))]), xlabel\n",
    "    plt.style.use('ggplot')\n",
    "    plt.figure(figsize=(16, 8))\n",
    "    plt.title(\"MSE\")\n",
    "    plt.plot(grid, test_mse.mean(axis=1), label=\"test\")\n",
    "    plt.plot(grid, train_mse.mean(axis=1), label=\"train\")\n",
    "    plt.xlabel(xlabel)\n",
    "    plt.legend()\n",
    "    plt.show()"
   ]
  },
  {
   "cell_type": "markdown",
   "metadata": {},
   "source": [
    "# Параметры Градиентного бустинга"
   ]
  },
  {
   "cell_type": "markdown",
   "metadata": {},
   "source": [
    "# Learning Rate"
   ]
  },
  {
   "cell_type": "code",
   "execution_count": 146,
   "metadata": {},
   "outputs": [
    {
     "data": {
      "application/vnd.jupyter.widget-view+json": {
       "model_id": "65936b4215bd4e42987b5f41964b0fd8",
       "version_major": 2,
       "version_minor": 0
      },
      "text/plain": [
       "HBox(children=(IntProgress(value=0, max=7), HTML(value=u'')))"
      ]
     },
     "metadata": {},
     "output_type": "display_data"
    },
    {
     "name": "stdout",
     "output_type": "stream",
     "text": [
      "\n"
     ]
    }
   ],
   "source": [
    "skf = StratifiedKFold(n_splits=5, shuffle=True, random_state=42)\n",
    "\n",
    "train_mse = []\n",
    "test_mse = []\n",
    "learning_rates = [0.01, 0.05, 0.1, 0.25, 0.5, 0.75, 1.]\n",
    "\n",
    "for lr in tqdm_notebook(learning_rates):\n",
    "    LGBM = LGBMRegressor(learning_rate=lr)\n",
    "    temp_train_mse = []\n",
    "    temp_test_mse = []\n",
    "    for train_index, test_index in skf.split(X, y):\n",
    "        X_train, X_test = X[train_index], X[test_index]\n",
    "        y_train, y_test = y[train_index], y[test_index]\n",
    "        LGBM.fit(X_train, y_train)\n",
    "        temp_train_mse.append(mse(LGBM.predict(X_train), y_train))\n",
    "        temp_test_mse.append(mse(LGBM.predict(X_test), y_test))\n",
    "    train_mse.append(temp_train_mse)\n",
    "    test_mse.append(temp_test_mse)"
   ]
  },
  {
   "cell_type": "code",
   "execution_count": 147,
   "metadata": {},
   "outputs": [
    {
     "name": "stdout",
     "output_type": "stream",
     "text": [
      "Best MSE on CV is 0.3564 with 0.05 learning rate\n"
     ]
    },
    {
     "data": {
      "image/png": "[encoded data removed]",
      "text/plain": [
       "<Figure size 1152x576 with 1 Axes>"
      ]
     },
     "metadata": {},
     "output_type": "display_data"
    }
   ],
   "source": [
    "visualize(test_mse, train_mse, learning_rates, \"learning rate\")"
   ]
  },
  {
   "cell_type": "markdown",
   "metadata": {},
   "source": [
    "# n_estimators"
   ]
  },
  {
   "cell_type": "code",
   "execution_count": 142,
   "metadata": {},
   "outputs": [
    {
     "data": {
      "application/vnd.jupyter.widget-view+json": {
       "model_id": "d56b7927d7544f85b37bb8b72100136a",
       "version_major": 2,
       "version_minor": 0
      },
      "text/plain": [
       "HBox(children=(IntProgress(value=0, max=11), HTML(value=u'')))"
      ]
     },
     "metadata": {},
     "output_type": "display_data"
    },
    {
     "name": "stdout",
     "output_type": "stream",
     "text": [
      "\n"
     ]
    }
   ],
   "source": [
    "skf = StratifiedKFold(n_splits=5, shuffle=True, random_state=42)\n",
    "\n",
    "train_mse = []\n",
    "test_mse = []\n",
    "n_estimators = [1, 2, 4, 8, 16, 32, 64, 100, 200, 1000, 3000]\n",
    "\n",
    "for n in tqdm_notebook(n_estimators):\n",
    "    LGBM = LGBMRegressor(n_estimators=n)\n",
    "    temp_train_mse = []\n",
    "    temp_test_mse = []\n",
    "    for train_index, test_index in skf.split(X, y):\n",
    "        X_train, X_test = X[train_index], X[test_index]\n",
    "        y_train, y_test = y[train_index], y[test_index]\n",
    "        LGBM.fit(X_train, y_train)\n",
    "        temp_train_mse.append(mse(LGBM.predict(X_train), y_train))\n",
    "        temp_test_mse.append(mse(LGBM.predict(X_test), y_test))\n",
    "    train_mse.append(temp_train_mse)\n",
    "    test_mse.append(temp_test_mse)"
   ]
  },
  {
   "cell_type": "code",
   "execution_count": 143,
   "metadata": {},
   "outputs": [
    {
     "name": "stdout",
     "output_type": "stream",
     "text": [
      "Best MSE on CV is 0.3617 with 64 n_estimators\n"
     ]
    },
    {
     "data": {
      "image/png": "[encoded data removed]",
      "text/plain": [
       "<Figure size 1152x576 with 1 Axes>"
      ]
     },
     "metadata": {},
     "output_type": "display_data"
    }
   ],
   "source": [
    "visualize(test_mse, train_mse, n_estimators, \"n_estimators\")"
   ]
  },
  {
   "cell_type": "code",
   "execution_count": 145,
   "metadata": {},
   "outputs": [
    {
     "data": {
      "text/plain": [
       "[0.6025276996738773,\n",
       " 0.5629534122534988,\n",
       " 0.504662305742507,\n",
       " 0.4366363054474422,\n",
       " 0.3847158762950588,\n",
       " 0.36247659628359374,\n",
       " 0.3617080612822406,\n",
       " 0.3626165117472869,\n",
       " 0.36590955533267316,\n",
       " 0.3722888008029468,\n",
       " 0.37236484661533187]"
      ]
     },
     "execution_count": 145,
     "metadata": {},
     "output_type": "execute_result"
    }
   ],
   "source": [
    "[np.mean(i) for i in test_mse]"
   ]
  },
  {
   "cell_type": "code",
   "execution_count": null,
   "metadata": {},
   "outputs": [],
   "source": []
  }
 ],
 "metadata": {
  "kernelspec": {
   "display_name": "Python 2",
   "language": "python",
   "name": "python2"
  },
  "language_info": {
   "codemirror_mode": {
    "name": "ipython",
    "version": 2
   },
   "file_extension": ".py",
   "mimetype": "text/x-python",
   "name": "python",
   "nbconvert_exporter": "python",
   "pygments_lexer": "ipython2",
   "version": "2.7.15"
  }
 },
 "nbformat": 4,
 "nbformat_minor": 2
}
