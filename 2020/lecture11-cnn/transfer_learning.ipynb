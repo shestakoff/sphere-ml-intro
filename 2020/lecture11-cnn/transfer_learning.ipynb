{
 "cells": [
  {
   "cell_type": "markdown",
   "metadata": {
    "id": "ATqxYRQufy8l",
    "toc": true
   },
   "source": [
    "<h1>Table of Contents<span class=\"tocSkip\"></span></h1>\n",
    "<div class=\"toc\"><ul class=\"toc-item\"><li><span><a href=\"#Hot-Dog\" data-toc-modified-id=\"Hot-Dog-1\"><span class=\"toc-item-num\">1&nbsp;&nbsp;</span>Hot Dog</a></span><ul class=\"toc-item\"><li><span><a href=\"#Загрузка-изображений\" data-toc-modified-id=\"Загрузка-изображений-1.1\"><span class=\"toc-item-num\">1.1&nbsp;&nbsp;</span>Загрузка изображений</a></span></li><li><span><a href=\"#Model-From-Scratch\" data-toc-modified-id=\"Model-From-Scratch-1.2\"><span class=\"toc-item-num\">1.2&nbsp;&nbsp;</span>Model From Scratch</a></span></li><li><span><a href=\"#Feature-Extraction\" data-toc-modified-id=\"Feature-Extraction-1.3\"><span class=\"toc-item-num\">1.3&nbsp;&nbsp;</span>Feature Extraction</a></span></li><li><span><a href=\"#Error-Analysis\" data-toc-modified-id=\"Error-Analysis-1.4\"><span class=\"toc-item-num\">1.4&nbsp;&nbsp;</span>Error Analysis</a></span></li></ul></li><li><span><a href=\"#Dog\" data-toc-modified-id=\"Dog-2\"><span class=\"toc-item-num\">2&nbsp;&nbsp;</span>Dog</a></span><ul class=\"toc-item\"><li><span><a href=\"#Feature-Extraction\" data-toc-modified-id=\"Feature-Extraction-2.1\"><span class=\"toc-item-num\">2.1&nbsp;&nbsp;</span>Feature Extraction</a></span></li><li><span><a href=\"#Fine-Tuning\" data-toc-modified-id=\"Fine-Tuning-2.2\"><span class=\"toc-item-num\">2.2&nbsp;&nbsp;</span>Fine Tuning</a></span></li><li><span><a href=\"#Evaluation\" data-toc-modified-id=\"Evaluation-2.3\"><span class=\"toc-item-num\">2.3&nbsp;&nbsp;</span>Evaluation</a></span></li></ul></li></ul></div>"
   ]
  },
  {
   "cell_type": "code",
   "execution_count": null,
   "metadata": {
    "ExecuteTime": {
     "end_time": "2020-12-08T09:16:07.845281Z",
     "start_time": "2020-12-08T09:16:07.273018Z"
    },
    "id": "vlu0Ezpefy8l"
   },
   "outputs": [],
   "source": [
    "import numpy as np\n",
    "import pandas as pd\n",
    "import tensorflow as tf\n",
    "import tensorflow_datasets as tfds\n",
    "import matplotlib.pyplot as plt\n",
    "plt.style.use(\"ggplot\")\n",
    "import seaborn as sns\n",
    "from sklearn.metrics import roc_auc_score\n",
    "\n",
    "from IPython.core.display import clear_output"
   ]
  },
  {
   "cell_type": "markdown",
   "metadata": {
    "id": "Ihxay-VRfy8m"
   },
   "source": [
    "# Hot Dog\n",
    "\n",
    "https://www.kaggle.com/dansbecker/hot-dog-not-hot-dog/data"
   ]
  },
  {
   "cell_type": "markdown",
   "metadata": {},
   "source": [
    "<img src=\"img/silicon_valley.jpg\">"
   ]
  },
  {
   "cell_type": "code",
   "execution_count": null,
   "metadata": {
    "ExecuteTime": {
     "end_time": "2020-12-08T09:00:04.132994Z",
     "start_time": "2020-12-08T09:00:04.129785Z"
    }
   },
   "outputs": [],
   "source": [
    "# !mkdir ./data\n",
    "\n",
    "# !wget https://raw.githubusercontent.com/shestakoff/sphere-ml-intro/master/2020/lecture11-cnn/data/seefood.zip -O ./data/seefood.zip"
   ]
  },
  {
   "cell_type": "code",
   "execution_count": null,
   "metadata": {
    "ExecuteTime": {
     "end_time": "2020-12-08T09:00:05.183566Z",
     "start_time": "2020-12-08T09:00:04.136951Z"
    }
   },
   "outputs": [],
   "source": [
    "!unzip data/seefood.zip -d data"
   ]
  },
  {
   "cell_type": "code",
   "execution_count": null,
   "metadata": {
    "ExecuteTime": {
     "end_time": "2020-12-08T09:00:05.322210Z",
     "start_time": "2020-12-08T09:00:05.186538Z"
    },
    "id": "8s2mOooXfy8m",
    "outputId": "1f78294e-f6aa-49db-e6e7-1483d038cb8b"
   },
   "outputs": [],
   "source": [
    "# !tree -d data/seefood/"
   ]
  },
  {
   "cell_type": "markdown",
   "metadata": {
    "id": "MeOiTW-Tfy8n"
   },
   "source": [
    "## Загрузка изображений"
   ]
  },
  {
   "cell_type": "code",
   "execution_count": null,
   "metadata": {
    "ExecuteTime": {
     "end_time": "2020-12-08T09:00:05.929383Z",
     "start_time": "2020-12-08T09:00:05.324688Z"
    },
    "id": "vUqGWnb9fy8n",
    "outputId": "db8bc896-c89c-4bec-9d2d-6ee7c6c9f3c7"
   },
   "outputs": [],
   "source": [
    "TRAIN_PATH = \"data/seefood/train\"\n",
    "TEST_PATH = \"data/seefood/test\"\n",
    "SEED = 42\n",
    "\n",
    "IMG_SIZE = 224\n",
    "batch_size = 16\n",
    "class_names = [\"not_hot_dog\", \"hot_dog\"]\n",
    "\n",
    "\n",
    "train_ds = tf.keras.preprocessing.image_dataset_from_directory(\n",
    "    directory=TRAIN_PATH,\n",
    "    labels=\"inferred\",\n",
    "    class_names=class_names,\n",
    "    validation_split=0.2,\n",
    "    subset=\"training\",\n",
    "    seed=SEED,\n",
    "    image_size=(IMG_SIZE, IMG_SIZE),\n",
    "    batch_size=batch_size\n",
    ")\n",
    "\n",
    "val_ds = tf.keras.preprocessing.image_dataset_from_directory(\n",
    "    directory=TRAIN_PATH,\n",
    "    labels=\"inferred\",\n",
    "    class_names=class_names,\n",
    "    validation_split=0.2,\n",
    "    subset=\"validation\",\n",
    "    seed=SEED,\n",
    "    image_size=(IMG_SIZE, IMG_SIZE),\n",
    "    batch_size=batch_size\n",
    ")\n",
    "\n",
    "test_ds = tf.keras.preprocessing.image_dataset_from_directory(\n",
    "    directory=TEST_PATH,\n",
    "    labels=\"inferred\",\n",
    "    class_names=class_names,\n",
    "    image_size=(IMG_SIZE, IMG_SIZE),\n",
    "    batch_size=batch_size\n",
    ")"
   ]
  },
  {
   "cell_type": "code",
   "execution_count": null,
   "metadata": {
    "ExecuteTime": {
     "end_time": "2020-12-08T09:00:07.497397Z",
     "start_time": "2020-12-08T09:00:05.932172Z"
    },
    "id": "B4UsRrygfy8n",
    "outputId": "448d62e2-780b-4de1-f805-4a5429d2b96d"
   },
   "outputs": [],
   "source": [
    "N_ROWS = 4\n",
    "N_COLS = batch_size // N_ROWS\n",
    "\n",
    "fig, ax = plt.subplots(nrows=N_ROWS, ncols=N_COLS, figsize=(10, 10))\n",
    "\n",
    "for images, targets in train_ds.take(1):\n",
    "    images = images.numpy().astype(\"uint8\")\n",
    "    for i in range(N_ROWS):\n",
    "        for j in range(N_COLS):\n",
    "            ax[i, j].set_title(class_names[targets[i * N_COLS + j]])\n",
    "            ax[i, j].imshow(images[i * N_COLS + j])\n",
    "            ax[i, j].axis(\"off\")\n",
    "plt.show()"
   ]
  },
  {
   "cell_type": "markdown",
   "metadata": {
    "id": "v9QWK1djfy8n"
   },
   "source": [
    "## Model From Scratch"
   ]
  },
  {
   "cell_type": "code",
   "execution_count": null,
   "metadata": {
    "ExecuteTime": {
     "end_time": "2020-12-08T09:00:07.566152Z",
     "start_time": "2020-12-08T09:00:07.499609Z"
    },
    "id": "wzy6LI5Pfy8n"
   },
   "outputs": [],
   "source": [
    "cnn = tf.keras.models.Sequential([\n",
    "    tf.keras.layers.Input([IMG_SIZE, IMG_SIZE, 3], dtype=tf.float32),\n",
    "    tf.keras.layers.experimental.preprocessing.Resizing(width=64, height=64),\n",
    "    tf.keras.layers.experimental.preprocessing.Rescaling(scale=1./255),\n",
    "    tf.keras.layers.Conv2D(filters=10, kernel_size=3, padding=\"same\", activation=\"relu\"),\n",
    "    tf.keras.layers.MaxPool2D(pool_size=2),\n",
    "    tf.keras.layers.Conv2D(filters=50, kernel_size=3, padding=\"same\", activation=\"relu\"),\n",
    "    tf.keras.layers.MaxPool2D(pool_size=2),\n",
    "    tf.keras.layers.Conv2D(filters=100, kernel_size=3, padding=\"same\", activation=\"relu\"),\n",
    "    tf.keras.layers.MaxPool2D(pool_size=2),\n",
    "    tf.keras.layers.GlobalAveragePooling2D(),\n",
    "    tf.keras.layers.Dropout(rate=0.4),\n",
    "    tf.keras.layers.Dense(50, activation=\"relu\"),\n",
    "    tf.keras.layers.Dense(1, activation=\"sigmoid\")\n",
    "],\n",
    "name=\"cnn\")"
   ]
  },
  {
   "cell_type": "code",
   "execution_count": null,
   "metadata": {
    "ExecuteTime": {
     "end_time": "2020-12-08T09:00:07.575854Z",
     "start_time": "2020-12-08T09:00:07.570092Z"
    },
    "id": "hMfgQ29bfy8n",
    "outputId": "11acc187-e96a-4fbc-fbc7-67e026bc336a"
   },
   "outputs": [],
   "source": [
    "cnn.summary()"
   ]
  },
  {
   "cell_type": "code",
   "execution_count": null,
   "metadata": {
    "ExecuteTime": {
     "end_time": "2020-12-08T09:00:07.589239Z",
     "start_time": "2020-12-08T09:00:07.580341Z"
    },
    "id": "-_pGHMB7fy8n"
   },
   "outputs": [],
   "source": [
    "class MetricsCallback(tf.keras.callbacks.Callback):\n",
    "    \n",
    "    def __init__(self, metrics_name):\n",
    "        super().__init__()\n",
    "        self.loss = []\n",
    "        self.val_loss = []\n",
    "        self.metrics = []\n",
    "        self.val_metrics = []\n",
    "        self.metrics_name = metrics_name\n",
    "\n",
    "    def on_epoch_end(self, epoch, logs=None):\n",
    "        \n",
    "        self.loss.append(logs[\"loss\"])\n",
    "        self.val_loss.append(logs[\"val_loss\"])\n",
    "        self.metrics.append(logs[self.metrics_name])\n",
    "        self.val_metrics.append(logs[f\"val_{self.metrics_name}\"])\n",
    "        \n",
    "        clear_output(wait=True)\n",
    "        \n",
    "        plt.figure(figsize=(12,5))\n",
    "        plt.subplot(121)\n",
    "        plt.plot(self.loss, label=\"loss\")\n",
    "        plt.plot(self.val_loss, label=\"val_loss\")\n",
    "        plt.legend()\n",
    "\n",
    "        plt.subplot(122)\n",
    "        plt.plot(self.metrics, label=self.metrics_name)\n",
    "        plt.plot(self.val_metrics, label=f\"val_{self.metrics_name}\")\n",
    "        plt.legend()\n",
    "        plt.show()"
   ]
  },
  {
   "cell_type": "code",
   "execution_count": null,
   "metadata": {
    "ExecuteTime": {
     "end_time": "2020-12-08T09:01:50.090192Z",
     "start_time": "2020-12-08T09:00:07.592118Z"
    },
    "id": "7vUZeG1Kfy8n",
    "outputId": "c80d92cf-1faa-44f6-9309-6561a27d4c96"
   },
   "outputs": [],
   "source": [
    "cnn.compile(\n",
    "    optimizer=tf.keras.optimizers.Adam(),\n",
    "    loss=tf.keras.losses.BinaryCrossentropy(),\n",
    "    metrics=tf.keras.metrics.AUC(name='auc')\n",
    ")\n",
    "\n",
    "history = cnn.fit(\n",
    "    train_ds, validation_data=val_ds, epochs=100,\n",
    "    callbacks=[\n",
    "        tf.keras.callbacks.EarlyStopping(patience=20),\n",
    "        tf.keras.callbacks.ReduceLROnPlateau(),\n",
    "        MetricsCallback(metrics_name=\"auc\")\n",
    "    ]\n",
    ")"
   ]
  },
  {
   "cell_type": "code",
   "execution_count": null,
   "metadata": {
    "ExecuteTime": {
     "end_time": "2020-12-08T09:01:50.117159Z",
     "start_time": "2020-12-08T09:01:50.094016Z"
    },
    "id": "8JiBMqDUfy8n"
   },
   "outputs": [],
   "source": [
    "augmentation = tf.keras.models.Sequential(\n",
    "    [\n",
    "        tf.keras.layers.experimental.preprocessing.RandomRotation(factor=0.3),\n",
    "        tf.keras.layers.experimental.preprocessing.RandomTranslation(height_factor=0.1, width_factor=0.1)\n",
    "    ],\n",
    "    name=\"augmentation\"\n",
    ")"
   ]
  },
  {
   "cell_type": "code",
   "execution_count": null,
   "metadata": {
    "ExecuteTime": {
     "end_time": "2020-12-08T09:18:31.857560Z",
     "start_time": "2020-12-08T09:18:30.813160Z"
    }
   },
   "outputs": [],
   "source": [
    "plt.figure(figsize=(9,9))\n",
    "for image, label in train_ds.unbatch().take(1):\n",
    "    for i in range(9):\n",
    "        ax = plt.subplot(3, 3, i + 1)\n",
    "        image_tensor = tf.expand_dims(image, axis=0)\n",
    "        augmented_tensor = augmentation(image_tensor)\n",
    "        plt.imshow(augmented_tensor[0].numpy().astype(\"uint8\"))\n",
    "        plt.axis(\"off\")"
   ]
  },
  {
   "cell_type": "code",
   "execution_count": null,
   "metadata": {
    "ExecuteTime": {
     "end_time": "2020-12-08T09:01:50.348153Z",
     "start_time": "2020-12-08T09:01:50.118695Z"
    },
    "id": "W5SV-ilFfy8n"
   },
   "outputs": [],
   "source": [
    "aug_cnn = tf.keras.models.Sequential([\n",
    "    tf.keras.layers.Input([224, 224, 3], dtype=tf.float32),\n",
    "    tf.keras.layers.experimental.preprocessing.Resizing(width=64, height=64),\n",
    "    tf.keras.layers.experimental.preprocessing.Rescaling(scale=1./255),\n",
    "    augmentation,\n",
    "    tf.keras.layers.Conv2D(filters=10, kernel_size=3, padding=\"same\", activation=\"relu\"),\n",
    "    tf.keras.layers.MaxPool2D(pool_size=2),\n",
    "    tf.keras.layers.Conv2D(filters=50, kernel_size=3, padding=\"same\", activation=\"relu\"),\n",
    "    tf.keras.layers.MaxPool2D(pool_size=2),\n",
    "    tf.keras.layers.Conv2D(filters=100, kernel_size=3, padding=\"same\", activation=\"relu\"),\n",
    "    tf.keras.layers.MaxPool2D(pool_size=2),\n",
    "    tf.keras.layers.GlobalAveragePooling2D(),\n",
    "    tf.keras.layers.Dropout(rate=0.4),\n",
    "    tf.keras.layers.Dense(50, activation=\"relu\"),\n",
    "    tf.keras.layers.Dense(1, activation=\"sigmoid\")\n",
    "],\n",
    "name=\"aug_cnn\")"
   ]
  },
  {
   "cell_type": "code",
   "execution_count": null,
   "metadata": {
    "ExecuteTime": {
     "end_time": "2020-12-08T09:01:50.355066Z",
     "start_time": "2020-12-08T09:01:50.350257Z"
    },
    "id": "V-614Phzfy8n",
    "outputId": "213c94e4-fea8-4398-9118-446b7d15858c"
   },
   "outputs": [],
   "source": [
    "aug_cnn.summary()"
   ]
  },
  {
   "cell_type": "code",
   "execution_count": null,
   "metadata": {
    "ExecuteTime": {
     "end_time": "2020-12-08T09:04:06.692235Z",
     "start_time": "2020-12-08T09:01:50.357173Z"
    },
    "id": "ixi_IYPAfy8n",
    "outputId": "eabf8d6e-4767-4bfc-f3fb-8d28b44d497c"
   },
   "outputs": [],
   "source": [
    "aug_cnn.compile(\n",
    "    optimizer=tf.keras.optimizers.Adam(),\n",
    "    loss=tf.keras.losses.BinaryCrossentropy(),\n",
    "    metrics=tf.keras.metrics.AUC(name='auc')\n",
    ")\n",
    "\n",
    "history_aug = aug_cnn.fit(\n",
    "    train_ds, validation_data=val_ds, epochs=100,\n",
    "    callbacks=[\n",
    "        tf.keras.callbacks.EarlyStopping(patience=10),\n",
    "        tf.keras.callbacks.ReduceLROnPlateau(),\n",
    "        MetricsCallback(metrics_name=\"auc\")\n",
    "    ]\n",
    ")"
   ]
  },
  {
   "cell_type": "markdown",
   "metadata": {
    "ExecuteTime": {
     "end_time": "2020-12-06T08:13:06.055420Z",
     "start_time": "2020-12-06T08:13:05.751799Z"
    },
    "id": "2bDtrpg7fy8n"
   },
   "source": [
    "## Feature Extraction"
   ]
  },
  {
   "cell_type": "code",
   "execution_count": null,
   "metadata": {
    "ExecuteTime": {
     "end_time": "2020-12-08T09:04:08.721957Z",
     "start_time": "2020-12-08T09:04:06.699021Z"
    },
    "id": "hu6973w-fy8n"
   },
   "outputs": [],
   "source": [
    "backbone = tf.keras.applications.ResNet50(include_top=False, weights='imagenet')"
   ]
  },
  {
   "cell_type": "code",
   "execution_count": null,
   "metadata": {
    "ExecuteTime": {
     "end_time": "2020-12-08T09:04:08.737169Z",
     "start_time": "2020-12-08T09:04:08.724985Z"
    },
    "id": "wkyZ4TnLfy8n",
    "outputId": "93d02f70-3c44-4475-e7bc-4e8840ff94ca"
   },
   "outputs": [],
   "source": [
    "backbone.layers"
   ]
  },
  {
   "cell_type": "code",
   "execution_count": null,
   "metadata": {
    "ExecuteTime": {
     "end_time": "2020-12-08T09:04:46.995219Z",
     "start_time": "2020-12-08T09:04:08.739014Z"
    },
    "id": "0bwJHWdcfy8o"
   },
   "outputs": [],
   "source": [
    "for image, _ in train_ds:\n",
    "    outputs = backbone(images)"
   ]
  },
  {
   "cell_type": "code",
   "execution_count": null,
   "metadata": {
    "ExecuteTime": {
     "end_time": "2020-12-08T09:04:47.075097Z",
     "start_time": "2020-12-08T09:04:47.020137Z"
    },
    "id": "13etJLsPfy8o",
    "outputId": "2fa85386-b4a0-4d35-d807-fffdbc997f79"
   },
   "outputs": [],
   "source": [
    "outputs"
   ]
  },
  {
   "cell_type": "code",
   "execution_count": null,
   "metadata": {
    "ExecuteTime": {
     "end_time": "2020-12-08T09:04:47.084171Z",
     "start_time": "2020-12-08T09:04:47.078202Z"
    },
    "id": "wl9fuUKSfy8o",
    "outputId": "990c342e-1729-4aed-e3fc-7ea166a4744d"
   },
   "outputs": [],
   "source": [
    "backbone.trainable"
   ]
  },
  {
   "cell_type": "code",
   "execution_count": null,
   "metadata": {
    "ExecuteTime": {
     "end_time": "2020-12-08T09:04:47.136556Z",
     "start_time": "2020-12-08T09:04:47.087351Z"
    },
    "id": "N_e1Nee5fy8o"
   },
   "outputs": [],
   "source": [
    "backbone.trainable = False"
   ]
  },
  {
   "cell_type": "code",
   "execution_count": null,
   "metadata": {
    "ExecuteTime": {
     "end_time": "2020-12-08T09:04:47.752288Z",
     "start_time": "2020-12-08T09:04:47.140693Z"
    },
    "id": "iVEHRPCIfy8o"
   },
   "outputs": [],
   "source": [
    "i = tf.keras.layers.Input([224, 224, 3], dtype=tf.float32)\n",
    "x = tf.keras.applications.resnet50.preprocess_input(i)\n",
    "x = backbone(x)\n",
    "x = tf.keras.layers.GlobalAveragePooling2D()(x)\n",
    "x = tf.keras.layers.Dropout(0.4)(x)\n",
    "x = tf.keras.layers.Dense(units=1, activation=\"sigmoid\")(x)\n",
    "model = tf.keras.Model(inputs=[i], outputs=[x])"
   ]
  },
  {
   "cell_type": "code",
   "execution_count": null,
   "metadata": {
    "ExecuteTime": {
     "end_time": "2020-12-08T09:10:34.356348Z",
     "start_time": "2020-12-08T09:05:33.402994Z"
    },
    "id": "CIR9DTWhfy8o",
    "outputId": "0b299c5e-5656-4d50-bbb7-f491b57148e0"
   },
   "outputs": [],
   "source": [
    "model.compile(\n",
    "    optimizer=tf.keras.optimizers.Adam(),\n",
    "    loss=tf.keras.losses.BinaryCrossentropy(),\n",
    "    metrics=tf.keras.metrics.AUC(name='auc')\n",
    ")\n",
    "\n",
    "history_fe = model.fit(\n",
    "    train_ds, validation_data=val_ds, epochs=10,\n",
    "    callbacks=[\n",
    "        tf.keras.callbacks.ReduceLROnPlateau(),\n",
    "        MetricsCallback(metrics_name=\"auc\")\n",
    "    ]\n",
    ")"
   ]
  },
  {
   "cell_type": "markdown",
   "metadata": {
    "id": "YRVruMCxfy8o"
   },
   "source": [
    "## Error Analysis"
   ]
  },
  {
   "cell_type": "code",
   "execution_count": null,
   "metadata": {
    "ExecuteTime": {
     "end_time": "2020-12-08T09:11:19.516668Z",
     "start_time": "2020-12-08T09:10:34.368213Z"
    },
    "id": "S0epwcmcfy8o"
   },
   "outputs": [],
   "source": [
    "predictions = []\n",
    "targets = []\n",
    "images = []\n",
    "\n",
    "for image, target in test_ds:\n",
    "    images.append(image.numpy())\n",
    "    predictions.append(model(image).numpy())\n",
    "    targets.append(target.numpy())"
   ]
  },
  {
   "cell_type": "code",
   "execution_count": null,
   "metadata": {
    "ExecuteTime": {
     "end_time": "2020-12-08T09:16:02.122957Z",
     "start_time": "2020-12-08T09:16:00.634554Z"
    },
    "id": "JNbchP6vfy8o"
   },
   "outputs": [],
   "source": [
    "images = np.concatenate(images)\n",
    "targets = np.concatenate(targets)\n",
    "predictions = np.concatenate(predictions).reshape(-1)"
   ]
  },
  {
   "cell_type": "code",
   "execution_count": null,
   "metadata": {
    "ExecuteTime": {
     "end_time": "2020-12-08T09:16:19.792463Z",
     "start_time": "2020-12-08T09:16:19.730209Z"
    },
    "id": "scGw1vXLfy8o",
    "outputId": "f40dfb72-d415-4a39-c1b2-d1cde7a91064"
   },
   "outputs": [],
   "source": [
    "roc_auc_score(\n",
    "    y_true=targets,\n",
    "    y_score=predictions\n",
    ")"
   ]
  },
  {
   "cell_type": "code",
   "execution_count": null,
   "metadata": {
    "ExecuteTime": {
     "end_time": "2020-12-08T09:16:22.030573Z",
     "start_time": "2020-12-08T09:16:22.023500Z"
    },
    "id": "LtG37Ghofy8o"
   },
   "outputs": [],
   "source": [
    "top_k = 10\n",
    "\n",
    "false_positive_ids = ((targets == 0) * predictions).argsort()[::-1][:top_k]\n",
    "\n",
    "positive_ids = np.arange(targets.shape[0])[(targets == 1)]\n",
    "\n",
    "false_negative_ids = positive_ids[predictions[(targets == 1)].argsort()[:top_k]]"
   ]
  },
  {
   "cell_type": "code",
   "execution_count": null,
   "metadata": {
    "ExecuteTime": {
     "end_time": "2020-12-08T09:16:24.338378Z",
     "start_time": "2020-12-08T09:16:22.461043Z"
    },
    "id": "I7e1qBDffy8o",
    "outputId": "ab8d96b7-15a8-45ba-d495-9e65ea67f69e"
   },
   "outputs": [],
   "source": [
    "for id_ in false_positive_ids:\n",
    "    plt.title(f\"not_hot_dog, score: {predictions[id_]:.2f}\")\n",
    "    plt.imshow(images[id_].astype(\"uint8\"))\n",
    "    plt.axis(\"off\")\n",
    "    plt.show()"
   ]
  },
  {
   "cell_type": "code",
   "execution_count": null,
   "metadata": {
    "ExecuteTime": {
     "end_time": "2020-12-08T09:16:31.970524Z",
     "start_time": "2020-12-08T09:16:31.059168Z"
    },
    "id": "DutO9Ggxfy8o",
    "outputId": "fc2efecb-5d13-4feb-c0e7-122dd3b52414"
   },
   "outputs": [],
   "source": [
    "for id_ in false_negative_ids:\n",
    "    plt.title(f\"hot_dog, score: {predictions[id_]:.2f}\")\n",
    "    plt.imshow(images[id_].astype(\"uint8\"))\n",
    "    plt.axis(\"off\")\n",
    "    plt.show()"
   ]
  },
  {
   "cell_type": "markdown",
   "metadata": {
    "id": "Y2uQ77Ttfy8o"
   },
   "source": [
    "# Dog"
   ]
  },
  {
   "cell_type": "code",
   "execution_count": null,
   "metadata": {
    "ExecuteTime": {
     "end_time": "2020-12-08T09:04:48.509174Z",
     "start_time": "2020-12-08T08:59:59.411Z"
    },
    "colab": {
     "base_uri": "https://localhost:8080/",
     "height": 499,
     "referenced_widgets": [
      "8172c377f029498ca0f206e4735c094d",
      "0ac318d8e22845cb8c5a5fdf86b56857",
      "53b40335e25a489d8cd1fa34fbccc33c",
      "2da777dba1b845caa4266499bdbeff4c",
      "fb8ba560dbe0484389407aa4434b6f7e",
      "0553d98843584754b11fcb0d1f345a53",
      "c1b39fe0902942dcb3ccf9c081f5cdd2",
      "2c398b997e7246dcb37a7ccfbb3e6f37",
      "a7422d8a091c47ca890f3f937a4d5cff",
      "a1fc0f0121e74d88b61b691642a79a9d",
      "5c5950f7dad2465db92a677a0974f3a3",
      "ad76317d13d94319a958c3796047b414",
      "30ade90a3ece4e838c5cab24f5e488df",
      "65812465888d46f2bfcc91bd94875b6b",
      "f8619c3e55e04d7badba8d7d84dc4f66",
      "511e6ae8740c4c0a8c3a10a13d0dbd54",
      "52e5ac6ceb254c6eb320a22d91ea0027",
      "f05d3061a39e49b89b42eb09fd00f935",
      "b90d37bdcc124a15b0bc9dee2ec015c9",
      "7102431c1ae6404d976a684b0d990040",
      "c062296c5a4245d1993bece378cb6f46",
      "044427407bd044008395d0efadbd6dae",
      "98969ab1fc55496596cc78960c0ec529",
      "c3c585a2d88d4b17899296f31e30b4dd",
      "4f69588a746b444298b5bd068eb941e8",
      "24007b8f000a495a8c5cf88e2e274a0d",
      "f2654b3d24804457b83cd122ee12c848",
      "970fcb7a0938451f8a7216b3f79972eb",
      "d4a57068c74043d09e9d828410dc8494",
      "4f79931a982b4928abcaea8a27bd5d4b",
      "ec5c3c63ef734eff921ebde5e95575c7",
      "105df05ff4244c0fb641b287d6c998ef",
      "7070e4315cf74586a4f2e2753a8dfce7",
      "5780e59969534ebba1616872f55cf43c",
      "ad6605b374ca4400a01377827e540a71",
      "2faa90260722439c8d7cf3a94da81683",
      "06fbfbe1debf41e5a64fc055e33d676e",
      "2c88a388e5a54e2fa79c281f741204e4",
      "77026e53a94b4644963ecd2a70e1e0d0",
      "584cb0413be84cd3996c16e5b0aae3ec",
      "412ac6ee8e8b43a7aae4e79d0edff521",
      "3e21c883173c404da06a6c448fd075fd",
      "671f77803b3049deaf3c6e7c5899fac6",
      "366faaa87c9a46fcb8bcf736c54d3c28",
      "b87f470ac6eb46f284ce4414229c89a2",
      "ce7b0939c1f645d5abcf884619ca26bc",
      "0ef3b83dbd994c129b241d70acbafe62",
      "6cd9aca7bb5b4d919b6c029e0f1b3e7a",
      "8dc527f08cba4b3193f43e5f3babc650",
      "d27d179498ef44478c7325a07c31853a",
      "a0cc31ad12bc4281a6b435a7223f2cdc",
      "f280202f5a224240b867a8064453e9fc",
      "e1b0336dde494951a41275df591fc28b",
      "082d62a0d7ea44bc9e8bf5a6f62704cd",
      "25e9806d27d24a37b3388a40e8290dc7",
      "bd958256e6374ddba691fd43f5f83bc8",
      "6945d5065a054b428d09ff75782fe1fa",
      "58f710058ec542fc9c0711ab92bb7e2e",
      "0532807b478b434fb13127862c4eb5e0",
      "426118c2a06d4fef8bbea8be228b9c99",
      "7801c974e6604012b794b1afd1709533",
      "aedb9447536a49eaa0e0b2671ca8dcd7",
      "8f92173af9614cf8927ffc899a66fa11",
      "64cfa6fa224943fa853906a9beb6cabc",
      "a0349a4ce6254dd8bd6b30d3e83a2dfd",
      "f4a1a4a8325a406f84e9cd1e587007ea",
      "a94c30034c694f749a1340419d31fb70",
      "3f302a4efd3248f290ca5c2f76e075e0",
      "5ad7f36c4fa148388c5f153b3ab28dd2",
      "8f8989b2c0274bb2a36f9c344044b60d",
      "26aae3d4ac6a42afba73b3bfe8e9c5e3",
      "b79cb9624b3d4b3db7c71c098a3ef61e"
     ]
    },
    "id": "wU-Q0SLlfy8o",
    "outputId": "359c33aa-a891-43bb-946e-50d22160e77a"
   },
   "outputs": [],
   "source": [
    "IMG_SIZE = 224\n",
    "batch_size = 64\n",
    "\n",
    "(ds_train, ds_test), ds_info = tfds.load(\n",
    "    name=\"stanford_dogs\", split=[\"train\", \"test\"], with_info=True, as_supervised=True\n",
    ")\n",
    "NUM_CLASSES = ds_info.features[\"label\"].num_classes"
   ]
  },
  {
   "cell_type": "code",
   "execution_count": null,
   "metadata": {
    "ExecuteTime": {
     "end_time": "2020-12-08T09:04:48.510606Z",
     "start_time": "2020-12-08T08:59:59.416Z"
    },
    "id": "n6rLLvaqfy8o"
   },
   "outputs": [],
   "source": [
    "ds_train = ds_train.map(\n",
    "    lambda image, label: (tf.image.resize(image, [IMG_SIZE, IMG_SIZE]), label)\n",
    ")\n",
    "ds_test = ds_test.map(\n",
    "    lambda image, label: (tf.image.resize(image, [IMG_SIZE, IMG_SIZE]), label)\n",
    ")"
   ]
  },
  {
   "cell_type": "code",
   "execution_count": null,
   "metadata": {
    "ExecuteTime": {
     "end_time": "2020-12-08T09:04:48.511892Z",
     "start_time": "2020-12-08T08:59:59.422Z"
    },
    "colab": {
     "base_uri": "https://localhost:8080/",
     "height": 537
    },
    "id": "ZBeR4u5cfy8o",
    "outputId": "adc8f301-8738-4f45-995a-16093caea525"
   },
   "outputs": [],
   "source": [
    "N_ROWS = 3\n",
    "N_COLS = 3\n",
    "\n",
    "\n",
    "def format_label(label):\n",
    "    string_label = ds_info.features[\"label\"].int2str(label)\n",
    "    return string_label.split(\"-\")[1]\n",
    "\n",
    "plt.figure(figsize=(9,9))\n",
    "\n",
    "for i, (image, label) in enumerate(ds_train.take(N_ROWS * N_COLS)):\n",
    "    ax = plt.subplot(N_ROWS, N_COLS, i + 1)\n",
    "    plt.imshow(image.numpy().astype(\"uint8\"))\n",
    "    plt.title(\"{}\".format(format_label(label)))\n",
    "    plt.axis(\"off\")"
   ]
  },
  {
   "cell_type": "code",
   "execution_count": null,
   "metadata": {
    "ExecuteTime": {
     "end_time": "2020-12-08T09:04:48.513388Z",
     "start_time": "2020-12-08T08:59:59.428Z"
    },
    "id": "Y3MLczILfy8o"
   },
   "outputs": [],
   "source": [
    "augmentation = tf.keras.models.Sequential([\n",
    "        tf.keras.layers.experimental.preprocessing.RandomRotation(factor=0.25),\n",
    "        tf.keras.layers.experimental.preprocessing.RandomFlip(),\n",
    "        tf.keras.layers.experimental.preprocessing.RandomContrast(factor=0.25),\n",
    "        tf.keras.layers.Lambda(lambda x: tf.clip_by_value(x, 0, 255))\n",
    "    ],\n",
    "    name=\"augmentation\"\n",
    ")"
   ]
  },
  {
   "cell_type": "code",
   "execution_count": null,
   "metadata": {
    "ExecuteTime": {
     "end_time": "2020-12-08T09:04:48.514950Z",
     "start_time": "2020-12-08T08:59:59.433Z"
    },
    "colab": {
     "base_uri": "https://localhost:8080/",
     "height": 520
    },
    "id": "eCAupRArfy8o",
    "outputId": "925372cd-4815-4d30-ec63-60cb8bf1b454"
   },
   "outputs": [],
   "source": [
    "plt.figure(figsize=(9,9))\n",
    "for image, label in ds_train.take(1):\n",
    "    for i in range(9):\n",
    "        ax = plt.subplot(3, 3, i + 1)\n",
    "        image_tensor = tf.expand_dims(image, axis=0)\n",
    "        augmented_tensor = augmentation(image_tensor)\n",
    "        plt.imshow(augmented_tensor[0].numpy().astype(\"uint8\"))\n",
    "        plt.axis(\"off\")"
   ]
  },
  {
   "cell_type": "code",
   "execution_count": null,
   "metadata": {
    "ExecuteTime": {
     "end_time": "2020-12-08T09:04:48.517592Z",
     "start_time": "2020-12-08T08:59:59.440Z"
    },
    "id": "cU4g6VDQfy8o"
   },
   "outputs": [],
   "source": [
    "ds = ds_train.shuffle(buffer_size=10_000)\n",
    "\n",
    "ds_train = ds.skip(2_000).batch(batch_size)\n",
    "\n",
    "ds_val = ds.take(2_000).batch(batch_size)"
   ]
  },
  {
   "cell_type": "markdown",
   "metadata": {
    "id": "DEnTr_fjfy8o"
   },
   "source": [
    "## Feature Extraction"
   ]
  },
  {
   "cell_type": "code",
   "execution_count": null,
   "metadata": {
    "ExecuteTime": {
     "end_time": "2020-12-08T09:04:48.520137Z",
     "start_time": "2020-12-08T08:59:59.446Z"
    },
    "colab": {
     "base_uri": "https://localhost:8080/"
    },
    "id": "gJo6cwOdfy8o",
    "outputId": "1688987e-d75f-4f7e-a295-659397d1f023"
   },
   "outputs": [],
   "source": [
    "backbone = tf.keras.applications.ResNet50(include_top=False)\n",
    "backbone.trainable = False"
   ]
  },
  {
   "cell_type": "code",
   "execution_count": null,
   "metadata": {
    "ExecuteTime": {
     "end_time": "2020-12-08T09:04:48.521725Z",
     "start_time": "2020-12-08T08:59:59.452Z"
    },
    "id": "2Yz_mNnhfy8o"
   },
   "outputs": [],
   "source": [
    "i = tf.keras.layers.Input(shape=(IMG_SIZE, IMG_SIZE, 3))\n",
    "x = augmentation(i)\n",
    "x = backbone(x)\n",
    "x = tf.keras.layers.GlobalAveragePooling2D()(x)\n",
    "x = tf.keras.layers.Dropout(0.2)(x)\n",
    "x = tf.keras.layers.Dense(NUM_CLASSES, activation=\"softmax\")(x)\n",
    "\n",
    "model = tf.keras.Model(inputs=[i], outputs=[x])    "
   ]
  },
  {
   "cell_type": "code",
   "execution_count": null,
   "metadata": {
    "ExecuteTime": {
     "end_time": "2020-12-08T09:04:48.523363Z",
     "start_time": "2020-12-08T08:59:59.457Z"
    },
    "colab": {
     "base_uri": "https://localhost:8080/"
    },
    "id": "Rvu5X_oOfy8o",
    "outputId": "578b788f-5d9b-455a-99aa-e89c402ba0ad"
   },
   "outputs": [],
   "source": [
    "model.summary()"
   ]
  },
  {
   "cell_type": "code",
   "execution_count": null,
   "metadata": {
    "ExecuteTime": {
     "end_time": "2020-12-08T09:04:48.525132Z",
     "start_time": "2020-12-08T08:59:59.464Z"
    },
    "id": "uJCV3yjVfy8o"
   },
   "outputs": [],
   "source": [
    "model.compile(\n",
    "    optimizer=\"adam\", \n",
    "    loss=\"sparse_categorical_crossentropy\",\n",
    "    metrics=\"accuracy\"\n",
    ")"
   ]
  },
  {
   "cell_type": "code",
   "execution_count": null,
   "metadata": {
    "ExecuteTime": {
     "end_time": "2020-12-08T09:04:48.526954Z",
     "start_time": "2020-12-08T08:59:59.469Z"
    },
    "colab": {
     "base_uri": "https://localhost:8080/",
     "height": 337
    },
    "id": "mRI0463mfy8o",
    "outputId": "bd8f7657-83b4-40c2-dde9-80124f9bf0a3"
   },
   "outputs": [],
   "source": [
    "fe_history = model.fit(\n",
    "    ds_train, validation_data=ds_val, epochs=10, \n",
    "    callbacks=[MetricsCallback(metrics_name=\"accuracy\")]\n",
    ")"
   ]
  },
  {
   "cell_type": "markdown",
   "metadata": {
    "id": "g4Gvk0MoSput"
   },
   "source": [
    "## Fine Tuning"
   ]
  },
  {
   "cell_type": "code",
   "execution_count": null,
   "metadata": {
    "ExecuteTime": {
     "end_time": "2020-12-08T09:04:48.529010Z",
     "start_time": "2020-12-08T08:59:59.474Z"
    },
    "id": "ymzJLEQ1fy8o"
   },
   "outputs": [],
   "source": [
    "for layer in backbone.layers[-20:]:\n",
    "    if not isinstance(layer, tf.keras.layers.BatchNormalization):\n",
    "        layer.trainable = True"
   ]
  },
  {
   "cell_type": "code",
   "execution_count": null,
   "metadata": {
    "ExecuteTime": {
     "end_time": "2020-12-08T09:04:48.530998Z",
     "start_time": "2020-12-08T08:59:59.480Z"
    },
    "id": "6nZkalOMfy8o"
   },
   "outputs": [],
   "source": [
    "model.compile(\n",
    "    optimizer=tf.keras.optimizers.Adam(learning_rate=4e-5), \n",
    "    loss=\"sparse_categorical_crossentropy\",\n",
    "    metrics=\"accuracy\"\n",
    ")"
   ]
  },
  {
   "cell_type": "code",
   "execution_count": null,
   "metadata": {
    "ExecuteTime": {
     "end_time": "2020-12-08T09:04:48.532985Z",
     "start_time": "2020-12-08T08:59:59.485Z"
    },
    "colab": {
     "base_uri": "https://localhost:8080/",
     "height": 337
    },
    "id": "JIxVyvh-fy8p",
    "outputId": "00165997-7dff-4bec-d7fe-16d2bb34191f"
   },
   "outputs": [],
   "source": [
    "ft_history = model.fit(\n",
    "    ds_train, validation_data=ds_val, epochs=10, \n",
    "    callbacks=[MetricsCallback(metrics_name=\"accuracy\")]\n",
    ")"
   ]
  },
  {
   "cell_type": "code",
   "execution_count": null,
   "metadata": {
    "ExecuteTime": {
     "end_time": "2020-12-08T09:04:48.535518Z",
     "start_time": "2020-12-08T08:59:59.491Z"
    },
    "colab": {
     "base_uri": "https://localhost:8080/",
     "height": 320
    },
    "id": "LHSch18bqPX9",
    "outputId": "d71296a8-9e7f-4f13-f02b-c399f710bdb6"
   },
   "outputs": [],
   "source": [
    "plt.figure(figsize=(12,5))\n",
    "\n",
    "plt.subplot(121)\n",
    "plt.plot(range(1, 11), fe_history.history[\"val_accuracy\"]) \n",
    "plt.plot(range(11, 21), ft_history.history[\"val_accuracy\"])\n",
    "\n",
    "plt.subplot(122)\n",
    "plt.plot(range(1, 11), fe_history.history[\"val_loss\"]) \n",
    "plt.plot(range(11, 21), ft_history.history[\"val_loss\"])\n",
    "plt.show();"
   ]
  },
  {
   "cell_type": "markdown",
   "metadata": {},
   "source": [
    "## Evaluation"
   ]
  },
  {
   "cell_type": "code",
   "execution_count": null,
   "metadata": {
    "ExecuteTime": {
     "end_time": "2020-12-08T09:04:48.537265Z",
     "start_time": "2020-12-08T08:59:59.497Z"
    },
    "colab": {
     "base_uri": "https://localhost:8080/",
     "height": 1000
    },
    "id": "hhlovGYHqPmv",
    "outputId": "0bfe6efd-31b1-4336-ce21-168366775261"
   },
   "outputs": [],
   "source": [
    "N_ROWS = 4\n",
    "N_COLS = 4\n",
    "\n",
    "for images, labels in ds_test.batch(N_ROWS * N_COLS).take(1):\n",
    "\n",
    "    predicted_labels = tf.argmax(model(images), axis=1)\n",
    "  \n",
    "    plt.figure(figsize=(20,20))\n",
    "    for i, (label, predicted_label) in enumerate(zip(labels, predicted_labels)):\n",
    "        ax = plt.subplot(N_ROWS, N_COLS, i + 1)\n",
    "        plt.imshow(images[i].numpy().astype(\"uint8\"))\n",
    "        plt.title(f\"predicted: {format_label(predicted_label)}\\n label: {format_label(label)}\")\n",
    "        plt.axis(\"off\")\n",
    "    plt.show()"
   ]
  },
  {
   "cell_type": "code",
   "execution_count": null,
   "metadata": {
    "ExecuteTime": {
     "end_time": "2020-12-08T09:04:48.539744Z",
     "start_time": "2020-12-08T08:59:59.504Z"
    },
    "id": "CXuykbNHqPq_"
   },
   "outputs": [],
   "source": [
    "conf_matrix = np.zeros((NUM_CLASSES, NUM_CLASSES))\n",
    "\n",
    "for images, labels in ds_test.batch(128):\n",
    "    predicted_labels = tf.argmax(model(images), axis=1)\n",
    "\n",
    "    for label, predicted_label in zip(labels, predicted_labels):\n",
    "        conf_matrix[predicted_label, label] += 1"
   ]
  },
  {
   "cell_type": "code",
   "execution_count": null,
   "metadata": {
    "ExecuteTime": {
     "end_time": "2020-12-08T09:04:48.541659Z",
     "start_time": "2020-12-08T08:59:59.510Z"
    },
    "colab": {
     "base_uri": "https://localhost:8080/",
     "height": 711
    },
    "id": "mc8DVDTgqPvU",
    "outputId": "016482cf-ca56-43b5-ad95-13f2863eb763"
   },
   "outputs": [],
   "source": [
    "plt.figure(figsize=(12,12))\n",
    "sns.heatmap(conf_matrix);"
   ]
  },
  {
   "cell_type": "code",
   "execution_count": null,
   "metadata": {
    "ExecuteTime": {
     "end_time": "2020-12-08T09:04:48.544131Z",
     "start_time": "2020-12-08T08:59:59.517Z"
    },
    "id": "aT_79_RoeRrt"
   },
   "outputs": [],
   "source": [
    "true_label = []\n",
    "predicted_label = []\n",
    "count = []\n",
    "\n",
    "for i in range(NUM_CLASSES):\n",
    "    for j in range(NUM_CLASSES):\n",
    "        if i != j and conf_matrix[i,j] > 0:\n",
    "            predicted_label.append(format_label(i))\n",
    "            true_label.append(format_label(j))\n",
    "            count.append(conf_matrix[i,j])"
   ]
  },
  {
   "cell_type": "code",
   "execution_count": null,
   "metadata": {
    "ExecuteTime": {
     "end_time": "2020-12-08T09:04:48.546205Z",
     "start_time": "2020-12-08T08:59:59.524Z"
    },
    "colab": {
     "base_uri": "https://localhost:8080/",
     "height": 359
    },
    "id": "vW-cOedIcfTj",
    "outputId": "3c635374-b62c-4934-df19-d2c8aaeae84d"
   },
   "outputs": [],
   "source": [
    "(\n",
    "    pd.DataFrame({\"label\": true_label, \"predicted\": predicted_label, \"count\": count})\n",
    "    .sort_values(\"count\", ascending=False)\n",
    "    .head(10)\n",
    ")"
   ]
  },
  {
   "cell_type": "code",
   "execution_count": null,
   "metadata": {
    "id": "9PSE6sZ2dLxm"
   },
   "outputs": [],
   "source": []
  }
 ],
 "metadata": {
  "accelerator": "GPU",
  "colab": {
   "name": "transfer_learning.ipynb",
   "provenance": []
  },
  "kernelspec": {
   "display_name": "Python 3",
   "language": "python",
   "name": "python3"
  },
  "language_info": {
   "codemirror_mode": {
    "name": "ipython",
    "version": 3
   },
   "file_extension": ".py",
   "mimetype": "text/x-python",
   "name": "python",
   "nbconvert_exporter": "python",
   "pygments_lexer": "ipython3",
   "version": "3.6.8"
  },
  "toc": {
   "base_numbering": 1,
   "nav_menu": {},
   "number_sections": true,
   "sideBar": true,
   "skip_h1_title": false,
   "title_cell": "Table of Contents",
   "title_sidebar": "Contents",
   "toc_cell": true,
   "toc_position": {},
   "toc_section_display": true,
   "toc_window_display": false
  },
  "widgets": {
   "application/vnd.jupyter.widget-state+json": {
    "044427407bd044008395d0efadbd6dae": {
     "model_module": "@jupyter-widgets/base",
     "model_name": "LayoutModel",
     "state": {
      "_model_module": "@jupyter-widgets/base",
      "_model_module_version": "1.2.0",
      "_model_name": "LayoutModel",
      "_view_count": null,
      "_view_module": "@jupyter-widgets/base",
      "_view_module_version": "1.2.0",
      "_view_name": "LayoutView",
      "align_content": null,
      "align_items": null,
      "align_self": null,
      "border": null,
      "bottom": null,
      "display": null,
      "flex": null,
      "flex_flow": null,
      "grid_area": null,
      "grid_auto_columns": null,
      "grid_auto_flow": null,
      "grid_auto_rows": null,
      "grid_column": null,
      "grid_gap": null,
      "grid_row": null,
      "grid_template_areas": null,
      "grid_template_columns": null,
      "grid_template_rows": null,
      "height": null,
      "justify_content": null,
      "justify_items": null,
      "left": null,
      "margin": null,
      "max_height": null,
      "max_width": null,
      "min_height": null,
      "min_width": null,
      "object_fit": null,
      "object_position": null,
      "order": null,
      "overflow": null,
      "overflow_x": null,
      "overflow_y": null,
      "padding": null,
      "right": null,
      "top": null,
      "visibility": null,
      "width": null
     }
    },
    "0532807b478b434fb13127862c4eb5e0": {
     "model_module": "@jupyter-widgets/controls",
     "model_name": "FloatProgressModel",
     "state": {
      "_dom_classes": [],
      "_model_module": "@jupyter-widgets/controls",
      "_model_module_version": "1.5.0",
      "_model_name": "FloatProgressModel",
      "_view_count": null,
      "_view_module": "@jupyter-widgets/controls",
      "_view_module_version": "1.5.0",
      "_view_name": "ProgressView",
      "bar_style": "info",
      "description": "",
      "description_tooltip": null,
      "layout": "IPY_MODEL_aedb9447536a49eaa0e0b2671ca8dcd7",
      "max": 1,
      "min": 0,
      "orientation": "horizontal",
      "style": "IPY_MODEL_7801c974e6604012b794b1afd1709533",
      "value": 1
     }
    },
    "0553d98843584754b11fcb0d1f345a53": {
     "model_module": "@jupyter-widgets/base",
     "model_name": "LayoutModel",
     "state": {
      "_model_module": "@jupyter-widgets/base",
      "_model_module_version": "1.2.0",
      "_model_name": "LayoutModel",
      "_view_count": null,
      "_view_module": "@jupyter-widgets/base",
      "_view_module_version": "1.2.0",
      "_view_name": "LayoutView",
      "align_content": null,
      "align_items": null,
      "align_self": null,
      "border": null,
      "bottom": null,
      "display": null,
      "flex": null,
      "flex_flow": null,
      "grid_area": null,
      "grid_auto_columns": null,
      "grid_auto_flow": null,
      "grid_auto_rows": null,
      "grid_column": null,
      "grid_gap": null,
      "grid_row": null,
      "grid_template_areas": null,
      "grid_template_columns": null,
      "grid_template_rows": null,
      "height": null,
      "justify_content": null,
      "justify_items": null,
      "left": null,
      "margin": null,
      "max_height": null,
      "max_width": null,
      "min_height": null,
      "min_width": null,
      "object_fit": null,
      "object_position": null,
      "order": null,
      "overflow": null,
      "overflow_x": null,
      "overflow_y": null,
      "padding": null,
      "right": null,
      "top": null,
      "visibility": null,
      "width": null
     }
    },
    "06fbfbe1debf41e5a64fc055e33d676e": {
     "model_module": "@jupyter-widgets/controls",
     "model_name": "ProgressStyleModel",
     "state": {
      "_model_module": "@jupyter-widgets/controls",
      "_model_module_version": "1.5.0",
      "_model_name": "ProgressStyleModel",
      "_view_count": null,
      "_view_module": "@jupyter-widgets/base",
      "_view_module_version": "1.2.0",
      "_view_name": "StyleView",
      "bar_color": null,
      "description_width": "initial"
     }
    },
    "082d62a0d7ea44bc9e8bf5a6f62704cd": {
     "model_module": "@jupyter-widgets/base",
     "model_name": "LayoutModel",
     "state": {
      "_model_module": "@jupyter-widgets/base",
      "_model_module_version": "1.2.0",
      "_model_name": "LayoutModel",
      "_view_count": null,
      "_view_module": "@jupyter-widgets/base",
      "_view_module_version": "1.2.0",
      "_view_name": "LayoutView",
      "align_content": null,
      "align_items": null,
      "align_self": null,
      "border": null,
      "bottom": null,
      "display": null,
      "flex": null,
      "flex_flow": null,
      "grid_area": null,
      "grid_auto_columns": null,
      "grid_auto_flow": null,
      "grid_auto_rows": null,
      "grid_column": null,
      "grid_gap": null,
      "grid_row": null,
      "grid_template_areas": null,
      "grid_template_columns": null,
      "grid_template_rows": null,
      "height": null,
      "justify_content": null,
      "justify_items": null,
      "left": null,
      "margin": null,
      "max_height": null,
      "max_width": null,
      "min_height": null,
      "min_width": null,
      "object_fit": null,
      "object_position": null,
      "order": null,
      "overflow": null,
      "overflow_x": null,
      "overflow_y": null,
      "padding": null,
      "right": null,
      "top": null,
      "visibility": null,
      "width": null
     }
    },
    "0ac318d8e22845cb8c5a5fdf86b56857": {
     "model_module": "@jupyter-widgets/base",
     "model_name": "LayoutModel",
     "state": {
      "_model_module": "@jupyter-widgets/base",
      "_model_module_version": "1.2.0",
      "_model_name": "LayoutModel",
      "_view_count": null,
      "_view_module": "@jupyter-widgets/base",
      "_view_module_version": "1.2.0",
      "_view_name": "LayoutView",
      "align_content": null,
      "align_items": null,
      "align_self": null,
      "border": null,
      "bottom": null,
      "display": null,
      "flex": null,
      "flex_flow": null,
      "grid_area": null,
      "grid_auto_columns": null,
      "grid_auto_flow": null,
      "grid_auto_rows": null,
      "grid_column": null,
      "grid_gap": null,
      "grid_row": null,
      "grid_template_areas": null,
      "grid_template_columns": null,
      "grid_template_rows": null,
      "height": null,
      "justify_content": null,
      "justify_items": null,
      "left": null,
      "margin": null,
      "max_height": null,
      "max_width": null,
      "min_height": null,
      "min_width": null,
      "object_fit": null,
      "object_position": null,
      "order": null,
      "overflow": null,
      "overflow_x": null,
      "overflow_y": null,
      "padding": null,
      "right": null,
      "top": null,
      "visibility": null,
      "width": null
     }
    },
    "0ef3b83dbd994c129b241d70acbafe62": {
     "model_module": "@jupyter-widgets/controls",
     "model_name": "DescriptionStyleModel",
     "state": {
      "_model_module": "@jupyter-widgets/controls",
      "_model_module_version": "1.5.0",
      "_model_name": "DescriptionStyleModel",
      "_view_count": null,
      "_view_module": "@jupyter-widgets/base",
      "_view_module_version": "1.2.0",
      "_view_name": "StyleView",
      "description_width": ""
     }
    },
    "105df05ff4244c0fb641b287d6c998ef": {
     "model_module": "@jupyter-widgets/base",
     "model_name": "LayoutModel",
     "state": {
      "_model_module": "@jupyter-widgets/base",
      "_model_module_version": "1.2.0",
      "_model_name": "LayoutModel",
      "_view_count": null,
      "_view_module": "@jupyter-widgets/base",
      "_view_module_version": "1.2.0",
      "_view_name": "LayoutView",
      "align_content": null,
      "align_items": null,
      "align_self": null,
      "border": null,
      "bottom": null,
      "display": null,
      "flex": null,
      "flex_flow": null,
      "grid_area": null,
      "grid_auto_columns": null,
      "grid_auto_flow": null,
      "grid_auto_rows": null,
      "grid_column": null,
      "grid_gap": null,
      "grid_row": null,
      "grid_template_areas": null,
      "grid_template_columns": null,
      "grid_template_rows": null,
      "height": null,
      "justify_content": null,
      "justify_items": null,
      "left": null,
      "margin": null,
      "max_height": null,
      "max_width": null,
      "min_height": null,
      "min_width": null,
      "object_fit": null,
      "object_position": null,
      "order": null,
      "overflow": null,
      "overflow_x": null,
      "overflow_y": null,
      "padding": null,
      "right": null,
      "top": null,
      "visibility": null,
      "width": null
     }
    },
    "24007b8f000a495a8c5cf88e2e274a0d": {
     "model_module": "@jupyter-widgets/base",
     "model_name": "LayoutModel",
     "state": {
      "_model_module": "@jupyter-widgets/base",
      "_model_module_version": "1.2.0",
      "_model_name": "LayoutModel",
      "_view_count": null,
      "_view_module": "@jupyter-widgets/base",
      "_view_module_version": "1.2.0",
      "_view_name": "LayoutView",
      "align_content": null,
      "align_items": null,
      "align_self": null,
      "border": null,
      "bottom": null,
      "display": null,
      "flex": null,
      "flex_flow": null,
      "grid_area": null,
      "grid_auto_columns": null,
      "grid_auto_flow": null,
      "grid_auto_rows": null,
      "grid_column": null,
      "grid_gap": null,
      "grid_row": null,
      "grid_template_areas": null,
      "grid_template_columns": null,
      "grid_template_rows": null,
      "height": null,
      "justify_content": null,
      "justify_items": null,
      "left": null,
      "margin": null,
      "max_height": null,
      "max_width": null,
      "min_height": null,
      "min_width": null,
      "object_fit": null,
      "object_position": null,
      "order": null,
      "overflow": null,
      "overflow_x": null,
      "overflow_y": null,
      "padding": null,
      "right": null,
      "top": null,
      "visibility": null,
      "width": null
     }
    },
    "25e9806d27d24a37b3388a40e8290dc7": {
     "model_module": "@jupyter-widgets/controls",
     "model_name": "DescriptionStyleModel",
     "state": {
      "_model_module": "@jupyter-widgets/controls",
      "_model_module_version": "1.5.0",
      "_model_name": "DescriptionStyleModel",
      "_view_count": null,
      "_view_module": "@jupyter-widgets/base",
      "_view_module_version": "1.2.0",
      "_view_name": "StyleView",
      "description_width": ""
     }
    },
    "26aae3d4ac6a42afba73b3bfe8e9c5e3": {
     "model_module": "@jupyter-widgets/controls",
     "model_name": "DescriptionStyleModel",
     "state": {
      "_model_module": "@jupyter-widgets/controls",
      "_model_module_version": "1.5.0",
      "_model_name": "DescriptionStyleModel",
      "_view_count": null,
      "_view_module": "@jupyter-widgets/base",
      "_view_module_version": "1.2.0",
      "_view_name": "StyleView",
      "description_width": ""
     }
    },
    "2c398b997e7246dcb37a7ccfbb3e6f37": {
     "model_module": "@jupyter-widgets/base",
     "model_name": "LayoutModel",
     "state": {
      "_model_module": "@jupyter-widgets/base",
      "_model_module_version": "1.2.0",
      "_model_name": "LayoutModel",
      "_view_count": null,
      "_view_module": "@jupyter-widgets/base",
      "_view_module_version": "1.2.0",
      "_view_name": "LayoutView",
      "align_content": null,
      "align_items": null,
      "align_self": null,
      "border": null,
      "bottom": null,
      "display": null,
      "flex": null,
      "flex_flow": null,
      "grid_area": null,
      "grid_auto_columns": null,
      "grid_auto_flow": null,
      "grid_auto_rows": null,
      "grid_column": null,
      "grid_gap": null,
      "grid_row": null,
      "grid_template_areas": null,
      "grid_template_columns": null,
      "grid_template_rows": null,
      "height": null,
      "justify_content": null,
      "justify_items": null,
      "left": null,
      "margin": null,
      "max_height": null,
      "max_width": null,
      "min_height": null,
      "min_width": null,
      "object_fit": null,
      "object_position": null,
      "order": null,
      "overflow": null,
      "overflow_x": null,
      "overflow_y": null,
      "padding": null,
      "right": null,
      "top": null,
      "visibility": null,
      "width": null
     }
    },
    "2c88a388e5a54e2fa79c281f741204e4": {
     "model_module": "@jupyter-widgets/base",
     "model_name": "LayoutModel",
     "state": {
      "_model_module": "@jupyter-widgets/base",
      "_model_module_version": "1.2.0",
      "_model_name": "LayoutModel",
      "_view_count": null,
      "_view_module": "@jupyter-widgets/base",
      "_view_module_version": "1.2.0",
      "_view_name": "LayoutView",
      "align_content": null,
      "align_items": null,
      "align_self": null,
      "border": null,
      "bottom": null,
      "display": null,
      "flex": null,
      "flex_flow": null,
      "grid_area": null,
      "grid_auto_columns": null,
      "grid_auto_flow": null,
      "grid_auto_rows": null,
      "grid_column": null,
      "grid_gap": null,
      "grid_row": null,
      "grid_template_areas": null,
      "grid_template_columns": null,
      "grid_template_rows": null,
      "height": null,
      "justify_content": null,
      "justify_items": null,
      "left": null,
      "margin": null,
      "max_height": null,
      "max_width": null,
      "min_height": null,
      "min_width": null,
      "object_fit": null,
      "object_position": null,
      "order": null,
      "overflow": null,
      "overflow_x": null,
      "overflow_y": null,
      "padding": null,
      "right": null,
      "top": null,
      "visibility": null,
      "width": null
     }
    },
    "2da777dba1b845caa4266499bdbeff4c": {
     "model_module": "@jupyter-widgets/controls",
     "model_name": "HTMLModel",
     "state": {
      "_dom_classes": [],
      "_model_module": "@jupyter-widgets/controls",
      "_model_module_version": "1.5.0",
      "_model_name": "HTMLModel",
      "_view_count": null,
      "_view_module": "@jupyter-widgets/controls",
      "_view_module_version": "1.5.0",
      "_view_name": "HTMLView",
      "description": "",
      "description_tooltip": null,
      "layout": "IPY_MODEL_2c398b997e7246dcb37a7ccfbb3e6f37",
      "placeholder": "​",
      "style": "IPY_MODEL_c1b39fe0902942dcb3ccf9c081f5cdd2",
      "value": " 1/1 [00:53&lt;00:00, 53.69s/ url]"
     }
    },
    "2faa90260722439c8d7cf3a94da81683": {
     "model_module": "@jupyter-widgets/controls",
     "model_name": "HTMLModel",
     "state": {
      "_dom_classes": [],
      "_model_module": "@jupyter-widgets/controls",
      "_model_module_version": "1.5.0",
      "_model_name": "HTMLModel",
      "_view_count": null,
      "_view_module": "@jupyter-widgets/controls",
      "_view_module_version": "1.5.0",
      "_view_name": "HTMLView",
      "description": "",
      "description_tooltip": null,
      "layout": "IPY_MODEL_584cb0413be84cd3996c16e5b0aae3ec",
      "placeholder": "​",
      "style": "IPY_MODEL_77026e53a94b4644963ecd2a70e1e0d0",
      "value": " 2/2 [00:08&lt;00:00,  4.21s/ file]"
     }
    },
    "30ade90a3ece4e838c5cab24f5e488df": {
     "model_module": "@jupyter-widgets/controls",
     "model_name": "ProgressStyleModel",
     "state": {
      "_model_module": "@jupyter-widgets/controls",
      "_model_module_version": "1.5.0",
      "_model_name": "ProgressStyleModel",
      "_view_count": null,
      "_view_module": "@jupyter-widgets/base",
      "_view_module_version": "1.2.0",
      "_view_name": "StyleView",
      "bar_color": null,
      "description_width": "initial"
     }
    },
    "366faaa87c9a46fcb8bcf736c54d3c28": {
     "model_module": "@jupyter-widgets/controls",
     "model_name": "HTMLModel",
     "state": {
      "_dom_classes": [],
      "_model_module": "@jupyter-widgets/controls",
      "_model_module_version": "1.5.0",
      "_model_name": "HTMLModel",
      "_view_count": null,
      "_view_module": "@jupyter-widgets/controls",
      "_view_module_version": "1.5.0",
      "_view_name": "HTMLView",
      "description": "",
      "description_tooltip": null,
      "layout": "IPY_MODEL_6cd9aca7bb5b4d919b6c029e0f1b3e7a",
      "placeholder": "​",
      "style": "IPY_MODEL_0ef3b83dbd994c129b241d70acbafe62",
      "value": " 12000/0 [00:10&lt;00:00, 1149.68 examples/s]"
     }
    },
    "3e21c883173c404da06a6c448fd075fd": {
     "model_module": "@jupyter-widgets/base",
     "model_name": "LayoutModel",
     "state": {
      "_model_module": "@jupyter-widgets/base",
      "_model_module_version": "1.2.0",
      "_model_name": "LayoutModel",
      "_view_count": null,
      "_view_module": "@jupyter-widgets/base",
      "_view_module_version": "1.2.0",
      "_view_name": "LayoutView",
      "align_content": null,
      "align_items": null,
      "align_self": null,
      "border": null,
      "bottom": null,
      "display": null,
      "flex": null,
      "flex_flow": null,
      "grid_area": null,
      "grid_auto_columns": null,
      "grid_auto_flow": null,
      "grid_auto_rows": null,
      "grid_column": null,
      "grid_gap": null,
      "grid_row": null,
      "grid_template_areas": null,
      "grid_template_columns": null,
      "grid_template_rows": null,
      "height": null,
      "justify_content": null,
      "justify_items": null,
      "left": null,
      "margin": null,
      "max_height": null,
      "max_width": null,
      "min_height": null,
      "min_width": null,
      "object_fit": null,
      "object_position": null,
      "order": null,
      "overflow": null,
      "overflow_x": null,
      "overflow_y": null,
      "padding": null,
      "right": null,
      "top": null,
      "visibility": null,
      "width": null
     }
    },
    "3f302a4efd3248f290ca5c2f76e075e0": {
     "model_module": "@jupyter-widgets/controls",
     "model_name": "HTMLModel",
     "state": {
      "_dom_classes": [],
      "_model_module": "@jupyter-widgets/controls",
      "_model_module_version": "1.5.0",
      "_model_name": "HTMLModel",
      "_view_count": null,
      "_view_module": "@jupyter-widgets/controls",
      "_view_module_version": "1.5.0",
      "_view_name": "HTMLView",
      "description": "",
      "description_tooltip": null,
      "layout": "IPY_MODEL_b79cb9624b3d4b3db7c71c098a3ef61e",
      "placeholder": "​",
      "style": "IPY_MODEL_26aae3d4ac6a42afba73b3bfe8e9c5e3",
      "value": " 7087/8580 [00:06&lt;00:00, 16145.29 examples/s]"
     }
    },
    "412ac6ee8e8b43a7aae4e79d0edff521": {
     "model_module": "@jupyter-widgets/controls",
     "model_name": "HBoxModel",
     "state": {
      "_dom_classes": [],
      "_model_module": "@jupyter-widgets/controls",
      "_model_module_version": "1.5.0",
      "_model_name": "HBoxModel",
      "_view_count": null,
      "_view_module": "@jupyter-widgets/controls",
      "_view_module_version": "1.5.0",
      "_view_name": "HBoxView",
      "box_style": "",
      "children": [
       "IPY_MODEL_671f77803b3049deaf3c6e7c5899fac6",
       "IPY_MODEL_366faaa87c9a46fcb8bcf736c54d3c28"
      ],
      "layout": "IPY_MODEL_3e21c883173c404da06a6c448fd075fd"
     }
    },
    "426118c2a06d4fef8bbea8be228b9c99": {
     "model_module": "@jupyter-widgets/controls",
     "model_name": "HTMLModel",
     "state": {
      "_dom_classes": [],
      "_model_module": "@jupyter-widgets/controls",
      "_model_module_version": "1.5.0",
      "_model_name": "HTMLModel",
      "_view_count": null,
      "_view_module": "@jupyter-widgets/controls",
      "_view_module_version": "1.5.0",
      "_view_name": "HTMLView",
      "description": "",
      "description_tooltip": null,
      "layout": "IPY_MODEL_64cfa6fa224943fa853906a9beb6cabc",
      "placeholder": "​",
      "style": "IPY_MODEL_8f92173af9614cf8927ffc899a66fa11",
      "value": " 8580/0 [00:07&lt;00:00, 971.52 examples/s]"
     }
    },
    "4f69588a746b444298b5bd068eb941e8": {
     "model_module": "@jupyter-widgets/controls",
     "model_name": "HBoxModel",
     "state": {
      "_dom_classes": [],
      "_model_module": "@jupyter-widgets/controls",
      "_model_module_version": "1.5.0",
      "_model_name": "HBoxModel",
      "_view_count": null,
      "_view_module": "@jupyter-widgets/controls",
      "_view_module_version": "1.5.0",
      "_view_name": "HBoxView",
      "box_style": "",
      "children": [
       "IPY_MODEL_f2654b3d24804457b83cd122ee12c848",
       "IPY_MODEL_970fcb7a0938451f8a7216b3f79972eb"
      ],
      "layout": "IPY_MODEL_24007b8f000a495a8c5cf88e2e274a0d"
     }
    },
    "4f79931a982b4928abcaea8a27bd5d4b": {
     "model_module": "@jupyter-widgets/base",
     "model_name": "LayoutModel",
     "state": {
      "_model_module": "@jupyter-widgets/base",
      "_model_module_version": "1.2.0",
      "_model_name": "LayoutModel",
      "_view_count": null,
      "_view_module": "@jupyter-widgets/base",
      "_view_module_version": "1.2.0",
      "_view_name": "LayoutView",
      "align_content": null,
      "align_items": null,
      "align_self": null,
      "border": null,
      "bottom": null,
      "display": null,
      "flex": null,
      "flex_flow": null,
      "grid_area": null,
      "grid_auto_columns": null,
      "grid_auto_flow": null,
      "grid_auto_rows": null,
      "grid_column": null,
      "grid_gap": null,
      "grid_row": null,
      "grid_template_areas": null,
      "grid_template_columns": null,
      "grid_template_rows": null,
      "height": null,
      "justify_content": null,
      "justify_items": null,
      "left": null,
      "margin": null,
      "max_height": null,
      "max_width": null,
      "min_height": null,
      "min_width": null,
      "object_fit": null,
      "object_position": null,
      "order": null,
      "overflow": null,
      "overflow_x": null,
      "overflow_y": null,
      "padding": null,
      "right": null,
      "top": null,
      "visibility": null,
      "width": null
     }
    },
    "511e6ae8740c4c0a8c3a10a13d0dbd54": {
     "model_module": "@jupyter-widgets/base",
     "model_name": "LayoutModel",
     "state": {
      "_model_module": "@jupyter-widgets/base",
      "_model_module_version": "1.2.0",
      "_model_name": "LayoutModel",
      "_view_count": null,
      "_view_module": "@jupyter-widgets/base",
      "_view_module_version": "1.2.0",
      "_view_name": "LayoutView",
      "align_content": null,
      "align_items": null,
      "align_self": null,
      "border": null,
      "bottom": null,
      "display": null,
      "flex": null,
      "flex_flow": null,
      "grid_area": null,
      "grid_auto_columns": null,
      "grid_auto_flow": null,
      "grid_auto_rows": null,
      "grid_column": null,
      "grid_gap": null,
      "grid_row": null,
      "grid_template_areas": null,
      "grid_template_columns": null,
      "grid_template_rows": null,
      "height": null,
      "justify_content": null,
      "justify_items": null,
      "left": null,
      "margin": null,
      "max_height": null,
      "max_width": null,
      "min_height": null,
      "min_width": null,
      "object_fit": null,
      "object_position": null,
      "order": null,
      "overflow": null,
      "overflow_x": null,
      "overflow_y": null,
      "padding": null,
      "right": null,
      "top": null,
      "visibility": null,
      "width": null
     }
    },
    "52e5ac6ceb254c6eb320a22d91ea0027": {
     "model_module": "@jupyter-widgets/controls",
     "model_name": "HBoxModel",
     "state": {
      "_dom_classes": [],
      "_model_module": "@jupyter-widgets/controls",
      "_model_module_version": "1.5.0",
      "_model_name": "HBoxModel",
      "_view_count": null,
      "_view_module": "@jupyter-widgets/controls",
      "_view_module_version": "1.5.0",
      "_view_name": "HBoxView",
      "box_style": "",
      "children": [
       "IPY_MODEL_b90d37bdcc124a15b0bc9dee2ec015c9",
       "IPY_MODEL_7102431c1ae6404d976a684b0d990040"
      ],
      "layout": "IPY_MODEL_f05d3061a39e49b89b42eb09fd00f935"
     }
    },
    "53b40335e25a489d8cd1fa34fbccc33c": {
     "model_module": "@jupyter-widgets/controls",
     "model_name": "FloatProgressModel",
     "state": {
      "_dom_classes": [],
      "_model_module": "@jupyter-widgets/controls",
      "_model_module_version": "1.5.0",
      "_model_name": "FloatProgressModel",
      "_view_count": null,
      "_view_module": "@jupyter-widgets/controls",
      "_view_module_version": "1.5.0",
      "_view_name": "ProgressView",
      "bar_style": "success",
      "description": "Dl Completed...: 100%",
      "description_tooltip": null,
      "layout": "IPY_MODEL_0553d98843584754b11fcb0d1f345a53",
      "max": 1,
      "min": 0,
      "orientation": "horizontal",
      "style": "IPY_MODEL_fb8ba560dbe0484389407aa4434b6f7e",
      "value": 1
     }
    },
    "5780e59969534ebba1616872f55cf43c": {
     "model_module": "@jupyter-widgets/base",
     "model_name": "LayoutModel",
     "state": {
      "_model_module": "@jupyter-widgets/base",
      "_model_module_version": "1.2.0",
      "_model_name": "LayoutModel",
      "_view_count": null,
      "_view_module": "@jupyter-widgets/base",
      "_view_module_version": "1.2.0",
      "_view_name": "LayoutView",
      "align_content": null,
      "align_items": null,
      "align_self": null,
      "border": null,
      "bottom": null,
      "display": null,
      "flex": null,
      "flex_flow": null,
      "grid_area": null,
      "grid_auto_columns": null,
      "grid_auto_flow": null,
      "grid_auto_rows": null,
      "grid_column": null,
      "grid_gap": null,
      "grid_row": null,
      "grid_template_areas": null,
      "grid_template_columns": null,
      "grid_template_rows": null,
      "height": null,
      "justify_content": null,
      "justify_items": null,
      "left": null,
      "margin": null,
      "max_height": null,
      "max_width": null,
      "min_height": null,
      "min_width": null,
      "object_fit": null,
      "object_position": null,
      "order": null,
      "overflow": null,
      "overflow_x": null,
      "overflow_y": null,
      "padding": null,
      "right": null,
      "top": null,
      "visibility": null,
      "width": null
     }
    },
    "584cb0413be84cd3996c16e5b0aae3ec": {
     "model_module": "@jupyter-widgets/base",
     "model_name": "LayoutModel",
     "state": {
      "_model_module": "@jupyter-widgets/base",
      "_model_module_version": "1.2.0",
      "_model_name": "LayoutModel",
      "_view_count": null,
      "_view_module": "@jupyter-widgets/base",
      "_view_module_version": "1.2.0",
      "_view_name": "LayoutView",
      "align_content": null,
      "align_items": null,
      "align_self": null,
      "border": null,
      "bottom": null,
      "display": null,
      "flex": null,
      "flex_flow": null,
      "grid_area": null,
      "grid_auto_columns": null,
      "grid_auto_flow": null,
      "grid_auto_rows": null,
      "grid_column": null,
      "grid_gap": null,
      "grid_row": null,
      "grid_template_areas": null,
      "grid_template_columns": null,
      "grid_template_rows": null,
      "height": null,
      "justify_content": null,
      "justify_items": null,
      "left": null,
      "margin": null,
      "max_height": null,
      "max_width": null,
      "min_height": null,
      "min_width": null,
      "object_fit": null,
      "object_position": null,
      "order": null,
      "overflow": null,
      "overflow_x": null,
      "overflow_y": null,
      "padding": null,
      "right": null,
      "top": null,
      "visibility": null,
      "width": null
     }
    },
    "58f710058ec542fc9c0711ab92bb7e2e": {
     "model_module": "@jupyter-widgets/base",
     "model_name": "LayoutModel",
     "state": {
      "_model_module": "@jupyter-widgets/base",
      "_model_module_version": "1.2.0",
      "_model_name": "LayoutModel",
      "_view_count": null,
      "_view_module": "@jupyter-widgets/base",
      "_view_module_version": "1.2.0",
      "_view_name": "LayoutView",
      "align_content": null,
      "align_items": null,
      "align_self": null,
      "border": null,
      "bottom": null,
      "display": null,
      "flex": null,
      "flex_flow": null,
      "grid_area": null,
      "grid_auto_columns": null,
      "grid_auto_flow": null,
      "grid_auto_rows": null,
      "grid_column": null,
      "grid_gap": null,
      "grid_row": null,
      "grid_template_areas": null,
      "grid_template_columns": null,
      "grid_template_rows": null,
      "height": null,
      "justify_content": null,
      "justify_items": null,
      "left": null,
      "margin": null,
      "max_height": null,
      "max_width": null,
      "min_height": null,
      "min_width": null,
      "object_fit": null,
      "object_position": null,
      "order": null,
      "overflow": null,
      "overflow_x": null,
      "overflow_y": null,
      "padding": null,
      "right": null,
      "top": null,
      "visibility": null,
      "width": null
     }
    },
    "5ad7f36c4fa148388c5f153b3ab28dd2": {
     "model_module": "@jupyter-widgets/controls",
     "model_name": "ProgressStyleModel",
     "state": {
      "_model_module": "@jupyter-widgets/controls",
      "_model_module_version": "1.5.0",
      "_model_name": "ProgressStyleModel",
      "_view_count": null,
      "_view_module": "@jupyter-widgets/base",
      "_view_module_version": "1.2.0",
      "_view_name": "StyleView",
      "bar_color": null,
      "description_width": "initial"
     }
    },
    "5c5950f7dad2465db92a677a0974f3a3": {
     "model_module": "@jupyter-widgets/controls",
     "model_name": "FloatProgressModel",
     "state": {
      "_dom_classes": [],
      "_model_module": "@jupyter-widgets/controls",
      "_model_module_version": "1.5.0",
      "_model_name": "FloatProgressModel",
      "_view_count": null,
      "_view_module": "@jupyter-widgets/controls",
      "_view_module_version": "1.5.0",
      "_view_name": "ProgressView",
      "bar_style": "success",
      "description": "Dl Size...: 100%",
      "description_tooltip": null,
      "layout": "IPY_MODEL_65812465888d46f2bfcc91bd94875b6b",
      "max": 1,
      "min": 0,
      "orientation": "horizontal",
      "style": "IPY_MODEL_30ade90a3ece4e838c5cab24f5e488df",
      "value": 1
     }
    },
    "64cfa6fa224943fa853906a9beb6cabc": {
     "model_module": "@jupyter-widgets/base",
     "model_name": "LayoutModel",
     "state": {
      "_model_module": "@jupyter-widgets/base",
      "_model_module_version": "1.2.0",
      "_model_name": "LayoutModel",
      "_view_count": null,
      "_view_module": "@jupyter-widgets/base",
      "_view_module_version": "1.2.0",
      "_view_name": "LayoutView",
      "align_content": null,
      "align_items": null,
      "align_self": null,
      "border": null,
      "bottom": null,
      "display": null,
      "flex": null,
      "flex_flow": null,
      "grid_area": null,
      "grid_auto_columns": null,
      "grid_auto_flow": null,
      "grid_auto_rows": null,
      "grid_column": null,
      "grid_gap": null,
      "grid_row": null,
      "grid_template_areas": null,
      "grid_template_columns": null,
      "grid_template_rows": null,
      "height": null,
      "justify_content": null,
      "justify_items": null,
      "left": null,
      "margin": null,
      "max_height": null,
      "max_width": null,
      "min_height": null,
      "min_width": null,
      "object_fit": null,
      "object_position": null,
      "order": null,
      "overflow": null,
      "overflow_x": null,
      "overflow_y": null,
      "padding": null,
      "right": null,
      "top": null,
      "visibility": null,
      "width": null
     }
    },
    "65812465888d46f2bfcc91bd94875b6b": {
     "model_module": "@jupyter-widgets/base",
     "model_name": "LayoutModel",
     "state": {
      "_model_module": "@jupyter-widgets/base",
      "_model_module_version": "1.2.0",
      "_model_name": "LayoutModel",
      "_view_count": null,
      "_view_module": "@jupyter-widgets/base",
      "_view_module_version": "1.2.0",
      "_view_name": "LayoutView",
      "align_content": null,
      "align_items": null,
      "align_self": null,
      "border": null,
      "bottom": null,
      "display": null,
      "flex": null,
      "flex_flow": null,
      "grid_area": null,
      "grid_auto_columns": null,
      "grid_auto_flow": null,
      "grid_auto_rows": null,
      "grid_column": null,
      "grid_gap": null,
      "grid_row": null,
      "grid_template_areas": null,
      "grid_template_columns": null,
      "grid_template_rows": null,
      "height": null,
      "justify_content": null,
      "justify_items": null,
      "left": null,
      "margin": null,
      "max_height": null,
      "max_width": null,
      "min_height": null,
      "min_width": null,
      "object_fit": null,
      "object_position": null,
      "order": null,
      "overflow": null,
      "overflow_x": null,
      "overflow_y": null,
      "padding": null,
      "right": null,
      "top": null,
      "visibility": null,
      "width": null
     }
    },
    "671f77803b3049deaf3c6e7c5899fac6": {
     "model_module": "@jupyter-widgets/controls",
     "model_name": "FloatProgressModel",
     "state": {
      "_dom_classes": [],
      "_model_module": "@jupyter-widgets/controls",
      "_model_module_version": "1.5.0",
      "_model_name": "FloatProgressModel",
      "_view_count": null,
      "_view_module": "@jupyter-widgets/controls",
      "_view_module_version": "1.5.0",
      "_view_name": "ProgressView",
      "bar_style": "info",
      "description": "",
      "description_tooltip": null,
      "layout": "IPY_MODEL_ce7b0939c1f645d5abcf884619ca26bc",
      "max": 1,
      "min": 0,
      "orientation": "horizontal",
      "style": "IPY_MODEL_b87f470ac6eb46f284ce4414229c89a2",
      "value": 1
     }
    },
    "6945d5065a054b428d09ff75782fe1fa": {
     "model_module": "@jupyter-widgets/controls",
     "model_name": "HBoxModel",
     "state": {
      "_dom_classes": [],
      "_model_module": "@jupyter-widgets/controls",
      "_model_module_version": "1.5.0",
      "_model_name": "HBoxModel",
      "_view_count": null,
      "_view_module": "@jupyter-widgets/controls",
      "_view_module_version": "1.5.0",
      "_view_name": "HBoxView",
      "box_style": "",
      "children": [
       "IPY_MODEL_0532807b478b434fb13127862c4eb5e0",
       "IPY_MODEL_426118c2a06d4fef8bbea8be228b9c99"
      ],
      "layout": "IPY_MODEL_58f710058ec542fc9c0711ab92bb7e2e"
     }
    },
    "6cd9aca7bb5b4d919b6c029e0f1b3e7a": {
     "model_module": "@jupyter-widgets/base",
     "model_name": "LayoutModel",
     "state": {
      "_model_module": "@jupyter-widgets/base",
      "_model_module_version": "1.2.0",
      "_model_name": "LayoutModel",
      "_view_count": null,
      "_view_module": "@jupyter-widgets/base",
      "_view_module_version": "1.2.0",
      "_view_name": "LayoutView",
      "align_content": null,
      "align_items": null,
      "align_self": null,
      "border": null,
      "bottom": null,
      "display": null,
      "flex": null,
      "flex_flow": null,
      "grid_area": null,
      "grid_auto_columns": null,
      "grid_auto_flow": null,
      "grid_auto_rows": null,
      "grid_column": null,
      "grid_gap": null,
      "grid_row": null,
      "grid_template_areas": null,
      "grid_template_columns": null,
      "grid_template_rows": null,
      "height": null,
      "justify_content": null,
      "justify_items": null,
      "left": null,
      "margin": null,
      "max_height": null,
      "max_width": null,
      "min_height": null,
      "min_width": null,
      "object_fit": null,
      "object_position": null,
      "order": null,
      "overflow": null,
      "overflow_x": null,
      "overflow_y": null,
      "padding": null,
      "right": null,
      "top": null,
      "visibility": null,
      "width": null
     }
    },
    "7070e4315cf74586a4f2e2753a8dfce7": {
     "model_module": "@jupyter-widgets/controls",
     "model_name": "HBoxModel",
     "state": {
      "_dom_classes": [],
      "_model_module": "@jupyter-widgets/controls",
      "_model_module_version": "1.5.0",
      "_model_name": "HBoxModel",
      "_view_count": null,
      "_view_module": "@jupyter-widgets/controls",
      "_view_module_version": "1.5.0",
      "_view_name": "HBoxView",
      "box_style": "",
      "children": [
       "IPY_MODEL_ad6605b374ca4400a01377827e540a71",
       "IPY_MODEL_2faa90260722439c8d7cf3a94da81683"
      ],
      "layout": "IPY_MODEL_5780e59969534ebba1616872f55cf43c"
     }
    },
    "7102431c1ae6404d976a684b0d990040": {
     "model_module": "@jupyter-widgets/controls",
     "model_name": "HTMLModel",
     "state": {
      "_dom_classes": [],
      "_model_module": "@jupyter-widgets/controls",
      "_model_module_version": "1.5.0",
      "_model_name": "HTMLModel",
      "_view_count": null,
      "_view_module": "@jupyter-widgets/controls",
      "_view_module_version": "1.5.0",
      "_view_name": "HTMLView",
      "description": "",
      "description_tooltip": null,
      "layout": "IPY_MODEL_c3c585a2d88d4b17899296f31e30b4dd",
      "placeholder": "​",
      "style": "IPY_MODEL_98969ab1fc55496596cc78960c0ec529",
      "value": " 2/2 [00:08&lt;00:00,  4.24s/ url]"
     }
    },
    "77026e53a94b4644963ecd2a70e1e0d0": {
     "model_module": "@jupyter-widgets/controls",
     "model_name": "DescriptionStyleModel",
     "state": {
      "_model_module": "@jupyter-widgets/controls",
      "_model_module_version": "1.5.0",
      "_model_name": "DescriptionStyleModel",
      "_view_count": null,
      "_view_module": "@jupyter-widgets/base",
      "_view_module_version": "1.2.0",
      "_view_name": "StyleView",
      "description_width": ""
     }
    },
    "7801c974e6604012b794b1afd1709533": {
     "model_module": "@jupyter-widgets/controls",
     "model_name": "ProgressStyleModel",
     "state": {
      "_model_module": "@jupyter-widgets/controls",
      "_model_module_version": "1.5.0",
      "_model_name": "ProgressStyleModel",
      "_view_count": null,
      "_view_module": "@jupyter-widgets/base",
      "_view_module_version": "1.2.0",
      "_view_name": "StyleView",
      "bar_color": null,
      "description_width": "initial"
     }
    },
    "8172c377f029498ca0f206e4735c094d": {
     "model_module": "@jupyter-widgets/controls",
     "model_name": "HBoxModel",
     "state": {
      "_dom_classes": [],
      "_model_module": "@jupyter-widgets/controls",
      "_model_module_version": "1.5.0",
      "_model_name": "HBoxModel",
      "_view_count": null,
      "_view_module": "@jupyter-widgets/controls",
      "_view_module_version": "1.5.0",
      "_view_name": "HBoxView",
      "box_style": "",
      "children": [
       "IPY_MODEL_53b40335e25a489d8cd1fa34fbccc33c",
       "IPY_MODEL_2da777dba1b845caa4266499bdbeff4c"
      ],
      "layout": "IPY_MODEL_0ac318d8e22845cb8c5a5fdf86b56857"
     }
    },
    "8dc527f08cba4b3193f43e5f3babc650": {
     "model_module": "@jupyter-widgets/controls",
     "model_name": "HBoxModel",
     "state": {
      "_dom_classes": [],
      "_model_module": "@jupyter-widgets/controls",
      "_model_module_version": "1.5.0",
      "_model_name": "HBoxModel",
      "_view_count": null,
      "_view_module": "@jupyter-widgets/controls",
      "_view_module_version": "1.5.0",
      "_view_name": "HBoxView",
      "box_style": "",
      "children": [
       "IPY_MODEL_a0cc31ad12bc4281a6b435a7223f2cdc",
       "IPY_MODEL_f280202f5a224240b867a8064453e9fc"
      ],
      "layout": "IPY_MODEL_d27d179498ef44478c7325a07c31853a"
     }
    },
    "8f8989b2c0274bb2a36f9c344044b60d": {
     "model_module": "@jupyter-widgets/base",
     "model_name": "LayoutModel",
     "state": {
      "_model_module": "@jupyter-widgets/base",
      "_model_module_version": "1.2.0",
      "_model_name": "LayoutModel",
      "_view_count": null,
      "_view_module": "@jupyter-widgets/base",
      "_view_module_version": "1.2.0",
      "_view_name": "LayoutView",
      "align_content": null,
      "align_items": null,
      "align_self": null,
      "border": null,
      "bottom": null,
      "display": null,
      "flex": null,
      "flex_flow": null,
      "grid_area": null,
      "grid_auto_columns": null,
      "grid_auto_flow": null,
      "grid_auto_rows": null,
      "grid_column": null,
      "grid_gap": null,
      "grid_row": null,
      "grid_template_areas": null,
      "grid_template_columns": null,
      "grid_template_rows": null,
      "height": null,
      "justify_content": null,
      "justify_items": null,
      "left": null,
      "margin": null,
      "max_height": null,
      "max_width": null,
      "min_height": null,
      "min_width": null,
      "object_fit": null,
      "object_position": null,
      "order": null,
      "overflow": null,
      "overflow_x": null,
      "overflow_y": null,
      "padding": null,
      "right": null,
      "top": null,
      "visibility": null,
      "width": null
     }
    },
    "8f92173af9614cf8927ffc899a66fa11": {
     "model_module": "@jupyter-widgets/controls",
     "model_name": "DescriptionStyleModel",
     "state": {
      "_model_module": "@jupyter-widgets/controls",
      "_model_module_version": "1.5.0",
      "_model_name": "DescriptionStyleModel",
      "_view_count": null,
      "_view_module": "@jupyter-widgets/base",
      "_view_module_version": "1.2.0",
      "_view_name": "StyleView",
      "description_width": ""
     }
    },
    "970fcb7a0938451f8a7216b3f79972eb": {
     "model_module": "@jupyter-widgets/controls",
     "model_name": "HTMLModel",
     "state": {
      "_dom_classes": [],
      "_model_module": "@jupyter-widgets/controls",
      "_model_module_version": "1.5.0",
      "_model_name": "HTMLModel",
      "_view_count": null,
      "_view_module": "@jupyter-widgets/controls",
      "_view_module_version": "1.5.0",
      "_view_name": "HTMLView",
      "description": "",
      "description_tooltip": null,
      "layout": "IPY_MODEL_105df05ff4244c0fb641b287d6c998ef",
      "placeholder": "​",
      "style": "IPY_MODEL_ec5c3c63ef734eff921ebde5e95575c7",
      "value": " 20/20 [00:08&lt;00:00,  2.37 MiB/s]"
     }
    },
    "98969ab1fc55496596cc78960c0ec529": {
     "model_module": "@jupyter-widgets/controls",
     "model_name": "DescriptionStyleModel",
     "state": {
      "_model_module": "@jupyter-widgets/controls",
      "_model_module_version": "1.5.0",
      "_model_name": "DescriptionStyleModel",
      "_view_count": null,
      "_view_module": "@jupyter-widgets/base",
      "_view_module_version": "1.2.0",
      "_view_name": "StyleView",
      "description_width": ""
     }
    },
    "a0349a4ce6254dd8bd6b30d3e83a2dfd": {
     "model_module": "@jupyter-widgets/controls",
     "model_name": "HBoxModel",
     "state": {
      "_dom_classes": [],
      "_model_module": "@jupyter-widgets/controls",
      "_model_module_version": "1.5.0",
      "_model_name": "HBoxModel",
      "_view_count": null,
      "_view_module": "@jupyter-widgets/controls",
      "_view_module_version": "1.5.0",
      "_view_name": "HBoxView",
      "box_style": "",
      "children": [
       "IPY_MODEL_a94c30034c694f749a1340419d31fb70",
       "IPY_MODEL_3f302a4efd3248f290ca5c2f76e075e0"
      ],
      "layout": "IPY_MODEL_f4a1a4a8325a406f84e9cd1e587007ea"
     }
    },
    "a0cc31ad12bc4281a6b435a7223f2cdc": {
     "model_module": "@jupyter-widgets/controls",
     "model_name": "FloatProgressModel",
     "state": {
      "_dom_classes": [],
      "_model_module": "@jupyter-widgets/controls",
      "_model_module_version": "1.5.0",
      "_model_name": "FloatProgressModel",
      "_view_count": null,
      "_view_module": "@jupyter-widgets/controls",
      "_view_module_version": "1.5.0",
      "_view_name": "ProgressView",
      "bar_style": "danger",
      "description": " 93%",
      "description_tooltip": null,
      "layout": "IPY_MODEL_082d62a0d7ea44bc9e8bf5a6f62704cd",
      "max": 12000,
      "min": 0,
      "orientation": "horizontal",
      "style": "IPY_MODEL_e1b0336dde494951a41275df591fc28b",
      "value": 11140
     }
    },
    "a1fc0f0121e74d88b61b691642a79a9d": {
     "model_module": "@jupyter-widgets/base",
     "model_name": "LayoutModel",
     "state": {
      "_model_module": "@jupyter-widgets/base",
      "_model_module_version": "1.2.0",
      "_model_name": "LayoutModel",
      "_view_count": null,
      "_view_module": "@jupyter-widgets/base",
      "_view_module_version": "1.2.0",
      "_view_name": "LayoutView",
      "align_content": null,
      "align_items": null,
      "align_self": null,
      "border": null,
      "bottom": null,
      "display": null,
      "flex": null,
      "flex_flow": null,
      "grid_area": null,
      "grid_auto_columns": null,
      "grid_auto_flow": null,
      "grid_auto_rows": null,
      "grid_column": null,
      "grid_gap": null,
      "grid_row": null,
      "grid_template_areas": null,
      "grid_template_columns": null,
      "grid_template_rows": null,
      "height": null,
      "justify_content": null,
      "justify_items": null,
      "left": null,
      "margin": null,
      "max_height": null,
      "max_width": null,
      "min_height": null,
      "min_width": null,
      "object_fit": null,
      "object_position": null,
      "order": null,
      "overflow": null,
      "overflow_x": null,
      "overflow_y": null,
      "padding": null,
      "right": null,
      "top": null,
      "visibility": null,
      "width": null
     }
    },
    "a7422d8a091c47ca890f3f937a4d5cff": {
     "model_module": "@jupyter-widgets/controls",
     "model_name": "HBoxModel",
     "state": {
      "_dom_classes": [],
      "_model_module": "@jupyter-widgets/controls",
      "_model_module_version": "1.5.0",
      "_model_name": "HBoxModel",
      "_view_count": null,
      "_view_module": "@jupyter-widgets/controls",
      "_view_module_version": "1.5.0",
      "_view_name": "HBoxView",
      "box_style": "",
      "children": [
       "IPY_MODEL_5c5950f7dad2465db92a677a0974f3a3",
       "IPY_MODEL_ad76317d13d94319a958c3796047b414"
      ],
      "layout": "IPY_MODEL_a1fc0f0121e74d88b61b691642a79a9d"
     }
    },
    "a94c30034c694f749a1340419d31fb70": {
     "model_module": "@jupyter-widgets/controls",
     "model_name": "FloatProgressModel",
     "state": {
      "_dom_classes": [],
      "_model_module": "@jupyter-widgets/controls",
      "_model_module_version": "1.5.0",
      "_model_name": "FloatProgressModel",
      "_view_count": null,
      "_view_module": "@jupyter-widgets/controls",
      "_view_module_version": "1.5.0",
      "_view_name": "ProgressView",
      "bar_style": "danger",
      "description": " 83%",
      "description_tooltip": null,
      "layout": "IPY_MODEL_8f8989b2c0274bb2a36f9c344044b60d",
      "max": 8580,
      "min": 0,
      "orientation": "horizontal",
      "style": "IPY_MODEL_5ad7f36c4fa148388c5f153b3ab28dd2",
      "value": 7087
     }
    },
    "ad6605b374ca4400a01377827e540a71": {
     "model_module": "@jupyter-widgets/controls",
     "model_name": "FloatProgressModel",
     "state": {
      "_dom_classes": [],
      "_model_module": "@jupyter-widgets/controls",
      "_model_module_version": "1.5.0",
      "_model_name": "FloatProgressModel",
      "_view_count": null,
      "_view_module": "@jupyter-widgets/controls",
      "_view_module_version": "1.5.0",
      "_view_name": "ProgressView",
      "bar_style": "success",
      "description": "Extraction completed...: 100%",
      "description_tooltip": null,
      "layout": "IPY_MODEL_2c88a388e5a54e2fa79c281f741204e4",
      "max": 1,
      "min": 0,
      "orientation": "horizontal",
      "style": "IPY_MODEL_06fbfbe1debf41e5a64fc055e33d676e",
      "value": 1
     }
    },
    "ad76317d13d94319a958c3796047b414": {
     "model_module": "@jupyter-widgets/controls",
     "model_name": "HTMLModel",
     "state": {
      "_dom_classes": [],
      "_model_module": "@jupyter-widgets/controls",
      "_model_module_version": "1.5.0",
      "_model_name": "HTMLModel",
      "_view_count": null,
      "_view_module": "@jupyter-widgets/controls",
      "_view_module_version": "1.5.0",
      "_view_name": "HTMLView",
      "description": "",
      "description_tooltip": null,
      "layout": "IPY_MODEL_511e6ae8740c4c0a8c3a10a13d0dbd54",
      "placeholder": "​",
      "style": "IPY_MODEL_f8619c3e55e04d7badba8d7d84dc4f66",
      "value": " 756/756 [00:53&lt;00:00, 14.09 MiB/s]"
     }
    },
    "aedb9447536a49eaa0e0b2671ca8dcd7": {
     "model_module": "@jupyter-widgets/base",
     "model_name": "LayoutModel",
     "state": {
      "_model_module": "@jupyter-widgets/base",
      "_model_module_version": "1.2.0",
      "_model_name": "LayoutModel",
      "_view_count": null,
      "_view_module": "@jupyter-widgets/base",
      "_view_module_version": "1.2.0",
      "_view_name": "LayoutView",
      "align_content": null,
      "align_items": null,
      "align_self": null,
      "border": null,
      "bottom": null,
      "display": null,
      "flex": null,
      "flex_flow": null,
      "grid_area": null,
      "grid_auto_columns": null,
      "grid_auto_flow": null,
      "grid_auto_rows": null,
      "grid_column": null,
      "grid_gap": null,
      "grid_row": null,
      "grid_template_areas": null,
      "grid_template_columns": null,
      "grid_template_rows": null,
      "height": null,
      "justify_content": null,
      "justify_items": null,
      "left": null,
      "margin": null,
      "max_height": null,
      "max_width": null,
      "min_height": null,
      "min_width": null,
      "object_fit": null,
      "object_position": null,
      "order": null,
      "overflow": null,
      "overflow_x": null,
      "overflow_y": null,
      "padding": null,
      "right": null,
      "top": null,
      "visibility": null,
      "width": null
     }
    },
    "b79cb9624b3d4b3db7c71c098a3ef61e": {
     "model_module": "@jupyter-widgets/base",
     "model_name": "LayoutModel",
     "state": {
      "_model_module": "@jupyter-widgets/base",
      "_model_module_version": "1.2.0",
      "_model_name": "LayoutModel",
      "_view_count": null,
      "_view_module": "@jupyter-widgets/base",
      "_view_module_version": "1.2.0",
      "_view_name": "LayoutView",
      "align_content": null,
      "align_items": null,
      "align_self": null,
      "border": null,
      "bottom": null,
      "display": null,
      "flex": null,
      "flex_flow": null,
      "grid_area": null,
      "grid_auto_columns": null,
      "grid_auto_flow": null,
      "grid_auto_rows": null,
      "grid_column": null,
      "grid_gap": null,
      "grid_row": null,
      "grid_template_areas": null,
      "grid_template_columns": null,
      "grid_template_rows": null,
      "height": null,
      "justify_content": null,
      "justify_items": null,
      "left": null,
      "margin": null,
      "max_height": null,
      "max_width": null,
      "min_height": null,
      "min_width": null,
      "object_fit": null,
      "object_position": null,
      "order": null,
      "overflow": null,
      "overflow_x": null,
      "overflow_y": null,
      "padding": null,
      "right": null,
      "top": null,
      "visibility": null,
      "width": null
     }
    },
    "b87f470ac6eb46f284ce4414229c89a2": {
     "model_module": "@jupyter-widgets/controls",
     "model_name": "ProgressStyleModel",
     "state": {
      "_model_module": "@jupyter-widgets/controls",
      "_model_module_version": "1.5.0",
      "_model_name": "ProgressStyleModel",
      "_view_count": null,
      "_view_module": "@jupyter-widgets/base",
      "_view_module_version": "1.2.0",
      "_view_name": "StyleView",
      "bar_color": null,
      "description_width": "initial"
     }
    },
    "b90d37bdcc124a15b0bc9dee2ec015c9": {
     "model_module": "@jupyter-widgets/controls",
     "model_name": "FloatProgressModel",
     "state": {
      "_dom_classes": [],
      "_model_module": "@jupyter-widgets/controls",
      "_model_module_version": "1.5.0",
      "_model_name": "FloatProgressModel",
      "_view_count": null,
      "_view_module": "@jupyter-widgets/controls",
      "_view_module_version": "1.5.0",
      "_view_name": "ProgressView",
      "bar_style": "success",
      "description": "Dl Completed...: 100%",
      "description_tooltip": null,
      "layout": "IPY_MODEL_044427407bd044008395d0efadbd6dae",
      "max": 1,
      "min": 0,
      "orientation": "horizontal",
      "style": "IPY_MODEL_c062296c5a4245d1993bece378cb6f46",
      "value": 1
     }
    },
    "bd958256e6374ddba691fd43f5f83bc8": {
     "model_module": "@jupyter-widgets/base",
     "model_name": "LayoutModel",
     "state": {
      "_model_module": "@jupyter-widgets/base",
      "_model_module_version": "1.2.0",
      "_model_name": "LayoutModel",
      "_view_count": null,
      "_view_module": "@jupyter-widgets/base",
      "_view_module_version": "1.2.0",
      "_view_name": "LayoutView",
      "align_content": null,
      "align_items": null,
      "align_self": null,
      "border": null,
      "bottom": null,
      "display": null,
      "flex": null,
      "flex_flow": null,
      "grid_area": null,
      "grid_auto_columns": null,
      "grid_auto_flow": null,
      "grid_auto_rows": null,
      "grid_column": null,
      "grid_gap": null,
      "grid_row": null,
      "grid_template_areas": null,
      "grid_template_columns": null,
      "grid_template_rows": null,
      "height": null,
      "justify_content": null,
      "justify_items": null,
      "left": null,
      "margin": null,
      "max_height": null,
      "max_width": null,
      "min_height": null,
      "min_width": null,
      "object_fit": null,
      "object_position": null,
      "order": null,
      "overflow": null,
      "overflow_x": null,
      "overflow_y": null,
      "padding": null,
      "right": null,
      "top": null,
      "visibility": null,
      "width": null
     }
    },
    "c062296c5a4245d1993bece378cb6f46": {
     "model_module": "@jupyter-widgets/controls",
     "model_name": "ProgressStyleModel",
     "state": {
      "_model_module": "@jupyter-widgets/controls",
      "_model_module_version": "1.5.0",
      "_model_name": "ProgressStyleModel",
      "_view_count": null,
      "_view_module": "@jupyter-widgets/base",
      "_view_module_version": "1.2.0",
      "_view_name": "StyleView",
      "bar_color": null,
      "description_width": "initial"
     }
    },
    "c1b39fe0902942dcb3ccf9c081f5cdd2": {
     "model_module": "@jupyter-widgets/controls",
     "model_name": "DescriptionStyleModel",
     "state": {
      "_model_module": "@jupyter-widgets/controls",
      "_model_module_version": "1.5.0",
      "_model_name": "DescriptionStyleModel",
      "_view_count": null,
      "_view_module": "@jupyter-widgets/base",
      "_view_module_version": "1.2.0",
      "_view_name": "StyleView",
      "description_width": ""
     }
    },
    "c3c585a2d88d4b17899296f31e30b4dd": {
     "model_module": "@jupyter-widgets/base",
     "model_name": "LayoutModel",
     "state": {
      "_model_module": "@jupyter-widgets/base",
      "_model_module_version": "1.2.0",
      "_model_name": "LayoutModel",
      "_view_count": null,
      "_view_module": "@jupyter-widgets/base",
      "_view_module_version": "1.2.0",
      "_view_name": "LayoutView",
      "align_content": null,
      "align_items": null,
      "align_self": null,
      "border": null,
      "bottom": null,
      "display": null,
      "flex": null,
      "flex_flow": null,
      "grid_area": null,
      "grid_auto_columns": null,
      "grid_auto_flow": null,
      "grid_auto_rows": null,
      "grid_column": null,
      "grid_gap": null,
      "grid_row": null,
      "grid_template_areas": null,
      "grid_template_columns": null,
      "grid_template_rows": null,
      "height": null,
      "justify_content": null,
      "justify_items": null,
      "left": null,
      "margin": null,
      "max_height": null,
      "max_width": null,
      "min_height": null,
      "min_width": null,
      "object_fit": null,
      "object_position": null,
      "order": null,
      "overflow": null,
      "overflow_x": null,
      "overflow_y": null,
      "padding": null,
      "right": null,
      "top": null,
      "visibility": null,
      "width": null
     }
    },
    "ce7b0939c1f645d5abcf884619ca26bc": {
     "model_module": "@jupyter-widgets/base",
     "model_name": "LayoutModel",
     "state": {
      "_model_module": "@jupyter-widgets/base",
      "_model_module_version": "1.2.0",
      "_model_name": "LayoutModel",
      "_view_count": null,
      "_view_module": "@jupyter-widgets/base",
      "_view_module_version": "1.2.0",
      "_view_name": "LayoutView",
      "align_content": null,
      "align_items": null,
      "align_self": null,
      "border": null,
      "bottom": null,
      "display": null,
      "flex": null,
      "flex_flow": null,
      "grid_area": null,
      "grid_auto_columns": null,
      "grid_auto_flow": null,
      "grid_auto_rows": null,
      "grid_column": null,
      "grid_gap": null,
      "grid_row": null,
      "grid_template_areas": null,
      "grid_template_columns": null,
      "grid_template_rows": null,
      "height": null,
      "justify_content": null,
      "justify_items": null,
      "left": null,
      "margin": null,
      "max_height": null,
      "max_width": null,
      "min_height": null,
      "min_width": null,
      "object_fit": null,
      "object_position": null,
      "order": null,
      "overflow": null,
      "overflow_x": null,
      "overflow_y": null,
      "padding": null,
      "right": null,
      "top": null,
      "visibility": null,
      "width": null
     }
    },
    "d27d179498ef44478c7325a07c31853a": {
     "model_module": "@jupyter-widgets/base",
     "model_name": "LayoutModel",
     "state": {
      "_model_module": "@jupyter-widgets/base",
      "_model_module_version": "1.2.0",
      "_model_name": "LayoutModel",
      "_view_count": null,
      "_view_module": "@jupyter-widgets/base",
      "_view_module_version": "1.2.0",
      "_view_name": "LayoutView",
      "align_content": null,
      "align_items": null,
      "align_self": null,
      "border": null,
      "bottom": null,
      "display": null,
      "flex": null,
      "flex_flow": null,
      "grid_area": null,
      "grid_auto_columns": null,
      "grid_auto_flow": null,
      "grid_auto_rows": null,
      "grid_column": null,
      "grid_gap": null,
      "grid_row": null,
      "grid_template_areas": null,
      "grid_template_columns": null,
      "grid_template_rows": null,
      "height": null,
      "justify_content": null,
      "justify_items": null,
      "left": null,
      "margin": null,
      "max_height": null,
      "max_width": null,
      "min_height": null,
      "min_width": null,
      "object_fit": null,
      "object_position": null,
      "order": null,
      "overflow": null,
      "overflow_x": null,
      "overflow_y": null,
      "padding": null,
      "right": null,
      "top": null,
      "visibility": null,
      "width": null
     }
    },
    "d4a57068c74043d09e9d828410dc8494": {
     "model_module": "@jupyter-widgets/controls",
     "model_name": "ProgressStyleModel",
     "state": {
      "_model_module": "@jupyter-widgets/controls",
      "_model_module_version": "1.5.0",
      "_model_name": "ProgressStyleModel",
      "_view_count": null,
      "_view_module": "@jupyter-widgets/base",
      "_view_module_version": "1.2.0",
      "_view_name": "StyleView",
      "bar_color": null,
      "description_width": "initial"
     }
    },
    "e1b0336dde494951a41275df591fc28b": {
     "model_module": "@jupyter-widgets/controls",
     "model_name": "ProgressStyleModel",
     "state": {
      "_model_module": "@jupyter-widgets/controls",
      "_model_module_version": "1.5.0",
      "_model_name": "ProgressStyleModel",
      "_view_count": null,
      "_view_module": "@jupyter-widgets/base",
      "_view_module_version": "1.2.0",
      "_view_name": "StyleView",
      "bar_color": null,
      "description_width": "initial"
     }
    },
    "ec5c3c63ef734eff921ebde5e95575c7": {
     "model_module": "@jupyter-widgets/controls",
     "model_name": "DescriptionStyleModel",
     "state": {
      "_model_module": "@jupyter-widgets/controls",
      "_model_module_version": "1.5.0",
      "_model_name": "DescriptionStyleModel",
      "_view_count": null,
      "_view_module": "@jupyter-widgets/base",
      "_view_module_version": "1.2.0",
      "_view_name": "StyleView",
      "description_width": ""
     }
    },
    "f05d3061a39e49b89b42eb09fd00f935": {
     "model_module": "@jupyter-widgets/base",
     "model_name": "LayoutModel",
     "state": {
      "_model_module": "@jupyter-widgets/base",
      "_model_module_version": "1.2.0",
      "_model_name": "LayoutModel",
      "_view_count": null,
      "_view_module": "@jupyter-widgets/base",
      "_view_module_version": "1.2.0",
      "_view_name": "LayoutView",
      "align_content": null,
      "align_items": null,
      "align_self": null,
      "border": null,
      "bottom": null,
      "display": null,
      "flex": null,
      "flex_flow": null,
      "grid_area": null,
      "grid_auto_columns": null,
      "grid_auto_flow": null,
      "grid_auto_rows": null,
      "grid_column": null,
      "grid_gap": null,
      "grid_row": null,
      "grid_template_areas": null,
      "grid_template_columns": null,
      "grid_template_rows": null,
      "height": null,
      "justify_content": null,
      "justify_items": null,
      "left": null,
      "margin": null,
      "max_height": null,
      "max_width": null,
      "min_height": null,
      "min_width": null,
      "object_fit": null,
      "object_position": null,
      "order": null,
      "overflow": null,
      "overflow_x": null,
      "overflow_y": null,
      "padding": null,
      "right": null,
      "top": null,
      "visibility": null,
      "width": null
     }
    },
    "f2654b3d24804457b83cd122ee12c848": {
     "model_module": "@jupyter-widgets/controls",
     "model_name": "FloatProgressModel",
     "state": {
      "_dom_classes": [],
      "_model_module": "@jupyter-widgets/controls",
      "_model_module_version": "1.5.0",
      "_model_name": "FloatProgressModel",
      "_view_count": null,
      "_view_module": "@jupyter-widgets/controls",
      "_view_module_version": "1.5.0",
      "_view_name": "ProgressView",
      "bar_style": "success",
      "description": "Dl Size...: 100%",
      "description_tooltip": null,
      "layout": "IPY_MODEL_4f79931a982b4928abcaea8a27bd5d4b",
      "max": 1,
      "min": 0,
      "orientation": "horizontal",
      "style": "IPY_MODEL_d4a57068c74043d09e9d828410dc8494",
      "value": 1
     }
    },
    "f280202f5a224240b867a8064453e9fc": {
     "model_module": "@jupyter-widgets/controls",
     "model_name": "HTMLModel",
     "state": {
      "_dom_classes": [],
      "_model_module": "@jupyter-widgets/controls",
      "_model_module_version": "1.5.0",
      "_model_name": "HTMLModel",
      "_view_count": null,
      "_view_module": "@jupyter-widgets/controls",
      "_view_module_version": "1.5.0",
      "_view_name": "HTMLView",
      "description": "",
      "description_tooltip": null,
      "layout": "IPY_MODEL_bd958256e6374ddba691fd43f5f83bc8",
      "placeholder": "​",
      "style": "IPY_MODEL_25e9806d27d24a37b3388a40e8290dc7",
      "value": " 11140/12000 [00:01&lt;00:00, 8121.31 examples/s]"
     }
    },
    "f4a1a4a8325a406f84e9cd1e587007ea": {
     "model_module": "@jupyter-widgets/base",
     "model_name": "LayoutModel",
     "state": {
      "_model_module": "@jupyter-widgets/base",
      "_model_module_version": "1.2.0",
      "_model_name": "LayoutModel",
      "_view_count": null,
      "_view_module": "@jupyter-widgets/base",
      "_view_module_version": "1.2.0",
      "_view_name": "LayoutView",
      "align_content": null,
      "align_items": null,
      "align_self": null,
      "border": null,
      "bottom": null,
      "display": null,
      "flex": null,
      "flex_flow": null,
      "grid_area": null,
      "grid_auto_columns": null,
      "grid_auto_flow": null,
      "grid_auto_rows": null,
      "grid_column": null,
      "grid_gap": null,
      "grid_row": null,
      "grid_template_areas": null,
      "grid_template_columns": null,
      "grid_template_rows": null,
      "height": null,
      "justify_content": null,
      "justify_items": null,
      "left": null,
      "margin": null,
      "max_height": null,
      "max_width": null,
      "min_height": null,
      "min_width": null,
      "object_fit": null,
      "object_position": null,
      "order": null,
      "overflow": null,
      "overflow_x": null,
      "overflow_y": null,
      "padding": null,
      "right": null,
      "top": null,
      "visibility": null,
      "width": null
     }
    },
    "f8619c3e55e04d7badba8d7d84dc4f66": {
     "model_module": "@jupyter-widgets/controls",
     "model_name": "DescriptionStyleModel",
     "state": {
      "_model_module": "@jupyter-widgets/controls",
      "_model_module_version": "1.5.0",
      "_model_name": "DescriptionStyleModel",
      "_view_count": null,
      "_view_module": "@jupyter-widgets/base",
      "_view_module_version": "1.2.0",
      "_view_name": "StyleView",
      "description_width": ""
     }
    },
    "fb8ba560dbe0484389407aa4434b6f7e": {
     "model_module": "@jupyter-widgets/controls",
     "model_name": "ProgressStyleModel",
     "state": {
      "_model_module": "@jupyter-widgets/controls",
      "_model_module_version": "1.5.0",
      "_model_name": "ProgressStyleModel",
      "_view_count": null,
      "_view_module": "@jupyter-widgets/base",
      "_view_module_version": "1.2.0",
      "_view_name": "StyleView",
      "bar_color": null,
      "description_width": "initial"
     }
    }
   }
  }
 },
 "nbformat": 4,
 "nbformat_minor": 1
}
