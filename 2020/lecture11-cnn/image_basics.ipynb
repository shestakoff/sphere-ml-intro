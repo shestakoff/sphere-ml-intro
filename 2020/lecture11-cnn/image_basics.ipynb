{
 "cells": [
  {
   "cell_type": "markdown",
   "metadata": {
    "toc": true
   },
   "source": [
    "<h1>Table of Contents<span class=\"tocSkip\"></span></h1>\n",
    "<div class=\"toc\"><ul class=\"toc-item\"><li><span><a href=\"#Pooling\" data-toc-modified-id=\"Pooling-1\"><span class=\"toc-item-num\">1&nbsp;&nbsp;</span>Pooling</a></span></li><li><span><a href=\"#Convolution:-Feature-Transformation\" data-toc-modified-id=\"Convolution:-Feature-Transformation-2\"><span class=\"toc-item-num\">2&nbsp;&nbsp;</span>Convolution: Feature Transformation</a></span></li><li><span><a href=\"#Convolution:-Pattern-Finder\" data-toc-modified-id=\"Convolution:-Pattern-Finder-3\"><span class=\"toc-item-num\">3&nbsp;&nbsp;</span>Convolution: Pattern Finder</a></span></li><li><span><a href=\"#Color-Image:-multidimensional-array\" data-toc-modified-id=\"Color-Image:-multidimensional-array-4\"><span class=\"toc-item-num\">4&nbsp;&nbsp;</span>Color Image: multidimensional array</a></span></li><li><span><a href=\"#CIFAR-CNN\" data-toc-modified-id=\"CIFAR-CNN-5\"><span class=\"toc-item-num\">5&nbsp;&nbsp;</span>CIFAR CNN</a></span></li></ul></div>"
   ]
  },
  {
   "cell_type": "code",
   "execution_count": null,
   "metadata": {
    "ExecuteTime": {
     "end_time": "2020-12-08T08:41:14.125826Z",
     "start_time": "2020-12-08T08:41:09.340711Z"
    }
   },
   "outputs": [],
   "source": [
    "import os\n",
    "\n",
    "import PIL\n",
    "import pandas as pd\n",
    "import numpy as np\n",
    "import matplotlib.pyplot as plt\n",
    "import tensorflow as tf"
   ]
  },
  {
   "cell_type": "code",
   "execution_count": null,
   "metadata": {},
   "outputs": [],
   "source": [
    "# Uncomment if you are using colab\n",
    "# !mkdir ./data\n",
    "\n",
    "# !wget https://raw.githubusercontent.com/shestakoff/sphere-ml-intro/master/2020/lecture11-cnn/data/house_processed.jpeg -O ./data/house_processed.jpeg\n",
    "# !wget https://raw.githubusercontent.com/shestakoff/sphere-ml-intro/master/2020/lecture11-cnn/data/msu.jpg -O ./data/msu.jpg"
   ]
  },
  {
   "cell_type": "code",
   "execution_count": null,
   "metadata": {
    "ExecuteTime": {
     "end_time": "2020-12-08T10:19:43.538025Z",
     "start_time": "2020-12-08T10:19:43.382605Z"
    }
   },
   "outputs": [],
   "source": [
    "img = PIL.Image.open(\"./data/house_processed.jpeg\").convert('L')\n",
    "np_img = np.array(img).astype(\"float32\")\n",
    "\n",
    "image = np_img.reshape(1, np_img.shape[0], np_img.shape[1], 1)"
   ]
  },
  {
   "cell_type": "code",
   "execution_count": null,
   "metadata": {
    "ExecuteTime": {
     "end_time": "2020-12-08T10:19:43.947319Z",
     "start_time": "2020-12-08T10:19:43.930832Z"
    }
   },
   "outputs": [],
   "source": [
    "def show_image(image, figsize=(8,8)):\n",
    "    plt.figure(figsize=figsize)\n",
    "    plt.imshow(image, cmap=\"gray\")\n",
    "    plt.axis(\"off\");\n",
    "    plt.show()"
   ]
  },
  {
   "cell_type": "code",
   "execution_count": null,
   "metadata": {
    "ExecuteTime": {
     "end_time": "2020-12-08T10:19:45.179194Z",
     "start_time": "2020-12-08T10:19:44.597930Z"
    }
   },
   "outputs": [],
   "source": [
    "show_image(image[0, :, :, 0])"
   ]
  },
  {
   "cell_type": "markdown",
   "metadata": {},
   "source": [
    "# Pooling"
   ]
  },
  {
   "cell_type": "code",
   "execution_count": null,
   "metadata": {
    "ExecuteTime": {
     "end_time": "2020-12-08T10:19:46.717750Z",
     "start_time": "2020-12-08T10:19:46.413070Z"
    }
   },
   "outputs": [],
   "source": [
    "pooled_image = image.copy()\n",
    "\n",
    "for i in range(2):\n",
    "    pooled_image = tf.nn.avg_pool2d(pooled_image, ksize=(1,2,2,1), strides=(1,2,2,1), padding=\"SAME\")\n",
    "    show_image(pooled_image[0], figsize=(8 // (2 ** i), 8 // (2 ** i)))"
   ]
  },
  {
   "cell_type": "markdown",
   "metadata": {},
   "source": [
    "# Convolution: Feature Transformation"
   ]
  },
  {
   "cell_type": "code",
   "execution_count": null,
   "metadata": {
    "ExecuteTime": {
     "end_time": "2020-12-08T10:19:48.151384Z",
     "start_time": "2020-12-08T10:19:47.495717Z"
    }
   },
   "outputs": [],
   "source": [
    "filters =np.stack([\n",
    "    np.array([\n",
    "        [[0], [0], [0]],\n",
    "        [[0], [1], [0]],\n",
    "        [[0], [0], [0]]\n",
    "    ]),\n",
    "    np.array([\n",
    "        [[1], [1], [1]],\n",
    "        [[1], [1], [1]],\n",
    "        [[1], [1], [1]]\n",
    "    ]) / 9,\n",
    "    np.array([\n",
    "        [[1], [0], [-1]],\n",
    "        [[2], [0], [-2]],\n",
    "        [[1], [0], [-1]]\n",
    "    ]),\n",
    "    np.array([\n",
    "        [[1], [2], [1]],\n",
    "        [[0], [0], [0]],\n",
    "        [[-1], [-2], [-1]]\n",
    "    ])\n",
    "],\n",
    "    axis=-1\n",
    ")\n",
    "\n",
    "outputs = tf.nn.conv2d(image, filters, strides=1, padding=\"VALID\")\n",
    "\n",
    "for i in range(filters.shape[-1]):\n",
    "    result = tf.abs(outputs[0, :, :, i])\n",
    "    show_image(result)"
   ]
  },
  {
   "cell_type": "code",
   "execution_count": null,
   "metadata": {
    "ExecuteTime": {
     "end_time": "2020-12-08T10:19:48.401558Z",
     "start_time": "2020-12-08T10:19:48.206336Z"
    }
   },
   "outputs": [],
   "source": [
    "sobol = tf.sqrt(outputs[0, :, :, 2] ** 2 + outputs[0, :, :, 3] ** 2)\n",
    "show_image(sobol)"
   ]
  },
  {
   "cell_type": "markdown",
   "metadata": {},
   "source": [
    "# Convolution: Pattern Finder"
   ]
  },
  {
   "cell_type": "code",
   "execution_count": null,
   "metadata": {
    "ExecuteTime": {
     "end_time": "2020-12-08T10:19:49.648298Z",
     "start_time": "2020-12-08T10:19:49.358609Z"
    }
   },
   "outputs": [],
   "source": [
    "show_image(pooled_image[0,:,:,0])\n",
    "\n",
    "filters = np.zeros(shape=(3, 3, 1, 2), dtype=np.float32)\n",
    "filters[:, 1, :, 0] = 1 \n",
    "filters[1, :, :, 1] = 1\n",
    "\n",
    "outputs = tf.nn.conv2d(pooled_image, filters, strides=1, padding=\"VALID\")\n",
    "\n",
    "show_image(outputs[0, :, :, 0])\n",
    "show_image(outputs[0, :, :, 1])"
   ]
  },
  {
   "cell_type": "markdown",
   "metadata": {},
   "source": [
    "# Color Image: multidimensional array"
   ]
  },
  {
   "cell_type": "code",
   "execution_count": null,
   "metadata": {
    "ExecuteTime": {
     "end_time": "2020-12-08T10:19:50.332931Z",
     "start_time": "2020-12-08T10:19:50.301447Z"
    }
   },
   "outputs": [],
   "source": [
    "msu = PIL.Image.open(\"./data/msu.jpg\")"
   ]
  },
  {
   "cell_type": "code",
   "execution_count": null,
   "metadata": {
    "ExecuteTime": {
     "end_time": "2020-12-08T10:19:51.136304Z",
     "start_time": "2020-12-08T10:19:50.853856Z"
    }
   },
   "outputs": [],
   "source": [
    "plt.figure(figsize=(12,5))\n",
    "plt.imshow(msu)\n",
    "plt.axis(\"off\");"
   ]
  },
  {
   "cell_type": "code",
   "execution_count": null,
   "metadata": {
    "ExecuteTime": {
     "end_time": "2020-12-08T10:19:52.462093Z",
     "start_time": "2020-12-08T10:19:52.452731Z"
    }
   },
   "outputs": [],
   "source": [
    "np_msu = np.array(msu)"
   ]
  },
  {
   "cell_type": "code",
   "execution_count": null,
   "metadata": {
    "ExecuteTime": {
     "end_time": "2020-12-08T10:19:52.919276Z",
     "start_time": "2020-12-08T10:19:52.913972Z"
    }
   },
   "outputs": [],
   "source": [
    "np_msu.shape"
   ]
  },
  {
   "cell_type": "code",
   "execution_count": null,
   "metadata": {
    "ExecuteTime": {
     "end_time": "2020-12-08T10:19:55.023611Z",
     "start_time": "2020-12-08T10:19:53.401098Z"
    }
   },
   "outputs": [],
   "source": [
    "plt.figure(figsize=(60,60))\n",
    "plt.subplot(131)\n",
    "plt.imshow(np_msu[:,:,0], cmap=\"gray\")\n",
    "plt.axis(\"off\")\n",
    "plt.subplot(132)\n",
    "plt.imshow(np_msu[:,:,1], cmap=\"gray\")\n",
    "plt.axis(\"off\")\n",
    "plt.subplot(133)\n",
    "plt.imshow(np_msu[:,:,2], cmap=\"gray\")\n",
    "plt.axis(\"off\")\n",
    "plt.show()"
   ]
  },
  {
   "cell_type": "markdown",
   "metadata": {},
   "source": [
    "# CIFAR CNN"
   ]
  },
  {
   "cell_type": "code",
   "execution_count": null,
   "metadata": {
    "ExecuteTime": {
     "end_time": "2020-12-08T10:19:58.030222Z",
     "start_time": "2020-12-08T10:19:56.378960Z"
    }
   },
   "outputs": [],
   "source": [
    "(x_train, y_train), (x_test, y_test) = tf.keras.datasets.cifar10.load_data()\n",
    "x_train, x_test = x_train / 255.0, x_test / 255.0\n",
    "y_train, y_test = y_train.flatten(), y_test.flatten()"
   ]
  },
  {
   "cell_type": "code",
   "execution_count": null,
   "metadata": {
    "ExecuteTime": {
     "end_time": "2020-12-08T10:20:01.446458Z",
     "start_time": "2020-12-08T10:19:58.032615Z"
    }
   },
   "outputs": [],
   "source": [
    "class_names = [\n",
    "    \"airplane\", \"automobile\", \"bird\", \"cat\", \"deer\",\n",
    "    \"dog\", \"frog\", \"horse\", \"ship\", \"truck\"\n",
    "]\n",
    "\n",
    "N_ROWS = 5\n",
    "N_COLS = 5\n",
    "\n",
    "plt.figure(figsize=(10,10))\n",
    "for i in range(N_ROWS * N_COLS):\n",
    "    plt.subplot(N_ROWS, N_COLS, i + 1)\n",
    "    plt.title(class_names[y_train[i]])\n",
    "    plt.imshow(x_train[i])\n",
    "    plt.axis(\"off\")\n",
    "plt.show()"
   ]
  },
  {
   "cell_type": "code",
   "execution_count": null,
   "metadata": {
    "ExecuteTime": {
     "end_time": "2020-12-08T10:20:05.065823Z",
     "start_time": "2020-12-08T10:20:05.059710Z"
    }
   },
   "outputs": [],
   "source": [
    "K = np.unique(y_train).size\n",
    "print(\"number of classes:\", K)"
   ]
  },
  {
   "cell_type": "code",
   "execution_count": null,
   "metadata": {
    "ExecuteTime": {
     "end_time": "2020-12-08T08:41:22.008950Z",
     "start_time": "2020-12-08T08:41:21.918386Z"
    }
   },
   "outputs": [],
   "source": [
    "model = tf.keras.models.Sequential([\n",
    "    tf.keras.layers.Input(shape=[32, 32, 3]),\n",
    "    tf.keras.layers.Conv2D(filters=32, kernel_size=(3, 3), strides=2),\n",
    "    tf.keras.layers.Conv2D(filters=64, kernel_size=(3, 3), strides=2),\n",
    "    tf.keras.layers.Conv2D(filters=128, kernel_size=(3, 3), strides=2),\n",
    "    tf.keras.layers.Flatten(),\n",
    "    tf.keras.layers.Dense(1024),\n",
    "    tf.keras.layers.Dense(K)\n",
    "])"
   ]
  },
  {
   "cell_type": "code",
   "execution_count": null,
   "metadata": {
    "ExecuteTime": {
     "end_time": "2020-12-08T08:43:04.650563Z",
     "start_time": "2020-12-08T08:41:22.011581Z"
    }
   },
   "outputs": [],
   "source": [
    "model.compile(\n",
    "    optimizer=\"adam\",\n",
    "    loss=\"sparse_categorical_crossentropy\",\n",
    "    metrics=\"accuracy\"\n",
    ")\n",
    "\n",
    "history = model.fit(\n",
    "    x_train, y_train, validation_data=(x_test, y_test),\n",
    "    epochs=5, batch_size=32\n",
    ")"
   ]
  },
  {
   "cell_type": "code",
   "execution_count": null,
   "metadata": {},
   "outputs": [],
   "source": []
  }
 ],
 "metadata": {
  "kernelspec": {
   "display_name": "tf_env",
   "language": "python",
   "name": "tf_env"
  },
  "language_info": {
   "codemirror_mode": {
    "name": "ipython",
    "version": 3
   },
   "file_extension": ".py",
   "mimetype": "text/x-python",
   "name": "python",
   "nbconvert_exporter": "python",
   "pygments_lexer": "ipython3",
   "version": "3.7.6"
  },
  "toc": {
   "base_numbering": 1,
   "nav_menu": {},
   "number_sections": true,
   "sideBar": true,
   "skip_h1_title": false,
   "title_cell": "Table of Contents",
   "title_sidebar": "Contents",
   "toc_cell": true,
   "toc_position": {},
   "toc_section_display": true,
   "toc_window_display": false
  }
 },
 "nbformat": 4,
 "nbformat_minor": 2
}
