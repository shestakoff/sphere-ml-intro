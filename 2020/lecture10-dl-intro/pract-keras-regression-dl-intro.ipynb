{
 "cells": [
  {
   "cell_type": "markdown",
   "metadata": {},
   "source": [
    "<center><img src=\"img/header.png\"></center>\n",
    "\n",
    "<h2><center>Лекция 10: Нейронные сети. Основы. (Тыкаем в керас)</center></h2>\n",
    "<h3><center>Шестаков Андрей</center></h3>"
   ]
  },
  {
   "cell_type": "code",
   "execution_count": null,
   "metadata": {},
   "outputs": [],
   "source": [
    "from tensorflow import keras\n",
    "import matplotlib.pyplot as plt\n",
    "import numpy as np\n",
    "from tensorflow.keras import layers as L\n",
    "from sklearn.model_selection import train_test_split"
   ]
  },
  {
   "cell_type": "markdown",
   "metadata": {},
   "source": [
    "# Keras и TensorFlow\n",
    "\n",
    "<center><img src='./img/tf.png'></center>"
   ]
  },
  {
   "cell_type": "markdown",
   "metadata": {},
   "source": [
    "[TensorFlow](https://www.tensorflow.org/) - библиотека от Google для эффективного выполнения численных операций на графах вычислений.\n",
    "\n",
    "Чтобы написать модель на TF надо\n",
    "\n",
    "1. Сформировать граф вычислений (что на входе, что на выходе, как считать функцию потерь)\n",
    "2. Запустить сессию по расчету графа (выделить память, подать на вход данные)\n",
    "3. Немножно подождать..\n",
    "\n",
    "TensorFlow за вас посчитает все нужные производные, если нужно, раскидает данные на кластер видеокарт, подготовит красивый [дэшборд](https://www.tensorflow.org/tensorboard/r1/summaries) с саммари процесса обучение и тп\n",
    "\n",
    "Единственная проблема - исследовательский код на TF достаточно тяжело писать. И тут на помощь приходит [Keras](https://www.tensorflow.org/guide/keras), который совсем недавно влился в TF.\n",
    "\n",
    "Keras - это библиотека-обертка с большим количеством предопределенных примитивов для глубокого обучения. В ней буквально можно собирать нейронные сети по кирпичикам, что мы сейчас и сделаем."
   ]
  },
  {
   "cell_type": "markdown",
   "metadata": {},
   "source": [
    "# Создаём dataset"
   ]
  },
  {
   "cell_type": "code",
   "execution_count": null,
   "metadata": {},
   "outputs": [],
   "source": [
    "def create_dataset(start=0, stop=5, size=1000):\n",
    "    X = np.linspace(start=start, stop=stop, num=size)\n",
    "    y = np.exp(X) + np.sin(X)*20\n",
    "    \n",
    "    return (X, y)"
   ]
  },
  {
   "cell_type": "code",
   "execution_count": null,
   "metadata": {},
   "outputs": [],
   "source": [
    "X, y = create_dataset()"
   ]
  },
  {
   "cell_type": "code",
   "execution_count": null,
   "metadata": {},
   "outputs": [],
   "source": [
    "seed = 47"
   ]
  },
  {
   "cell_type": "code",
   "execution_count": null,
   "metadata": {},
   "outputs": [],
   "source": [
    "X_train, X_test, y_train, y_test = train_test_split(X, y, test_size=0.33, random_state=seed)"
   ]
  },
  {
   "cell_type": "code",
   "execution_count": null,
   "metadata": {},
   "outputs": [],
   "source": [
    "plt.plot(X, y)\n",
    "plt.grid()\n",
    "plt.title('Dataset')\n",
    "plt.ylabel('Y')\n",
    "plt.xlabel('X')\n",
    "plt.show()"
   ]
  },
  {
   "cell_type": "code",
   "execution_count": null,
   "metadata": {},
   "outputs": [],
   "source": [
    "def plot_loss(train_loss, val_loss):\n",
    "    plt.plot(train_loss, label='train_loss')\n",
    "    plt.plot(val_loss, label='val_loss')\n",
    "    plt.grid()\n",
    "    plt.legend()\n",
    "    plt.ylabel('Loss')\n",
    "    plt.xlabel('Epoch')\n",
    "    plt.show()"
   ]
  },
  {
   "cell_type": "markdown",
   "metadata": {},
   "source": [
    "# Обучаю модель linear regression"
   ]
  },
  {
   "cell_type": "code",
   "execution_count": null,
   "metadata": {},
   "outputs": [],
   "source": [
    "def baseline_model():\n",
    "    # create model\n",
    "    model = keras.Sequential()\n",
    "    model.add(L.Dense(1, input_dim=1, kernel_initializer='normal', activation='linear'))\n",
    "    # Compile model\n",
    "    model.compile(loss='mean_squared_error', optimizer='adamax')\n",
    "    return model"
   ]
  },
  {
   "cell_type": "markdown",
   "metadata": {},
   "source": [
    "## Обучаем модель"
   ]
  },
  {
   "cell_type": "code",
   "execution_count": null,
   "metadata": {},
   "outputs": [],
   "source": [
    "reg_model = baseline_model()\n",
    "\n",
    "metrics = \\\n",
    "reg_model.fit(X_train, y_train, validation_data=(X_test,y_test), \n",
    "              batch_size=128, epochs=5000, verbose=0)"
   ]
  },
  {
   "cell_type": "markdown",
   "metadata": {},
   "source": [
    "## Визуализируем loss на train и val"
   ]
  },
  {
   "cell_type": "code",
   "execution_count": null,
   "metadata": {},
   "outputs": [],
   "source": [
    "plot_loss(metrics.history['loss'], metrics.history['val_loss'])"
   ]
  },
  {
   "cell_type": "markdown",
   "metadata": {},
   "source": [
    "## Смотрим на качество аппроксимации"
   ]
  },
  {
   "cell_type": "code",
   "execution_count": null,
   "metadata": {},
   "outputs": [],
   "source": [
    "y_pred = reg_model.predict(X_test)"
   ]
  },
  {
   "cell_type": "code",
   "execution_count": null,
   "metadata": {},
   "outputs": [],
   "source": [
    "train_arg = np.argsort(X_train)\n",
    "test_arg = np.argsort(X_test)\n",
    "\n",
    "plt.plot(X_train[train_arg], y_train[train_arg])\n",
    "plt.plot(X_test[test_arg], y_pred[test_arg])\n",
    "plt.grid()\n",
    "plt.show()"
   ]
  },
  {
   "cell_type": "markdown",
   "metadata": {},
   "source": [
    "# Добавляем 1 слой сети"
   ]
  },
  {
   "cell_type": "code",
   "execution_count": null,
   "metadata": {},
   "outputs": [],
   "source": [
    "def deep_model_v1():\n",
    "    # create model\n",
    "    model = keras.Sequential()\n",
    "    model.add(L.Dense(1, input_dim=1, kernel_initializer='normal', activation='linear'))\n",
    "    model.add(L.Dense(10, input_dim=1, kernel_initializer='normal', activation='sigmoid'))\n",
    "    model.add(L.Dense(1, activation='linear', kernel_initializer='normal'))\n",
    "    # Compile model\n",
    "    model.compile(loss='mean_squared_error', optimizer='adam')\n",
    "    return model"
   ]
  },
  {
   "cell_type": "code",
   "execution_count": null,
   "metadata": {},
   "outputs": [],
   "source": [
    "reg_model = deep_model_v1()\n",
    "metrics = \\\n",
    "reg_model.fit(X_train, y_train, validation_data=(X_test,y_test), \n",
    "              batch_size=256, epochs=5000, verbose=0)"
   ]
  },
  {
   "cell_type": "code",
   "execution_count": null,
   "metadata": {},
   "outputs": [],
   "source": [
    "plot_loss(metrics.history['loss'], metrics.history['val_loss'])"
   ]
  },
  {
   "cell_type": "code",
   "execution_count": null,
   "metadata": {},
   "outputs": [],
   "source": [
    "y_pred = reg_model.predict(X_test)"
   ]
  },
  {
   "cell_type": "code",
   "execution_count": null,
   "metadata": {},
   "outputs": [],
   "source": [
    "train_arg = np.argsort(X_train)\n",
    "test_arg = np.argsort(X_test)\n",
    "\n",
    "plt.plot(X_train[train_arg], y_train[train_arg])\n",
    "plt.plot(X_test[test_arg], y_pred[test_arg])\n",
    "plt.grid()\n",
    "plt.show()"
   ]
  }
 ],
 "metadata": {
  "kernelspec": {
   "display_name": "Python 3",
   "language": "python",
   "name": "python3"
  },
  "language_info": {
   "codemirror_mode": {
    "name": "ipython",
    "version": 3
   },
   "file_extension": ".py",
   "mimetype": "text/x-python",
   "name": "python",
   "nbconvert_exporter": "python",
   "pygments_lexer": "ipython3",
   "version": "3.7.3"
  },
  "toc": {
   "base_numbering": 1,
   "nav_menu": {
    "height": "155px",
    "width": "252px"
   },
   "number_sections": false,
   "sideBar": true,
   "skip_h1_title": false,
   "title_cell": "Table of Contents",
   "title_sidebar": "Contents",
   "toc_cell": false,
   "toc_position": {},
   "toc_section_display": "block",
   "toc_window_display": true
  }
 },
 "nbformat": 4,
 "nbformat_minor": 2
}
