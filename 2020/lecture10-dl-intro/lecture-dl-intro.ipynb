{
 "cells": [
  {
   "cell_type": "markdown",
   "metadata": {
    "slideshow": {
     "slide_type": "slide"
    }
   },
   "source": [
    "<center><img src=\"img/header.png\"></center>\n",
    "\n",
    "<h1><center>Введение в машинное обучение</center></h1>\n",
    "<hr>\n",
    "<h2><center>Лекция 10: Нейронные сети. Основы.</center></h2>\n",
    "<h3><center>Шестаков Андрей</center></h3>"
   ]
  },
  {
   "cell_type": "code",
   "execution_count": 1,
   "metadata": {
    "slideshow": {
     "slide_type": "notes"
    }
   },
   "outputs": [],
   "source": [
    "%matplotlib inline"
   ]
  },
  {
   "cell_type": "code",
   "execution_count": 2,
   "metadata": {
    "slideshow": {
     "slide_type": "notes"
    }
   },
   "outputs": [],
   "source": [
    "import pandas as pd\n",
    "import numpy as np\n",
    "import matplotlib.pyplot as plt\n",
    "\n",
    "plt.style.use('seaborn-talk')\n",
    "plt.rcParams['figure.figsize'] = (12,8)\n",
    "\n",
    "# Для кириллицы на графиках\n",
    "font = {'family': 'Verdana',\n",
    "        'weight': 'normal'}\n",
    "plt.rc('font', **font)\n",
    "\n",
    "try:\n",
    "    from ipywidgets import interact, IntSlider, fixed, FloatSlider\n",
    "except ImportError:\n",
    "    print(u'Так надо')"
   ]
  },
  {
   "cell_type": "markdown",
   "metadata": {
    "slideshow": {
     "slide_type": "slide"
    }
   },
   "source": [
    "# Примеры использования"
   ]
  },
  {
   "cell_type": "markdown",
   "metadata": {
    "slideshow": {
     "slide_type": "subslide"
    }
   },
   "source": [
    "## Описание изображений и детектирование объектов\n",
    "\n",
    "\n",
    "<center><img src='./img/nn-img-descr.png'></center>"
   ]
  },
  {
   "cell_type": "markdown",
   "metadata": {
    "slideshow": {
     "slide_type": "subslide"
    }
   },
   "source": [
    "## Добавление цветов\n",
    "<center><img src='./img/nn-bw2col.png'></center>"
   ]
  },
  {
   "cell_type": "markdown",
   "metadata": {
    "slideshow": {
     "slide_type": "subslide"
    }
   },
   "source": [
    "## Победить людишек в играх\n",
    "\n",
    "<center><img src='./img/nn-skynet.png'></center>"
   ]
  },
  {
   "cell_type": "markdown",
   "metadata": {
    "slideshow": {
     "slide_type": "subslide"
    }
   },
   "source": [
    "## Генерация изображения\n",
    "\n",
    "<center><img src='./img/nn-img-from-scratch.png'></center>"
   ]
  },
  {
   "cell_type": "markdown",
   "metadata": {
    "slideshow": {
     "slide_type": "subslide"
    }
   },
   "source": [
    "### Генерация изображений\n",
    "<center><img src='./img/nn-style-transfer.png'></center>"
   ]
  },
  {
   "cell_type": "markdown",
   "metadata": {
    "slideshow": {
     "slide_type": "subslide"
    }
   },
   "source": [
    "## NLP модели\n",
    "\n",
    "<center><img width=800 src='./img/openai-gpt-3.png'></center>\n",
    "<center><img width=600 src='./img/hilton-gtp3.png'></center>"
   ]
  },
  {
   "cell_type": "markdown",
   "metadata": {
    "slideshow": {
     "slide_type": "subslide"
    }
   },
   "source": [
    "# Аналогия с \"биологическим\" мозгом\n",
    "\n",
    "* \"Искусственные\" нейронные сети - попытка имитировать работу \"биологического\" мозга\n",
    "<style type=\"text/css\">\n",
    ".tg  {border-collapse:collapse;border-spacing:0;}\n",
    ".tg td{font-family:Arial, sans-serif;font-size:14px;padding:10px 5px;border-style:solid;border-width:1px;overflow:hidden;word-break:normal;}\n",
    ".tg th{font-family:Arial, sans-serif;font-size:14px;font-weight:normal;padding:10px 5px;border-style:solid;border-width:1px;overflow:hidden;word-break:normal;}\n",
    "</style>\n",
    "<table class=\"tg\">\n",
    "  <tr>\n",
    "    <th class=\"tg-031e\"> <img width=400 src='img/human_brain.png'></th>\n",
    "    <th class=\"tg-031e\"> <img width=500 src='img/neural-network-cells.jpg'></th>\n",
    "  </tr>\n",
    "</table>\n",
    "\n",
    "    * Человеческий мозг состоит из нескольких связанных областей, которые в свою очеред состоят из нейронов\n",
    "    * каждый нейрон время от времени посылает другим нейронам электрические импульсы\n",
    "    * частота подачи сигналов нейрона зависит от сигналов связанных с ним других нейронов\n",
    "    * нейроны могут находиться в двух состояниях - активном (накопленных заряд связанных нейронов высокий) и неактивном (накопленных заряд связанных нейронов низкий)"
   ]
  },
  {
   "cell_type": "markdown",
   "metadata": {
    "slideshow": {
     "slide_type": "subslide"
    }
   },
   "source": [
    "## [Краткая история](https://www.import.io/post/history-of-deep-learning/)\n",
    "\n",
    "* 1943 – Предложена математическая модель нейронов (Walter Pitts и Warren McCulloch)\n",
    "* 1957 – Введение теоретических основ глубоких нейронных сетей (Frank Rosenblatt)\n",
    "* 1965 – Первая \"глубокая\" нейронная сеть\n",
    "* 1979-80 – Распозначавание образов с помощью NN\n",
    "* 1989 – Распознавание рукописных символов (Yann LeCun)\n",
    "* 1997 – Создание Long short-term memory (LSTM) рекурентной нейронной сети (Jürgen Schmidhuber и Sepp Hochreiter)\n",
    "* 2011 – AlexNet\n",
    "* 2014 – Generative Adversarial Networks (GAN)\n",
    "* ...."
   ]
  },
  {
   "cell_type": "markdown",
   "metadata": {
    "slideshow": {
     "slide_type": "subslide"
    }
   },
   "source": [
    "# Модель нейрона\n",
    "\n",
    "<center><img src='img/neuron-diagram.jpg'></center>\n",
    "\n",
    "* Вершины слева - входящие значения (аналогия - значения признаков объекта)\n",
    "* Связи - веса между нейронами (аналогия - веса линейной(логистической) регрессии)\n",
    "* Порог или смещение $b$ (аналогия - свободный член в линейной модели)\n",
    "* $f(\\cdot)$ - функция активации. Некоторое преобразование от суммарного входа в нейрон\n",
    "* Выход нейрона -  $f(b + w_{1}x^{1}+w_{2}x^{2}+...+w_{D}x^{D})$\n"
   ]
  },
  {
   "cell_type": "markdown",
   "metadata": {
    "slideshow": {
     "slide_type": "subslide"
    }
   },
   "source": [
    "## Линейная регрессия как нейронная сеть"
   ]
  },
  {
   "cell_type": "markdown",
   "metadata": {
    "slideshow": {
     "slide_type": "fragment"
    }
   },
   "source": [
    "* Кажется очевидным, что с помощью модели выше можно задать модель линейной регрессии. Для этого надо только определить\n",
    "    * Какой будет вид у $f(\\cdot)$\n",
    "    * Функцию потерь $L(\\cdot)$"
   ]
  },
  {
   "cell_type": "markdown",
   "metadata": {
    "slideshow": {
     "slide_type": "subslide"
    }
   },
   "source": [
    "## Логистическая регрессия как нейронная сеть"
   ]
  },
  {
   "cell_type": "markdown",
   "metadata": {
    "slideshow": {
     "slide_type": "fragment"
    }
   },
   "source": [
    "* Как с помощью модели выше задать логистическую регрессию?\n",
    "    * Какой будет вид у $f(\\cdot)$\n",
    "    * Функция потерь $L(\\cdot)$"
   ]
  },
  {
   "cell_type": "markdown",
   "metadata": {
    "slideshow": {
     "slide_type": "subslide"
    }
   },
   "source": [
    "## Можно не ограничиваться одним нейроном и объединять их в слои!\n",
    "\n",
    "<center><img src='img/nn-layers.png'></center>\n",
    "\n",
    "* У каждого нейрона есть вход и выход\n",
    "* Нейроны объединяются в слои:\n",
    "    * Входящий (входные данные)\n",
    "    * Скрытый(-ые) (все промежуточные нейроны)\n",
    "    * Выходящий (ответ нейронной сети целеком)"
   ]
  },
  {
   "cell_type": "markdown",
   "metadata": {
    "slideshow": {
     "slide_type": "subslide"
    }
   },
   "source": [
    "## [TensorFlow PlayGround](https://playground.tensorflow.org)"
   ]
  },
  {
   "cell_type": "markdown",
   "metadata": {
    "slideshow": {
     "slide_type": "subslide"
    }
   },
   "source": [
    "## Немного про функции активации\n",
    "* В начале занятия были разные слова про активацию нейронов\n",
    "* В математическом смысле это значило бы, что $f(\\cdot)$ - это пороговая функция\n",
    "* Если $b + w_{1}x^{1}+w_{2}x^{2}+...+w_{D}x^{D} > 0$ то $f(\\cdot) = 1$ и $0$ - иначе\n",
    "* Проблема в том, что с такими функциями неприятно работать - считать производные для корректировки весов и тп\n",
    "* Выход - преложить сглаженные аналоги пороговой функции \n",
    "\n",
    "<center><img src='img/sigmoid approximates step function.png'></center>"
   ]
  },
  {
   "cell_type": "markdown",
   "metadata": {
    "slideshow": {
     "slide_type": "subslide"
    }
   },
   "source": [
    "### Стандартные функции активации\n",
    "\n",
    "* сигмойда: $\\sigma(x)=\\frac{1}{1+e^{-x}}$ \n",
    "     * 1-layer neural network with sigmoidal activation is equivalent to logistic regression\n",
    "     <center><img src='img/sigmoid-activation-function.png', width=700></center>\n",
    "* гиперболический тангенс: $tangh(x)=\\frac{e^{x}-e^{-x}}{e^{x}+e^{-x}}$ \n",
    "    <center><img src='img/tanh-1.png', width=700></center>\n"
   ]
  },
  {
   "cell_type": "markdown",
   "metadata": {
    "slideshow": {
     "slide_type": "subslide"
    }
   },
   "source": [
    "* ReLU: $f(x)=[x]_{+}$.\n",
    "\n",
    "<center><img src='img/relu-activation-function-1.png', width=700></center>"
   ]
  },
  {
   "cell_type": "markdown",
   "metadata": {
    "slideshow": {
     "slide_type": "subslide"
    }
   },
   "source": [
    "### А вообще их очень много разных\n",
    "\n",
    "<center><img src='img/activ_functions.png', width=1200></center>"
   ]
  },
  {
   "cell_type": "markdown",
   "metadata": {
    "slideshow": {
     "slide_type": "slide"
    }
   },
   "source": [
    "# Обучение нейронных сетей\n",
    "\n",
    "* Короткий ответ - с помощью градиентного спуска и **обратного распространения ошибки**\n",
    "* Вспомним основные ингридиенты градиентного спуска:\n",
    "    * Функция потерь - $L(y,\\hat{y})$\n",
    "    * Градиенты весов - $\\nabla_w L = \\left( \\frac{\\partial L}{\\partial w_i} \\right)$\n",
    "    * Вдвиг весов - $w = w - \\alpha\\nabla_w L$"
   ]
  },
  {
   "cell_type": "markdown",
   "metadata": {
    "slideshow": {
     "slide_type": "subslide"
    }
   },
   "source": [
    "## Немного формул\n",
    "\n",
    "<center><img src='img/nn-layers.png'></center>\n",
    "\n",
    "* Обозначим каждый нейрон через $j$.\n",
    "* Пусть $I_{j}$ - вход в нейрон $j$, $O_{j}$ - выход из нейрона $j$\n",
    "* Тогда $j$: $I_{j}=\\sum_{k\\in inc(j)}w_{kj}O_{k}+w_{0j}$,\n",
    "* И $j$: $O_{j}=f(I_{j})$.\n",
    "\n",
    "    * $w_{0j}$ - свободный коэффициент\n",
    "    * $f(x)$ функция активации\n",
    "    * $inc(j)$ можество нейроной, который идут на вход в $j$.\n",
    "    * Для простоты будем считать, что во всех формулах уже по умолчанию включет свободный коэффициент\n",
    "\n",
    "$$\n",
    "I_{j}=\\sum_{k\\in inc(j)}w_{kj}O_{k} \n",
    "$$"
   ]
  },
  {
   "cell_type": "markdown",
   "metadata": {
    "slideshow": {
     "slide_type": "subslide"
    }
   },
   "source": [
    "## Backpropagation (Обратное распространение ошибок)\n",
    "\n",
    "\n",
    "<center><img src='img/backprop_spidey.jpeg', width=800></center>"
   ]
  },
  {
   "cell_type": "markdown",
   "metadata": {
    "slideshow": {
     "slide_type": "subslide"
    }
   },
   "source": [
    "## Идея\n",
    "\n",
    "<center><img src='img/backprop.png'></center>"
   ]
  },
  {
   "cell_type": "markdown",
   "metadata": {
    "slideshow": {
     "slide_type": "subslide"
    }
   },
   "source": [
    "## Еще формулы\n",
    "\n",
    "* Пусть $w_{ij}$ - вес, расположеный на связи между $i$-м и $j$-м нейроном\n",
    "* Запишем \"ошибку на $j$-м нейроне\" как $\\delta_j = \\frac{\\partial L}{\\partial I_j} =  \\frac{\\partial L}{\\partial O_j}\\frac{\\partial O_j}{\\partial I_j}$\n",
    "* Так как ошибка $L$ зависи от $w_{ij}$ как $L(w_{ij}) = L\\left(O_j\\left(I_j(w_{ij})\\right)\\right)$, воспользуемся правилом дифференцирования сложной функции:\n",
    "$$ \\frac{\\partial L}{\\partial w_{ij}} = \\frac{\\partial L}{\\partial I_j}\\frac{\\partial I_j}{\\partial w_{ij}} = \\delta_j O_i$$\n",
    "так как $\\frac{\\partial I_j}{\\partial w_{ij}} = \\frac{\\partial}{\\partial w_{ij}} \\left(\\sum\\limits_{k\\in inc(j)} w_{kj} O_k\\right) = O_i$\n"
   ]
  },
  {
   "cell_type": "markdown",
   "metadata": {
    "slideshow": {
     "slide_type": "subslide"
    }
   },
   "source": [
    "## Случай выходного слоя\n",
    "\n",
    "* Если нейрон $j$ относится к выходному слою, то $\\delta_j$ считается не сложно\n",
    "$$ \\delta_j= \\frac{\\partial L}{\\partial O_j}\\frac{\\partial O_j}{\\partial I_j} = \\frac{\\partial L}{\\partial O_j} f'(I_j) \\qquad (1)$$\n",
    "* Пример:\n",
    "    * Функция потерь $L = \\frac{1}{2}\\sum\\limits_{j\\in OL}(O_j - y)^2$\n",
    "    $$ \\frac{\\partial L}{\\partial O_j} = O_j - y $$\n",
    "    * Функция активации - сигмойда $O_j = \\sigma(I_j)$:\n",
    "    $$ f'(I_j) = \\sigma(I_j)(1-\\sigma(I_j)) = O_j(1-O_j) $$\n",
    "    * Тогда\n",
    "    $$ \\delta_j = (O_j - y_j)O_j(1-O_j)$$"
   ]
  },
  {
   "cell_type": "markdown",
   "metadata": {
    "slideshow": {
     "slide_type": "subslide"
    }
   },
   "source": [
    "## Случай промежуточных слоев\n",
    "\n",
    "* Пусть нейрон $j$ относится к промежуточному слою\n",
    "* Обозначим через $out(j) = \\{k_1, k_2, \\dots, k_m\\}$ множество нейронов, которые принимают на вход $j$ \n",
    "* Влияние $O_j$ на функцию потерь $L$ характеризуется через $I_{k_1},I_{k_2},\\dots,I_{k_m}$, поэтому\n",
    "$$ \\frac{\\partial L(O_j)}{\\partial O_j} = \\frac{\\partial L(I_{k_1},I_{k_2},\\dots,I_{k_m})}{\\partial O_j} = \\sum\\limits_{k\\in out(j)} \\left( \\frac{\\partial L}{\\partial I_k} \\frac{\\partial I_k}{\\partial O_j} \\right) = \\sum\\limits_{k\\in out(j)} \\left(\\delta_k w_{jk}\\right)$$\n",
    "* Для нейронов промежуточного слоя имеем:\n",
    "$$ \\delta_j = \\frac{\\partial L}{\\partial I_j} =  \\frac{\\partial L}{\\partial O_j}\\frac{\\partial O_j}{\\partial I_j} = \\sum\\limits_{k\\in out(j)} \\left(\\delta_k w_{jk}\\right) f'(I_j) \\qquad (2)$$\n",
    "* А производные весов считаются следующим образом:\n",
    "$$ \\frac{\\partial L}{\\partial w_{ij}} = \\frac{\\partial L}{\\partial I_j}\\frac{\\partial I_j}{\\partial w_{ij}} = \\delta_jO_i \\qquad (3)$$\n"
   ]
  },
  {
   "cell_type": "markdown",
   "metadata": {
    "slideshow": {
     "slide_type": "subslide"
    }
   },
   "source": [
    "## Шаги алгоритма\n",
    "\n",
    "1. Пускаем в прямом направлении сети объект $x_n$, запоминаем $I_j$ и $O_j$ каждого нейрона\n",
    "2. Считаем $\\delta_i$ для каждого нейрона $i \\in$ по формуле $(1)$\n",
    "$$ \\delta_j = \\frac{\\partial L}{\\partial O_j} f'(I_j) $$\n",
    "3. Распростнанем $\\delta_i$ в обратном направлении по слоям $(2)$\n",
    "$$ \\delta_j = \\sum\\limits_{k\\in out(j)} \\left(\\delta_k w_{jk}\\right) f'(I_j)$$\n",
    "4. Считаем производные весов $\\frac{\\partial L}{\\partial w_{ij}}$ по формлуе $(3)$\n",
    "$$ \\frac{\\partial L}{\\partial w_{ij}} = \\delta_jO_i $$\n",
    "И обновляем их\n"
   ]
  },
  {
   "cell_type": "markdown",
   "metadata": {
    "slideshow": {
     "slide_type": "subslide"
    }
   },
   "source": [
    "<center><img src='img/backprop2.gif'></center>"
   ]
  },
  {
   "cell_type": "markdown",
   "metadata": {
    "slideshow": {
     "slide_type": "subslide"
    }
   },
   "source": [
    "### Проблема локального минимума\n",
    "\n",
    "* Функция потерь является **не выпуклой**.\n",
    "<center><img src='img/optimization.gif'></center>"
   ]
  },
  {
   "cell_type": "code",
   "execution_count": 3,
   "metadata": {
    "slideshow": {
     "slide_type": "notes"
    }
   },
   "outputs": [],
   "source": [
    "def sigmoid(x):\n",
    "    return 1./(np.exp(-x) + 1)"
   ]
  },
  {
   "cell_type": "markdown",
   "metadata": {
    "slideshow": {
     "slide_type": "subslide"
    }
   },
   "source": [
    "### Проблема затухающих градиентов"
   ]
  },
  {
   "cell_type": "code",
   "execution_count": 4,
   "metadata": {
    "slideshow": {
     "slide_type": "fragment"
    }
   },
   "outputs": [
    {
     "data": {
      "text/plain": [
       "[<matplotlib.lines.Line2D at 0x11d480828>]"
      ]
     },
     "execution_count": 4,
     "metadata": {},
     "output_type": "execute_result"
    },
    {
     "data": {
      "image/png": "[encoded data removed]",
      "text/plain": [
       "<Figure size 1296x864 with 1 Axes>"
      ]
     },
     "metadata": {
      "needs_background": "light"
     },
     "output_type": "display_data"
    }
   ],
   "source": [
    "x = np.linspace(-10, 10, 1000)\n",
    "gr_sigm = sigmoid(x)*(1-sigmoid(x))\n",
    "\n",
    "plt.plot(x, gr_sigm)"
   ]
  },
  {
   "cell_type": "markdown",
   "metadata": {
    "slideshow": {
     "slide_type": "fragment"
    }
   },
   "source": [
    "### Может помочь\n",
    "* Нормализация признаков\n",
    "* Хорошая инициализация весов [подробнее тут](http://www.deeplearning.ai/ai-notes/initialization/)\n",
    "* Использование функции активации ReLU"
   ]
  },
  {
   "cell_type": "markdown",
   "metadata": {
    "slideshow": {
     "slide_type": "subslide"
    }
   },
   "source": [
    "## Регуляризация\n",
    "\n",
    "* Упрощение модели:\n",
    "    * понижаем количество слоев и нейронов\n",
    "* Классические техники ограничения весов\n",
    "    * L2 regularization\n",
    "    $$ L(w) + \\lambda\\sum_i w_i^2 $$\n",
    "* Аугментация данных\n",
    "* Dropout"
   ]
  },
  {
   "cell_type": "markdown",
   "metadata": {
    "slideshow": {
     "slide_type": "subslide"
    }
   },
   "source": [
    "## Dropout\n",
    "\n",
    "<center><img src='img/dropout.png'></center>\n"
   ]
  },
  {
   "cell_type": "markdown",
   "metadata": {
    "slideshow": {
     "slide_type": "subslide"
    }
   },
   "source": [
    "# Полезные ссылки\n",
    "* [Yes you should understand backprop](https://medium.com/@karpathy/yes-you-should-understand-backprop-e2f06eab496b)\n",
    "* [CS231N](http://cs231n.github.io/)\n",
    "* [Кодинг нейронки с 0](https://www.youtube.com/watch?v=o64FV-ez6Gw)\n",
    "* [Про обучение еще более детально](https://www.deeplearningbook.org/contents/mlp.html)"
   ]
  }
 ],
 "metadata": {
  "celltoolbar": "Slideshow",
  "kernelspec": {
   "display_name": "Python 3",
   "language": "python",
   "name": "python3"
  },
  "language_info": {
   "codemirror_mode": {
    "name": "ipython",
    "version": 3
   },
   "file_extension": ".py",
   "mimetype": "text/x-python",
   "name": "python",
   "nbconvert_exporter": "python",
   "pygments_lexer": "ipython3",
   "version": "3.7.3"
  },
  "livereveal": {
   "theme": "serif",
   "transition": "concave"
  },
  "toc": {
   "base_numbering": 1,
   "nav_menu": {},
   "number_sections": false,
   "sideBar": true,
   "skip_h1_title": false,
   "title_cell": "Table of Contents",
   "title_sidebar": "Contents",
   "toc_cell": false,
   "toc_position": {},
   "toc_section_display": true,
   "toc_window_display": false
  }
 },
 "nbformat": 4,
 "nbformat_minor": 4
}
